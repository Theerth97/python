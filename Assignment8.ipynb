{
 "cells": [
  {
   "cell_type": "code",
   "execution_count": 6,
   "id": "ccd313c3",
   "metadata": {},
   "outputs": [
    {
     "name": "stdout",
     "output_type": "stream",
     "text": [
      "156\n",
      "Harshad\n"
     ]
    }
   ],
   "source": [
    "n = int(input())\n",
    "t=n\n",
    "s=0\n",
    "while n>0:\n",
    "  r = n%10\n",
    "  s += r\n",
    "  n //= 10\n",
    "if t%s==0:\n",
    "  print(\"Harshad\")\n",
    "else:\n",
    "  print(\"Not Harshad\")"
   ]
  },
  {
   "cell_type": "code",
   "execution_count": 13,
   "id": "65e7b2b5",
   "metadata": {},
   "outputs": [
    {
     "ename": "IndentationError",
     "evalue": "expected an indented block (<ipython-input-13-fd6100cd204c>, line 9)",
     "output_type": "error",
     "traceback": [
      "\u001b[1;36m  File \u001b[1;32m\"<ipython-input-13-fd6100cd204c>\"\u001b[1;36m, line \u001b[1;32m9\u001b[0m\n\u001b[1;33m    digit = temp % 10\u001b[0m\n\u001b[1;37m    ^\u001b[0m\n\u001b[1;31mIndentationError\u001b[0m\u001b[1;31m:\u001b[0m expected an indented block\n"
     ]
    }
   ],
   "source": [
    "# Python program to check if the number provided by the user is an Armstrong number or not\n",
    "# take input from the user\n",
    "num = int(input(\"Enter a number: \"))\n",
    "# initialize sum\n",
    "sum = 0\n",
    "# find the sum of the cube of each digit\n",
    "temp = num\n",
    "while temp > 0:\n",
    "digit = temp % 10\n",
    "sum += digit ** 3\n",
    "temp //= 10\n",
    "# display the result\n",
    "if num == sum:\n",
    "print(num,\"is an Armstrong number\")\n",
    "else:\n",
    "print(num,\"is not an Armstrong number\")"
   ]
  },
  {
   "cell_type": "code",
   "execution_count": 14,
   "id": "93521861",
   "metadata": {},
   "outputs": [
    {
     "name": "stdout",
     "output_type": "stream",
     "text": [
      "Input a number\n",
      "145\n",
      "True\n"
     ]
    }
   ],
   "source": [
    "def factorial(d):\n",
    "   if(d==1 or d==0):\n",
    "      return 1\n",
    "   return d*factorial(d-1)\n",
    "def isStrong(n):\n",
    "   num=n\n",
    "   sm=0\n",
    "   while(n>0):\n",
    "      digit=n%10\n",
    "      sm=sm+factorial(digit)\n",
    "      n=n//10\n",
    "   if(sm==num):\n",
    "      return True\n",
    "   else:\n",
    "      return False\n",
    "print(\"Input a number\")\n",
    "a=int(input())\n",
    "print(isStrong(a))"
   ]
  },
  {
   "cell_type": "code",
   "execution_count": 15,
   "id": "7874b308",
   "metadata": {},
   "outputs": [
    {
     "name": "stdout",
     "output_type": "stream",
     "text": [
      "Enter an input number:14\n",
      "14 is not a prime number\n"
     ]
    }
   ],
   "source": [
    "def PrimeChecker(a):  \n",
    "    if a > 1:  \n",
    "        for j in range(2, int(a/2) + 1):  \n",
    "            if (a % j) == 0:  \n",
    "                print(a, \"is not a prime number\")  \n",
    "                break  \n",
    "        else:  \n",
    "            print(a, \"is a prime number\")  \n",
    "    else:  \n",
    "        print(a, \"is not a prime number\")  \n",
    "a = int(input(\"Enter an input number:\"))  \n",
    "PrimeChecker(a)"
   ]
  },
  {
   "cell_type": "code",
   "execution_count": 16,
   "id": "ce745364",
   "metadata": {},
   "outputs": [
    {
     "name": "stdout",
     "output_type": "stream",
     "text": [
      "Enter the value of x?12\n",
      "Enter the value of y?24\n",
      "before swapping numbers: 12   24\n",
      "\n",
      "After swapping: 24   12\n",
      "\n"
     ]
    }
   ],
   "source": [
    "x = int(input(\"Enter the value of x?\"))  \n",
    "y = int(input(\"Enter the value of y?\"))  \n",
    "print(\"before swapping numbers: %d   %d\\n\" %(x,y))  \n",
    "x = x + y     \n",
    "y = x - y    \n",
    "x = x - y     \n",
    "print(\"After swapping: %d   %d\\n\"%(x,y))"
   ]
  },
  {
   "cell_type": "code",
   "execution_count": null,
   "id": "0068ee10",
   "metadata": {},
   "outputs": [],
   "source": []
  }
 ],
 "metadata": {
  "kernelspec": {
   "display_name": "Python 3",
   "language": "python",
   "name": "python3"
  },
  "language_info": {
   "codemirror_mode": {
    "name": "ipython",
    "version": 3
   },
   "file_extension": ".py",
   "mimetype": "text/x-python",
   "name": "python",
   "nbconvert_exporter": "python",
   "pygments_lexer": "ipython3",
   "version": "3.8.8"
  }
 },
 "nbformat": 4,
 "nbformat_minor": 5
}
