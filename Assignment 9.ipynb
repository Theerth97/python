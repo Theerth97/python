{
 "cells": [
  {
   "cell_type": "code",
   "execution_count": 33,
   "id": "b12205f7",
   "metadata": {},
   "outputs": [
    {
     "name": "stdout",
     "output_type": "stream",
     "text": [
      "1 2 3 4 5\n",
      "4 2"
     ]
    }
   ],
   "source": [
    "x=[int(i) for i in input().split()]\n",
    "x.sort()\n",
    "print(x[len(x)-2],end=\" \")\n",
    "print(x[1],end=\"\")"
   ]
  },
  {
   "cell_type": "code",
   "execution_count": 34,
   "id": "5da70e8a",
   "metadata": {},
   "outputs": [
    {
     "name": "stdout",
     "output_type": "stream",
     "text": [
      "1 2 3 4 5 6 5\n",
      "1 2 3 4 6"
     ]
    }
   ],
   "source": [
    "x=[int(i) for i in input().split()]\n",
    "l=[]\n",
    "for j in x:\n",
    "    if j%5!=0:\n",
    "        l.append(j)\n",
    "for k in range(len(l)):\n",
    "    if k!=len(l)-1:\n",
    "        print(l[k],end=\" \")\n",
    "    else:\n",
    "        print(l[k],end=\"\")"
   ]
  },
  {
   "cell_type": "code",
   "execution_count": 35,
   "id": "70cb7b96",
   "metadata": {},
   "outputs": [
    {
     "name": "stdout",
     "output_type": "stream",
     "text": [
      "12 24 35 24 88 120 155 88 120 155\n",
      "12 24 35 88 120 155"
     ]
    }
   ],
   "source": [
    "o=list(map(int,input().split()))\n",
    "d=[]\n",
    "for i in o:\n",
    "  if i not in d:\n",
    "    d.append(i)\n",
    "print(*d,end=\"\")"
   ]
  },
  {
   "cell_type": "code",
   "execution_count": null,
   "id": "73a8fe1d",
   "metadata": {},
   "outputs": [],
   "source": []
  }
 ],
 "metadata": {
  "kernelspec": {
   "display_name": "Python 3",
   "language": "python",
   "name": "python3"
  },
  "language_info": {
   "codemirror_mode": {
    "name": "ipython",
    "version": 3
   },
   "file_extension": ".py",
   "mimetype": "text/x-python",
   "name": "python",
   "nbconvert_exporter": "python",
   "pygments_lexer": "ipython3",
   "version": "3.8.8"
  }
 },
 "nbformat": 4,
 "nbformat_minor": 5
}
