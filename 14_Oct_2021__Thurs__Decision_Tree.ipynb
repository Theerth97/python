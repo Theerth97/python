{
  "nbformat": 4,
  "nbformat_minor": 5,
  "metadata": {
    "kernelspec": {
      "display_name": "Python 3",
      "language": "python",
      "name": "python3"
    },
    "language_info": {
      "codemirror_mode": {
        "name": "ipython",
        "version": 3
      },
      "file_extension": ".py",
      "mimetype": "text/x-python",
      "name": "python",
      "nbconvert_exporter": "python",
      "pygments_lexer": "ipython3",
      "version": "3.8.8"
    },
    "colab": {
      "name": "14_Oct_2021__Thurs__Decision_Tree.ipynb",
      "provenance": []
    }
  },
  "cells": [
    {
      "cell_type": "code",
      "metadata": {
        "id": "d68bff23"
      },
      "source": [
        "# Jovian Commit Essentials\n",
        "# Please retain and execute this cell without modifying the contents for `jovian.commit` to work\n",
        "!pip install jovian --upgrade -q\n",
        "import jovian\n",
        "jovian.set_project('14-oct-2021-thurs-decision-tree')\n",
        "jovian.set_colab_id('1kQ3nNnAmV6yrgSyMyACO2VkUwQyRnhLN')"
      ],
      "id": "d68bff23",
      "execution_count": null,
      "outputs": []
    },
    {
      "cell_type": "markdown",
      "metadata": {
        "id": "2b12512e"
      },
      "source": [
        "#### The goal is to predict the survival of passengers travelling in RMS Titanic using Decision Tree."
      ],
      "id": "2b12512e"
    },
    {
      "cell_type": "code",
      "metadata": {
        "id": "a7f19155"
      },
      "source": [
        "import numpy as np\n",
        "import pandas as pd\n",
        "import matplotlib.pyplot as plt\n",
        "import seaborn as sns\n",
        "\n",
        "import warnings\n",
        "warnings.filterwarnings(\"ignore\")"
      ],
      "id": "a7f19155",
      "execution_count": null,
      "outputs": []
    },
    {
      "cell_type": "code",
      "metadata": {
        "id": "5e234c7a",
        "outputId": "85dfb86e-7c50-46fd-8010-9a8a12451946"
      },
      "source": [
        "df = pd.read_csv(\"https://raw.githubusercontent.com/ingledarshan/upGrad_Darshan/main/titanic.csv\")\n",
        "df.shape"
      ],
      "id": "5e234c7a",
      "execution_count": null,
      "outputs": [
        {
          "data": {
            "text/plain": [
              "(891, 12)"
            ]
          },
          "execution_count": 2,
          "metadata": {},
          "output_type": "execute_result"
        }
      ]
    },
    {
      "cell_type": "code",
      "metadata": {
        "id": "9ac74556",
        "outputId": "3e18bbc1-bb58-4511-b49c-34aeb0824473"
      },
      "source": [
        "df.head()"
      ],
      "id": "9ac74556",
      "execution_count": null,
      "outputs": [
        {
          "data": {
            "text/html": [
              "<div>\n",
              "<style scoped>\n",
              "    .dataframe tbody tr th:only-of-type {\n",
              "        vertical-align: middle;\n",
              "    }\n",
              "\n",
              "    .dataframe tbody tr th {\n",
              "        vertical-align: top;\n",
              "    }\n",
              "\n",
              "    .dataframe thead th {\n",
              "        text-align: right;\n",
              "    }\n",
              "</style>\n",
              "<table border=\"1\" class=\"dataframe\">\n",
              "  <thead>\n",
              "    <tr style=\"text-align: right;\">\n",
              "      <th></th>\n",
              "      <th>PassengerId</th>\n",
              "      <th>Survived</th>\n",
              "      <th>Pclass</th>\n",
              "      <th>Name</th>\n",
              "      <th>Sex</th>\n",
              "      <th>Age</th>\n",
              "      <th>SibSp</th>\n",
              "      <th>Parch</th>\n",
              "      <th>Ticket</th>\n",
              "      <th>Fare</th>\n",
              "      <th>Cabin</th>\n",
              "      <th>Embarked</th>\n",
              "    </tr>\n",
              "  </thead>\n",
              "  <tbody>\n",
              "    <tr>\n",
              "      <th>0</th>\n",
              "      <td>1</td>\n",
              "      <td>0</td>\n",
              "      <td>3</td>\n",
              "      <td>Braund, Mr. Owen Harris</td>\n",
              "      <td>male</td>\n",
              "      <td>22.0</td>\n",
              "      <td>1</td>\n",
              "      <td>0</td>\n",
              "      <td>A/5 21171</td>\n",
              "      <td>7.2500</td>\n",
              "      <td>NaN</td>\n",
              "      <td>S</td>\n",
              "    </tr>\n",
              "    <tr>\n",
              "      <th>1</th>\n",
              "      <td>2</td>\n",
              "      <td>1</td>\n",
              "      <td>1</td>\n",
              "      <td>Cumings, Mrs. John Bradley (Florence Briggs Th...</td>\n",
              "      <td>female</td>\n",
              "      <td>38.0</td>\n",
              "      <td>1</td>\n",
              "      <td>0</td>\n",
              "      <td>PC 17599</td>\n",
              "      <td>71.2833</td>\n",
              "      <td>C85</td>\n",
              "      <td>C</td>\n",
              "    </tr>\n",
              "    <tr>\n",
              "      <th>2</th>\n",
              "      <td>3</td>\n",
              "      <td>1</td>\n",
              "      <td>3</td>\n",
              "      <td>Heikkinen, Miss. Laina</td>\n",
              "      <td>female</td>\n",
              "      <td>26.0</td>\n",
              "      <td>0</td>\n",
              "      <td>0</td>\n",
              "      <td>STON/O2. 3101282</td>\n",
              "      <td>7.9250</td>\n",
              "      <td>NaN</td>\n",
              "      <td>S</td>\n",
              "    </tr>\n",
              "    <tr>\n",
              "      <th>3</th>\n",
              "      <td>4</td>\n",
              "      <td>1</td>\n",
              "      <td>1</td>\n",
              "      <td>Futrelle, Mrs. Jacques Heath (Lily May Peel)</td>\n",
              "      <td>female</td>\n",
              "      <td>35.0</td>\n",
              "      <td>1</td>\n",
              "      <td>0</td>\n",
              "      <td>113803</td>\n",
              "      <td>53.1000</td>\n",
              "      <td>C123</td>\n",
              "      <td>S</td>\n",
              "    </tr>\n",
              "    <tr>\n",
              "      <th>4</th>\n",
              "      <td>5</td>\n",
              "      <td>0</td>\n",
              "      <td>3</td>\n",
              "      <td>Allen, Mr. William Henry</td>\n",
              "      <td>male</td>\n",
              "      <td>35.0</td>\n",
              "      <td>0</td>\n",
              "      <td>0</td>\n",
              "      <td>373450</td>\n",
              "      <td>8.0500</td>\n",
              "      <td>NaN</td>\n",
              "      <td>S</td>\n",
              "    </tr>\n",
              "  </tbody>\n",
              "</table>\n",
              "</div>"
            ],
            "text/plain": [
              "   PassengerId  Survived  Pclass  \\\n",
              "0            1         0       3   \n",
              "1            2         1       1   \n",
              "2            3         1       3   \n",
              "3            4         1       1   \n",
              "4            5         0       3   \n",
              "\n",
              "                                                Name     Sex   Age  SibSp  \\\n",
              "0                            Braund, Mr. Owen Harris    male  22.0      1   \n",
              "1  Cumings, Mrs. John Bradley (Florence Briggs Th...  female  38.0      1   \n",
              "2                             Heikkinen, Miss. Laina  female  26.0      0   \n",
              "3       Futrelle, Mrs. Jacques Heath (Lily May Peel)  female  35.0      1   \n",
              "4                           Allen, Mr. William Henry    male  35.0      0   \n",
              "\n",
              "   Parch            Ticket     Fare Cabin Embarked  \n",
              "0      0         A/5 21171   7.2500   NaN        S  \n",
              "1      0          PC 17599  71.2833   C85        C  \n",
              "2      0  STON/O2. 3101282   7.9250   NaN        S  \n",
              "3      0            113803  53.1000  C123        S  \n",
              "4      0            373450   8.0500   NaN        S  "
            ]
          },
          "execution_count": 3,
          "metadata": {},
          "output_type": "execute_result"
        }
      ]
    },
    {
      "cell_type": "code",
      "metadata": {
        "id": "454b0405",
        "outputId": "95d3ab57-02ce-4393-ddc3-b17d8afe4cde"
      },
      "source": [
        "df.isna().sum()"
      ],
      "id": "454b0405",
      "execution_count": null,
      "outputs": [
        {
          "data": {
            "text/plain": [
              "PassengerId      0\n",
              "Survived         0\n",
              "Pclass           0\n",
              "Name             0\n",
              "Sex              0\n",
              "Age            177\n",
              "SibSp            0\n",
              "Parch            0\n",
              "Ticket           0\n",
              "Fare             0\n",
              "Cabin          687\n",
              "Embarked         2\n",
              "dtype: int64"
            ]
          },
          "execution_count": 4,
          "metadata": {},
          "output_type": "execute_result"
        }
      ]
    },
    {
      "cell_type": "code",
      "metadata": {
        "id": "4fd23825",
        "outputId": "e108059a-dd5d-4f96-e581-ce5d44edd021"
      },
      "source": [
        "df.isna().sum().sort_values(ascending=False)"
      ],
      "id": "4fd23825",
      "execution_count": null,
      "outputs": [
        {
          "data": {
            "text/plain": [
              "Cabin          687\n",
              "Age            177\n",
              "Embarked         2\n",
              "PassengerId      0\n",
              "Survived         0\n",
              "Pclass           0\n",
              "Name             0\n",
              "Sex              0\n",
              "SibSp            0\n",
              "Parch            0\n",
              "Ticket           0\n",
              "Fare             0\n",
              "dtype: int64"
            ]
          },
          "execution_count": 5,
          "metadata": {},
          "output_type": "execute_result"
        }
      ]
    },
    {
      "cell_type": "code",
      "metadata": {
        "id": "755a6c23",
        "outputId": "b94ddd86-4faf-462c-f60b-18e2e1db0842"
      },
      "source": [
        "df.drop(['Cabin'],axis=1, inplace=True)\n",
        "df.isna().sum().sort_values(ascending=False)"
      ],
      "id": "755a6c23",
      "execution_count": null,
      "outputs": [
        {
          "data": {
            "text/plain": [
              "Age            177\n",
              "Embarked         2\n",
              "PassengerId      0\n",
              "Survived         0\n",
              "Pclass           0\n",
              "Name             0\n",
              "Sex              0\n",
              "SibSp            0\n",
              "Parch            0\n",
              "Ticket           0\n",
              "Fare             0\n",
              "dtype: int64"
            ]
          },
          "execution_count": 6,
          "metadata": {},
          "output_type": "execute_result"
        }
      ]
    },
    {
      "cell_type": "code",
      "metadata": {
        "id": "4323ad06",
        "outputId": "744b8a13-bdb4-439b-8e18-c715196d9244"
      },
      "source": [
        "df.Embarked.value_counts()"
      ],
      "id": "4323ad06",
      "execution_count": null,
      "outputs": [
        {
          "data": {
            "text/plain": [
              "S    644\n",
              "C    168\n",
              "Q     77\n",
              "Name: Embarked, dtype: int64"
            ]
          },
          "execution_count": 7,
          "metadata": {},
          "output_type": "execute_result"
        }
      ]
    },
    {
      "cell_type": "code",
      "metadata": {
        "id": "506a7e42",
        "outputId": "806da110-a69e-4d33-b5e3-36257747d35a"
      },
      "source": [
        "df.Embarked.mode()[0]"
      ],
      "id": "506a7e42",
      "execution_count": null,
      "outputs": [
        {
          "data": {
            "text/plain": [
              "'S'"
            ]
          },
          "execution_count": 8,
          "metadata": {},
          "output_type": "execute_result"
        }
      ]
    },
    {
      "cell_type": "code",
      "metadata": {
        "id": "f89ad7eb",
        "outputId": "6c2a08ab-e7c3-4800-b9e7-7c50526a4403"
      },
      "source": [
        "df.Embarked.fillna(df.Embarked.mode()[0], inplace=True)\n",
        "df.isna().sum().sort_values(ascending=False)"
      ],
      "id": "f89ad7eb",
      "execution_count": null,
      "outputs": [
        {
          "data": {
            "text/plain": [
              "Age            177\n",
              "PassengerId      0\n",
              "Survived         0\n",
              "Pclass           0\n",
              "Name             0\n",
              "Sex              0\n",
              "SibSp            0\n",
              "Parch            0\n",
              "Ticket           0\n",
              "Fare             0\n",
              "Embarked         0\n",
              "dtype: int64"
            ]
          },
          "execution_count": 9,
          "metadata": {},
          "output_type": "execute_result"
        }
      ]
    },
    {
      "cell_type": "code",
      "metadata": {
        "id": "e26c6bcc",
        "outputId": "c259382f-30c7-4e51-db4b-73cd4090ee59"
      },
      "source": [
        "df.Age.describe()"
      ],
      "id": "e26c6bcc",
      "execution_count": null,
      "outputs": [
        {
          "data": {
            "text/plain": [
              "count    714.000000\n",
              "mean      29.699118\n",
              "std       14.526497\n",
              "min        0.420000\n",
              "25%       20.125000\n",
              "50%       28.000000\n",
              "75%       38.000000\n",
              "max       80.000000\n",
              "Name: Age, dtype: float64"
            ]
          },
          "execution_count": 10,
          "metadata": {},
          "output_type": "execute_result"
        }
      ]
    },
    {
      "cell_type": "code",
      "metadata": {
        "id": "3cf4be6c",
        "outputId": "29446012-aa1e-4d3b-8130-57b31b120495"
      },
      "source": [
        "sns.distplot(df.Age)\n",
        "plt.axvline(df.Age.mean(), color='r')\n",
        "plt.axvline(df.Age.median(), color='r')\n",
        "plt.show()"
      ],
      "id": "3cf4be6c",
      "execution_count": null,
      "outputs": [
        {
          "data": {
            "image/png": "[encoded data removed]",
            "text/plain": [
              "<Figure size 432x288 with 1 Axes>"
            ]
          },
          "metadata": {
            "needs_background": "light"
          },
          "output_type": "display_data"
        }
      ]
    },
    {
      "cell_type": "code",
      "metadata": {
        "id": "3bc30e5d",
        "outputId": "930a225d-f617-481d-99b3-aeddb4a147de"
      },
      "source": [
        "df.Age.mean()"
      ],
      "id": "3bc30e5d",
      "execution_count": null,
      "outputs": [
        {
          "data": {
            "text/plain": [
              "29.69911764705882"
            ]
          },
          "execution_count": 12,
          "metadata": {},
          "output_type": "execute_result"
        }
      ]
    },
    {
      "cell_type": "code",
      "metadata": {
        "id": "961f9bde",
        "outputId": "a64a0f3e-b9df-40bb-e5b0-6fcc2f215eae"
      },
      "source": [
        "df.Age.fillna(df.Age.mean(), inplace=True)\n",
        "df.isna().sum().sort_values(ascending=False)"
      ],
      "id": "961f9bde",
      "execution_count": null,
      "outputs": [
        {
          "data": {
            "text/plain": [
              "PassengerId    0\n",
              "Survived       0\n",
              "Pclass         0\n",
              "Name           0\n",
              "Sex            0\n",
              "Age            0\n",
              "SibSp          0\n",
              "Parch          0\n",
              "Ticket         0\n",
              "Fare           0\n",
              "Embarked       0\n",
              "dtype: int64"
            ]
          },
          "execution_count": 13,
          "metadata": {},
          "output_type": "execute_result"
        }
      ]
    },
    {
      "cell_type": "markdown",
      "metadata": {
        "id": "0a812027"
      },
      "source": [
        "# Feature Engineering"
      ],
      "id": "0a812027"
    },
    {
      "cell_type": "code",
      "metadata": {
        "id": "3d89807c",
        "outputId": "1ab69865-b3a0-42cd-8679-408f0e51b72c"
      },
      "source": [
        "df.head()"
      ],
      "id": "3d89807c",
      "execution_count": null,
      "outputs": [
        {
          "data": {
            "text/html": [
              "<div>\n",
              "<style scoped>\n",
              "    .dataframe tbody tr th:only-of-type {\n",
              "        vertical-align: middle;\n",
              "    }\n",
              "\n",
              "    .dataframe tbody tr th {\n",
              "        vertical-align: top;\n",
              "    }\n",
              "\n",
              "    .dataframe thead th {\n",
              "        text-align: right;\n",
              "    }\n",
              "</style>\n",
              "<table border=\"1\" class=\"dataframe\">\n",
              "  <thead>\n",
              "    <tr style=\"text-align: right;\">\n",
              "      <th></th>\n",
              "      <th>PassengerId</th>\n",
              "      <th>Survived</th>\n",
              "      <th>Pclass</th>\n",
              "      <th>Name</th>\n",
              "      <th>Sex</th>\n",
              "      <th>Age</th>\n",
              "      <th>SibSp</th>\n",
              "      <th>Parch</th>\n",
              "      <th>Ticket</th>\n",
              "      <th>Fare</th>\n",
              "      <th>Embarked</th>\n",
              "    </tr>\n",
              "  </thead>\n",
              "  <tbody>\n",
              "    <tr>\n",
              "      <th>0</th>\n",
              "      <td>1</td>\n",
              "      <td>0</td>\n",
              "      <td>3</td>\n",
              "      <td>Braund, Mr. Owen Harris</td>\n",
              "      <td>male</td>\n",
              "      <td>22.0</td>\n",
              "      <td>1</td>\n",
              "      <td>0</td>\n",
              "      <td>A/5 21171</td>\n",
              "      <td>7.2500</td>\n",
              "      <td>S</td>\n",
              "    </tr>\n",
              "    <tr>\n",
              "      <th>1</th>\n",
              "      <td>2</td>\n",
              "      <td>1</td>\n",
              "      <td>1</td>\n",
              "      <td>Cumings, Mrs. John Bradley (Florence Briggs Th...</td>\n",
              "      <td>female</td>\n",
              "      <td>38.0</td>\n",
              "      <td>1</td>\n",
              "      <td>0</td>\n",
              "      <td>PC 17599</td>\n",
              "      <td>71.2833</td>\n",
              "      <td>C</td>\n",
              "    </tr>\n",
              "    <tr>\n",
              "      <th>2</th>\n",
              "      <td>3</td>\n",
              "      <td>1</td>\n",
              "      <td>3</td>\n",
              "      <td>Heikkinen, Miss. Laina</td>\n",
              "      <td>female</td>\n",
              "      <td>26.0</td>\n",
              "      <td>0</td>\n",
              "      <td>0</td>\n",
              "      <td>STON/O2. 3101282</td>\n",
              "      <td>7.9250</td>\n",
              "      <td>S</td>\n",
              "    </tr>\n",
              "    <tr>\n",
              "      <th>3</th>\n",
              "      <td>4</td>\n",
              "      <td>1</td>\n",
              "      <td>1</td>\n",
              "      <td>Futrelle, Mrs. Jacques Heath (Lily May Peel)</td>\n",
              "      <td>female</td>\n",
              "      <td>35.0</td>\n",
              "      <td>1</td>\n",
              "      <td>0</td>\n",
              "      <td>113803</td>\n",
              "      <td>53.1000</td>\n",
              "      <td>S</td>\n",
              "    </tr>\n",
              "    <tr>\n",
              "      <th>4</th>\n",
              "      <td>5</td>\n",
              "      <td>0</td>\n",
              "      <td>3</td>\n",
              "      <td>Allen, Mr. William Henry</td>\n",
              "      <td>male</td>\n",
              "      <td>35.0</td>\n",
              "      <td>0</td>\n",
              "      <td>0</td>\n",
              "      <td>373450</td>\n",
              "      <td>8.0500</td>\n",
              "      <td>S</td>\n",
              "    </tr>\n",
              "  </tbody>\n",
              "</table>\n",
              "</div>"
            ],
            "text/plain": [
              "   PassengerId  Survived  Pclass  \\\n",
              "0            1         0       3   \n",
              "1            2         1       1   \n",
              "2            3         1       3   \n",
              "3            4         1       1   \n",
              "4            5         0       3   \n",
              "\n",
              "                                                Name     Sex   Age  SibSp  \\\n",
              "0                            Braund, Mr. Owen Harris    male  22.0      1   \n",
              "1  Cumings, Mrs. John Bradley (Florence Briggs Th...  female  38.0      1   \n",
              "2                             Heikkinen, Miss. Laina  female  26.0      0   \n",
              "3       Futrelle, Mrs. Jacques Heath (Lily May Peel)  female  35.0      1   \n",
              "4                           Allen, Mr. William Henry    male  35.0      0   \n",
              "\n",
              "   Parch            Ticket     Fare Embarked  \n",
              "0      0         A/5 21171   7.2500        S  \n",
              "1      0          PC 17599  71.2833        C  \n",
              "2      0  STON/O2. 3101282   7.9250        S  \n",
              "3      0            113803  53.1000        S  \n",
              "4      0            373450   8.0500        S  "
            ]
          },
          "execution_count": 14,
          "metadata": {},
          "output_type": "execute_result"
        }
      ]
    },
    {
      "cell_type": "code",
      "metadata": {
        "id": "4773221c",
        "outputId": "fdd37a46-b7a7-4fca-8847-8cf9a0a5de47"
      },
      "source": [
        "df.SibSp.value_counts()"
      ],
      "id": "4773221c",
      "execution_count": null,
      "outputs": [
        {
          "data": {
            "text/plain": [
              "0    608\n",
              "1    209\n",
              "2     28\n",
              "4     18\n",
              "3     16\n",
              "8      7\n",
              "5      5\n",
              "Name: SibSp, dtype: int64"
            ]
          },
          "execution_count": 15,
          "metadata": {},
          "output_type": "execute_result"
        }
      ]
    },
    {
      "cell_type": "code",
      "metadata": {
        "id": "78de5ff5",
        "outputId": "546975d5-7f0e-47c2-c5d9-e0dc25be6008"
      },
      "source": [
        "df.SibSp.value_counts(normalize=True)*100"
      ],
      "id": "78de5ff5",
      "execution_count": null,
      "outputs": [
        {
          "data": {
            "text/plain": [
              "0    68.237935\n",
              "1    23.456790\n",
              "2     3.142536\n",
              "4     2.020202\n",
              "3     1.795735\n",
              "8     0.785634\n",
              "5     0.561167\n",
              "Name: SibSp, dtype: float64"
            ]
          },
          "execution_count": 16,
          "metadata": {},
          "output_type": "execute_result"
        }
      ]
    },
    {
      "cell_type": "code",
      "metadata": {
        "id": "015c8a44",
        "outputId": "fe1d1c86-33c2-4feb-9349-cf9beebb34b9"
      },
      "source": [
        "df.Parch.value_counts()"
      ],
      "id": "015c8a44",
      "execution_count": null,
      "outputs": [
        {
          "data": {
            "text/plain": [
              "0    678\n",
              "1    118\n",
              "2     80\n",
              "3      5\n",
              "5      5\n",
              "4      4\n",
              "6      1\n",
              "Name: Parch, dtype: int64"
            ]
          },
          "execution_count": 17,
          "metadata": {},
          "output_type": "execute_result"
        }
      ]
    },
    {
      "cell_type": "code",
      "metadata": {
        "id": "2caa06d7",
        "outputId": "ee7c6e3b-3ff5-41ba-d40c-19c4c2feaf39"
      },
      "source": [
        "df.Parch.value_counts(normalize=True)*100"
      ],
      "id": "2caa06d7",
      "execution_count": null,
      "outputs": [
        {
          "data": {
            "text/plain": [
              "0    76.094276\n",
              "1    13.243547\n",
              "2     8.978676\n",
              "3     0.561167\n",
              "5     0.561167\n",
              "4     0.448934\n",
              "6     0.112233\n",
              "Name: Parch, dtype: float64"
            ]
          },
          "execution_count": 18,
          "metadata": {},
          "output_type": "execute_result"
        }
      ]
    },
    {
      "cell_type": "code",
      "metadata": {
        "id": "5a361a57",
        "outputId": "490879d7-919d-49c5-c372-8846c0b78779"
      },
      "source": [
        "df['FamilySize'] = df.SibSp + df.Parch + 1\n",
        "df.head()"
      ],
      "id": "5a361a57",
      "execution_count": null,
      "outputs": [
        {
          "data": {
            "text/html": [
              "<div>\n",
              "<style scoped>\n",
              "    .dataframe tbody tr th:only-of-type {\n",
              "        vertical-align: middle;\n",
              "    }\n",
              "\n",
              "    .dataframe tbody tr th {\n",
              "        vertical-align: top;\n",
              "    }\n",
              "\n",
              "    .dataframe thead th {\n",
              "        text-align: right;\n",
              "    }\n",
              "</style>\n",
              "<table border=\"1\" class=\"dataframe\">\n",
              "  <thead>\n",
              "    <tr style=\"text-align: right;\">\n",
              "      <th></th>\n",
              "      <th>PassengerId</th>\n",
              "      <th>Survived</th>\n",
              "      <th>Pclass</th>\n",
              "      <th>Name</th>\n",
              "      <th>Sex</th>\n",
              "      <th>Age</th>\n",
              "      <th>SibSp</th>\n",
              "      <th>Parch</th>\n",
              "      <th>Ticket</th>\n",
              "      <th>Fare</th>\n",
              "      <th>Embarked</th>\n",
              "      <th>FamilySize</th>\n",
              "    </tr>\n",
              "  </thead>\n",
              "  <tbody>\n",
              "    <tr>\n",
              "      <th>0</th>\n",
              "      <td>1</td>\n",
              "      <td>0</td>\n",
              "      <td>3</td>\n",
              "      <td>Braund, Mr. Owen Harris</td>\n",
              "      <td>male</td>\n",
              "      <td>22.0</td>\n",
              "      <td>1</td>\n",
              "      <td>0</td>\n",
              "      <td>A/5 21171</td>\n",
              "      <td>7.2500</td>\n",
              "      <td>S</td>\n",
              "      <td>2</td>\n",
              "    </tr>\n",
              "    <tr>\n",
              "      <th>1</th>\n",
              "      <td>2</td>\n",
              "      <td>1</td>\n",
              "      <td>1</td>\n",
              "      <td>Cumings, Mrs. John Bradley (Florence Briggs Th...</td>\n",
              "      <td>female</td>\n",
              "      <td>38.0</td>\n",
              "      <td>1</td>\n",
              "      <td>0</td>\n",
              "      <td>PC 17599</td>\n",
              "      <td>71.2833</td>\n",
              "      <td>C</td>\n",
              "      <td>2</td>\n",
              "    </tr>\n",
              "    <tr>\n",
              "      <th>2</th>\n",
              "      <td>3</td>\n",
              "      <td>1</td>\n",
              "      <td>3</td>\n",
              "      <td>Heikkinen, Miss. Laina</td>\n",
              "      <td>female</td>\n",
              "      <td>26.0</td>\n",
              "      <td>0</td>\n",
              "      <td>0</td>\n",
              "      <td>STON/O2. 3101282</td>\n",
              "      <td>7.9250</td>\n",
              "      <td>S</td>\n",
              "      <td>1</td>\n",
              "    </tr>\n",
              "    <tr>\n",
              "      <th>3</th>\n",
              "      <td>4</td>\n",
              "      <td>1</td>\n",
              "      <td>1</td>\n",
              "      <td>Futrelle, Mrs. Jacques Heath (Lily May Peel)</td>\n",
              "      <td>female</td>\n",
              "      <td>35.0</td>\n",
              "      <td>1</td>\n",
              "      <td>0</td>\n",
              "      <td>113803</td>\n",
              "      <td>53.1000</td>\n",
              "      <td>S</td>\n",
              "      <td>2</td>\n",
              "    </tr>\n",
              "    <tr>\n",
              "      <th>4</th>\n",
              "      <td>5</td>\n",
              "      <td>0</td>\n",
              "      <td>3</td>\n",
              "      <td>Allen, Mr. William Henry</td>\n",
              "      <td>male</td>\n",
              "      <td>35.0</td>\n",
              "      <td>0</td>\n",
              "      <td>0</td>\n",
              "      <td>373450</td>\n",
              "      <td>8.0500</td>\n",
              "      <td>S</td>\n",
              "      <td>1</td>\n",
              "    </tr>\n",
              "  </tbody>\n",
              "</table>\n",
              "</div>"
            ],
            "text/plain": [
              "   PassengerId  Survived  Pclass  \\\n",
              "0            1         0       3   \n",
              "1            2         1       1   \n",
              "2            3         1       3   \n",
              "3            4         1       1   \n",
              "4            5         0       3   \n",
              "\n",
              "                                                Name     Sex   Age  SibSp  \\\n",
              "0                            Braund, Mr. Owen Harris    male  22.0      1   \n",
              "1  Cumings, Mrs. John Bradley (Florence Briggs Th...  female  38.0      1   \n",
              "2                             Heikkinen, Miss. Laina  female  26.0      0   \n",
              "3       Futrelle, Mrs. Jacques Heath (Lily May Peel)  female  35.0      1   \n",
              "4                           Allen, Mr. William Henry    male  35.0      0   \n",
              "\n",
              "   Parch            Ticket     Fare Embarked  FamilySize  \n",
              "0      0         A/5 21171   7.2500        S           2  \n",
              "1      0          PC 17599  71.2833        C           2  \n",
              "2      0  STON/O2. 3101282   7.9250        S           1  \n",
              "3      0            113803  53.1000        S           2  \n",
              "4      0            373450   8.0500        S           1  "
            ]
          },
          "execution_count": 19,
          "metadata": {},
          "output_type": "execute_result"
        }
      ]
    },
    {
      "cell_type": "code",
      "metadata": {
        "id": "81d3508e",
        "outputId": "5a60a0cb-fb93-497b-9e12-0cfd61bce1fb"
      },
      "source": [
        "df.sample(5)"
      ],
      "id": "81d3508e",
      "execution_count": null,
      "outputs": [
        {
          "data": {
            "text/html": [
              "<div>\n",
              "<style scoped>\n",
              "    .dataframe tbody tr th:only-of-type {\n",
              "        vertical-align: middle;\n",
              "    }\n",
              "\n",
              "    .dataframe tbody tr th {\n",
              "        vertical-align: top;\n",
              "    }\n",
              "\n",
              "    .dataframe thead th {\n",
              "        text-align: right;\n",
              "    }\n",
              "</style>\n",
              "<table border=\"1\" class=\"dataframe\">\n",
              "  <thead>\n",
              "    <tr style=\"text-align: right;\">\n",
              "      <th></th>\n",
              "      <th>PassengerId</th>\n",
              "      <th>Survived</th>\n",
              "      <th>Pclass</th>\n",
              "      <th>Name</th>\n",
              "      <th>Sex</th>\n",
              "      <th>Age</th>\n",
              "      <th>SibSp</th>\n",
              "      <th>Parch</th>\n",
              "      <th>Ticket</th>\n",
              "      <th>Fare</th>\n",
              "      <th>Embarked</th>\n",
              "      <th>FamilySize</th>\n",
              "    </tr>\n",
              "  </thead>\n",
              "  <tbody>\n",
              "    <tr>\n",
              "      <th>653</th>\n",
              "      <td>654</td>\n",
              "      <td>1</td>\n",
              "      <td>3</td>\n",
              "      <td>O'Leary, Miss. Hanora \"Norah\"</td>\n",
              "      <td>female</td>\n",
              "      <td>29.699118</td>\n",
              "      <td>0</td>\n",
              "      <td>0</td>\n",
              "      <td>330919</td>\n",
              "      <td>7.8292</td>\n",
              "      <td>Q</td>\n",
              "      <td>1</td>\n",
              "    </tr>\n",
              "    <tr>\n",
              "      <th>9</th>\n",
              "      <td>10</td>\n",
              "      <td>1</td>\n",
              "      <td>2</td>\n",
              "      <td>Nasser, Mrs. Nicholas (Adele Achem)</td>\n",
              "      <td>female</td>\n",
              "      <td>14.000000</td>\n",
              "      <td>1</td>\n",
              "      <td>0</td>\n",
              "      <td>237736</td>\n",
              "      <td>30.0708</td>\n",
              "      <td>C</td>\n",
              "      <td>2</td>\n",
              "    </tr>\n",
              "    <tr>\n",
              "      <th>580</th>\n",
              "      <td>581</td>\n",
              "      <td>1</td>\n",
              "      <td>2</td>\n",
              "      <td>Christy, Miss. Julie Rachel</td>\n",
              "      <td>female</td>\n",
              "      <td>25.000000</td>\n",
              "      <td>1</td>\n",
              "      <td>1</td>\n",
              "      <td>237789</td>\n",
              "      <td>30.0000</td>\n",
              "      <td>S</td>\n",
              "      <td>3</td>\n",
              "    </tr>\n",
              "    <tr>\n",
              "      <th>406</th>\n",
              "      <td>407</td>\n",
              "      <td>0</td>\n",
              "      <td>3</td>\n",
              "      <td>Widegren, Mr. Carl/Charles Peter</td>\n",
              "      <td>male</td>\n",
              "      <td>51.000000</td>\n",
              "      <td>0</td>\n",
              "      <td>0</td>\n",
              "      <td>347064</td>\n",
              "      <td>7.7500</td>\n",
              "      <td>S</td>\n",
              "      <td>1</td>\n",
              "    </tr>\n",
              "    <tr>\n",
              "      <th>185</th>\n",
              "      <td>186</td>\n",
              "      <td>0</td>\n",
              "      <td>1</td>\n",
              "      <td>Rood, Mr. Hugh Roscoe</td>\n",
              "      <td>male</td>\n",
              "      <td>29.699118</td>\n",
              "      <td>0</td>\n",
              "      <td>0</td>\n",
              "      <td>113767</td>\n",
              "      <td>50.0000</td>\n",
              "      <td>S</td>\n",
              "      <td>1</td>\n",
              "    </tr>\n",
              "  </tbody>\n",
              "</table>\n",
              "</div>"
            ],
            "text/plain": [
              "     PassengerId  Survived  Pclass                                 Name  \\\n",
              "653          654         1       3        O'Leary, Miss. Hanora \"Norah\"   \n",
              "9             10         1       2  Nasser, Mrs. Nicholas (Adele Achem)   \n",
              "580          581         1       2          Christy, Miss. Julie Rachel   \n",
              "406          407         0       3     Widegren, Mr. Carl/Charles Peter   \n",
              "185          186         0       1                Rood, Mr. Hugh Roscoe   \n",
              "\n",
              "        Sex        Age  SibSp  Parch  Ticket     Fare Embarked  FamilySize  \n",
              "653  female  29.699118      0      0  330919   7.8292        Q           1  \n",
              "9    female  14.000000      1      0  237736  30.0708        C           2  \n",
              "580  female  25.000000      1      1  237789  30.0000        S           3  \n",
              "406    male  51.000000      0      0  347064   7.7500        S           1  \n",
              "185    male  29.699118      0      0  113767  50.0000        S           1  "
            ]
          },
          "execution_count": 20,
          "metadata": {},
          "output_type": "execute_result"
        }
      ]
    },
    {
      "cell_type": "code",
      "metadata": {
        "id": "43749cc3",
        "outputId": "935c5604-fbbd-4dde-f244-57031034f05a"
      },
      "source": [
        "df['GenderClass'] = df.apply(lambda x : 'child' if x['Age']<15 else x['Sex'], axis=1)\n",
        "df.head()"
      ],
      "id": "43749cc3",
      "execution_count": null,
      "outputs": [
        {
          "data": {
            "text/html": [
              "<div>\n",
              "<style scoped>\n",
              "    .dataframe tbody tr th:only-of-type {\n",
              "        vertical-align: middle;\n",
              "    }\n",
              "\n",
              "    .dataframe tbody tr th {\n",
              "        vertical-align: top;\n",
              "    }\n",
              "\n",
              "    .dataframe thead th {\n",
              "        text-align: right;\n",
              "    }\n",
              "</style>\n",
              "<table border=\"1\" class=\"dataframe\">\n",
              "  <thead>\n",
              "    <tr style=\"text-align: right;\">\n",
              "      <th></th>\n",
              "      <th>PassengerId</th>\n",
              "      <th>Survived</th>\n",
              "      <th>Pclass</th>\n",
              "      <th>Name</th>\n",
              "      <th>Sex</th>\n",
              "      <th>Age</th>\n",
              "      <th>SibSp</th>\n",
              "      <th>Parch</th>\n",
              "      <th>Ticket</th>\n",
              "      <th>Fare</th>\n",
              "      <th>Embarked</th>\n",
              "      <th>FamilySize</th>\n",
              "      <th>GenderClass</th>\n",
              "    </tr>\n",
              "  </thead>\n",
              "  <tbody>\n",
              "    <tr>\n",
              "      <th>0</th>\n",
              "      <td>1</td>\n",
              "      <td>0</td>\n",
              "      <td>3</td>\n",
              "      <td>Braund, Mr. Owen Harris</td>\n",
              "      <td>male</td>\n",
              "      <td>22.0</td>\n",
              "      <td>1</td>\n",
              "      <td>0</td>\n",
              "      <td>A/5 21171</td>\n",
              "      <td>7.2500</td>\n",
              "      <td>S</td>\n",
              "      <td>2</td>\n",
              "      <td>male</td>\n",
              "    </tr>\n",
              "    <tr>\n",
              "      <th>1</th>\n",
              "      <td>2</td>\n",
              "      <td>1</td>\n",
              "      <td>1</td>\n",
              "      <td>Cumings, Mrs. John Bradley (Florence Briggs Th...</td>\n",
              "      <td>female</td>\n",
              "      <td>38.0</td>\n",
              "      <td>1</td>\n",
              "      <td>0</td>\n",
              "      <td>PC 17599</td>\n",
              "      <td>71.2833</td>\n",
              "      <td>C</td>\n",
              "      <td>2</td>\n",
              "      <td>female</td>\n",
              "    </tr>\n",
              "    <tr>\n",
              "      <th>2</th>\n",
              "      <td>3</td>\n",
              "      <td>1</td>\n",
              "      <td>3</td>\n",
              "      <td>Heikkinen, Miss. Laina</td>\n",
              "      <td>female</td>\n",
              "      <td>26.0</td>\n",
              "      <td>0</td>\n",
              "      <td>0</td>\n",
              "      <td>STON/O2. 3101282</td>\n",
              "      <td>7.9250</td>\n",
              "      <td>S</td>\n",
              "      <td>1</td>\n",
              "      <td>female</td>\n",
              "    </tr>\n",
              "    <tr>\n",
              "      <th>3</th>\n",
              "      <td>4</td>\n",
              "      <td>1</td>\n",
              "      <td>1</td>\n",
              "      <td>Futrelle, Mrs. Jacques Heath (Lily May Peel)</td>\n",
              "      <td>female</td>\n",
              "      <td>35.0</td>\n",
              "      <td>1</td>\n",
              "      <td>0</td>\n",
              "      <td>113803</td>\n",
              "      <td>53.1000</td>\n",
              "      <td>S</td>\n",
              "      <td>2</td>\n",
              "      <td>female</td>\n",
              "    </tr>\n",
              "    <tr>\n",
              "      <th>4</th>\n",
              "      <td>5</td>\n",
              "      <td>0</td>\n",
              "      <td>3</td>\n",
              "      <td>Allen, Mr. William Henry</td>\n",
              "      <td>male</td>\n",
              "      <td>35.0</td>\n",
              "      <td>0</td>\n",
              "      <td>0</td>\n",
              "      <td>373450</td>\n",
              "      <td>8.0500</td>\n",
              "      <td>S</td>\n",
              "      <td>1</td>\n",
              "      <td>male</td>\n",
              "    </tr>\n",
              "  </tbody>\n",
              "</table>\n",
              "</div>"
            ],
            "text/plain": [
              "   PassengerId  Survived  Pclass  \\\n",
              "0            1         0       3   \n",
              "1            2         1       1   \n",
              "2            3         1       3   \n",
              "3            4         1       1   \n",
              "4            5         0       3   \n",
              "\n",
              "                                                Name     Sex   Age  SibSp  \\\n",
              "0                            Braund, Mr. Owen Harris    male  22.0      1   \n",
              "1  Cumings, Mrs. John Bradley (Florence Briggs Th...  female  38.0      1   \n",
              "2                             Heikkinen, Miss. Laina  female  26.0      0   \n",
              "3       Futrelle, Mrs. Jacques Heath (Lily May Peel)  female  35.0      1   \n",
              "4                           Allen, Mr. William Henry    male  35.0      0   \n",
              "\n",
              "   Parch            Ticket     Fare Embarked  FamilySize GenderClass  \n",
              "0      0         A/5 21171   7.2500        S           2        male  \n",
              "1      0          PC 17599  71.2833        C           2      female  \n",
              "2      0  STON/O2. 3101282   7.9250        S           1      female  \n",
              "3      0            113803  53.1000        S           2      female  \n",
              "4      0            373450   8.0500        S           1        male  "
            ]
          },
          "execution_count": 21,
          "metadata": {},
          "output_type": "execute_result"
        }
      ]
    },
    {
      "cell_type": "code",
      "metadata": {
        "id": "ee92ad36",
        "outputId": "428cfba4-e1ac-453a-a154-330608f2e3e6"
      },
      "source": [
        "df.shape"
      ],
      "id": "ee92ad36",
      "execution_count": null,
      "outputs": [
        {
          "data": {
            "text/plain": [
              "(891, 13)"
            ]
          },
          "execution_count": 22,
          "metadata": {},
          "output_type": "execute_result"
        }
      ]
    },
    {
      "cell_type": "markdown",
      "metadata": {
        "id": "b1093702"
      },
      "source": [
        "# Dummification\n",
        "\n",
        "It uses __One Hot Encoding Technique__.\n",
        "\n",
        "It is achieved using the get_dummies() method of pandas.\n",
        "\n",
        "https://stackoverflow.com/questions/50176096/removing-redundant-columns-when-using-get-dummies"
      ],
      "id": "b1093702"
    },
    {
      "cell_type": "code",
      "metadata": {
        "id": "4da7c458",
        "outputId": "2531606c-ac0d-41f4-e7f7-31952e67f599"
      },
      "source": [
        "df = pd.get_dummies(df, columns=['GenderClass','Embarked'], drop_first=True)\n",
        "df.shape"
      ],
      "id": "4da7c458",
      "execution_count": null,
      "outputs": [
        {
          "data": {
            "text/plain": [
              "(891, 15)"
            ]
          },
          "execution_count": 23,
          "metadata": {},
          "output_type": "execute_result"
        }
      ]
    },
    {
      "cell_type": "code",
      "metadata": {
        "id": "52bdea65",
        "outputId": "2ef6fb4b-48c7-4754-97cb-560387841058"
      },
      "source": [
        "df.head()"
      ],
      "id": "52bdea65",
      "execution_count": null,
      "outputs": [
        {
          "data": {
            "text/html": [
              "<div>\n",
              "<style scoped>\n",
              "    .dataframe tbody tr th:only-of-type {\n",
              "        vertical-align: middle;\n",
              "    }\n",
              "\n",
              "    .dataframe tbody tr th {\n",
              "        vertical-align: top;\n",
              "    }\n",
              "\n",
              "    .dataframe thead th {\n",
              "        text-align: right;\n",
              "    }\n",
              "</style>\n",
              "<table border=\"1\" class=\"dataframe\">\n",
              "  <thead>\n",
              "    <tr style=\"text-align: right;\">\n",
              "      <th></th>\n",
              "      <th>PassengerId</th>\n",
              "      <th>Survived</th>\n",
              "      <th>Pclass</th>\n",
              "      <th>Name</th>\n",
              "      <th>Sex</th>\n",
              "      <th>Age</th>\n",
              "      <th>SibSp</th>\n",
              "      <th>Parch</th>\n",
              "      <th>Ticket</th>\n",
              "      <th>Fare</th>\n",
              "      <th>FamilySize</th>\n",
              "      <th>GenderClass_female</th>\n",
              "      <th>GenderClass_male</th>\n",
              "      <th>Embarked_Q</th>\n",
              "      <th>Embarked_S</th>\n",
              "    </tr>\n",
              "  </thead>\n",
              "  <tbody>\n",
              "    <tr>\n",
              "      <th>0</th>\n",
              "      <td>1</td>\n",
              "      <td>0</td>\n",
              "      <td>3</td>\n",
              "      <td>Braund, Mr. Owen Harris</td>\n",
              "      <td>male</td>\n",
              "      <td>22.0</td>\n",
              "      <td>1</td>\n",
              "      <td>0</td>\n",
              "      <td>A/5 21171</td>\n",
              "      <td>7.2500</td>\n",
              "      <td>2</td>\n",
              "      <td>0</td>\n",
              "      <td>1</td>\n",
              "      <td>0</td>\n",
              "      <td>1</td>\n",
              "    </tr>\n",
              "    <tr>\n",
              "      <th>1</th>\n",
              "      <td>2</td>\n",
              "      <td>1</td>\n",
              "      <td>1</td>\n",
              "      <td>Cumings, Mrs. John Bradley (Florence Briggs Th...</td>\n",
              "      <td>female</td>\n",
              "      <td>38.0</td>\n",
              "      <td>1</td>\n",
              "      <td>0</td>\n",
              "      <td>PC 17599</td>\n",
              "      <td>71.2833</td>\n",
              "      <td>2</td>\n",
              "      <td>1</td>\n",
              "      <td>0</td>\n",
              "      <td>0</td>\n",
              "      <td>0</td>\n",
              "    </tr>\n",
              "    <tr>\n",
              "      <th>2</th>\n",
              "      <td>3</td>\n",
              "      <td>1</td>\n",
              "      <td>3</td>\n",
              "      <td>Heikkinen, Miss. Laina</td>\n",
              "      <td>female</td>\n",
              "      <td>26.0</td>\n",
              "      <td>0</td>\n",
              "      <td>0</td>\n",
              "      <td>STON/O2. 3101282</td>\n",
              "      <td>7.9250</td>\n",
              "      <td>1</td>\n",
              "      <td>1</td>\n",
              "      <td>0</td>\n",
              "      <td>0</td>\n",
              "      <td>1</td>\n",
              "    </tr>\n",
              "    <tr>\n",
              "      <th>3</th>\n",
              "      <td>4</td>\n",
              "      <td>1</td>\n",
              "      <td>1</td>\n",
              "      <td>Futrelle, Mrs. Jacques Heath (Lily May Peel)</td>\n",
              "      <td>female</td>\n",
              "      <td>35.0</td>\n",
              "      <td>1</td>\n",
              "      <td>0</td>\n",
              "      <td>113803</td>\n",
              "      <td>53.1000</td>\n",
              "      <td>2</td>\n",
              "      <td>1</td>\n",
              "      <td>0</td>\n",
              "      <td>0</td>\n",
              "      <td>1</td>\n",
              "    </tr>\n",
              "    <tr>\n",
              "      <th>4</th>\n",
              "      <td>5</td>\n",
              "      <td>0</td>\n",
              "      <td>3</td>\n",
              "      <td>Allen, Mr. William Henry</td>\n",
              "      <td>male</td>\n",
              "      <td>35.0</td>\n",
              "      <td>0</td>\n",
              "      <td>0</td>\n",
              "      <td>373450</td>\n",
              "      <td>8.0500</td>\n",
              "      <td>1</td>\n",
              "      <td>0</td>\n",
              "      <td>1</td>\n",
              "      <td>0</td>\n",
              "      <td>1</td>\n",
              "    </tr>\n",
              "  </tbody>\n",
              "</table>\n",
              "</div>"
            ],
            "text/plain": [
              "   PassengerId  Survived  Pclass  \\\n",
              "0            1         0       3   \n",
              "1            2         1       1   \n",
              "2            3         1       3   \n",
              "3            4         1       1   \n",
              "4            5         0       3   \n",
              "\n",
              "                                                Name     Sex   Age  SibSp  \\\n",
              "0                            Braund, Mr. Owen Harris    male  22.0      1   \n",
              "1  Cumings, Mrs. John Bradley (Florence Briggs Th...  female  38.0      1   \n",
              "2                             Heikkinen, Miss. Laina  female  26.0      0   \n",
              "3       Futrelle, Mrs. Jacques Heath (Lily May Peel)  female  35.0      1   \n",
              "4                           Allen, Mr. William Henry    male  35.0      0   \n",
              "\n",
              "   Parch            Ticket     Fare  FamilySize  GenderClass_female  \\\n",
              "0      0         A/5 21171   7.2500           2                   0   \n",
              "1      0          PC 17599  71.2833           2                   1   \n",
              "2      0  STON/O2. 3101282   7.9250           1                   1   \n",
              "3      0            113803  53.1000           2                   1   \n",
              "4      0            373450   8.0500           1                   0   \n",
              "\n",
              "   GenderClass_male  Embarked_Q  Embarked_S  \n",
              "0                 1           0           1  \n",
              "1                 0           0           0  \n",
              "2                 0           0           1  \n",
              "3                 0           0           1  \n",
              "4                 1           0           1  "
            ]
          },
          "execution_count": 24,
          "metadata": {},
          "output_type": "execute_result"
        }
      ]
    },
    {
      "cell_type": "code",
      "metadata": {
        "id": "11a2ea16",
        "outputId": "10001d31-518b-4d2b-c659-cfa9a1285fc5"
      },
      "source": [
        "df.columns"
      ],
      "id": "11a2ea16",
      "execution_count": null,
      "outputs": [
        {
          "data": {
            "text/plain": [
              "Index(['PassengerId', 'Survived', 'Pclass', 'Name', 'Sex', 'Age', 'SibSp',\n",
              "       'Parch', 'Ticket', 'Fare', 'FamilySize', 'GenderClass_female',\n",
              "       'GenderClass_male', 'Embarked_Q', 'Embarked_S'],\n",
              "      dtype='object')"
            ]
          },
          "execution_count": 25,
          "metadata": {},
          "output_type": "execute_result"
        }
      ]
    },
    {
      "cell_type": "code",
      "metadata": {
        "id": "ff543177"
      },
      "source": [
        "df.drop(['Name', 'Sex','Ticket','PassengerId','SibSp','Parch'], axis=1, inplace=True)"
      ],
      "id": "ff543177",
      "execution_count": null,
      "outputs": []
    },
    {
      "cell_type": "code",
      "metadata": {
        "id": "787d985a",
        "outputId": "7ce5ddf9-0fb3-442d-ad9c-566acd036fb7"
      },
      "source": [
        "df.columns"
      ],
      "id": "787d985a",
      "execution_count": null,
      "outputs": [
        {
          "data": {
            "text/plain": [
              "Index(['Survived', 'Pclass', 'Age', 'Fare', 'FamilySize', 'GenderClass_female',\n",
              "       'GenderClass_male', 'Embarked_Q', 'Embarked_S'],\n",
              "      dtype='object')"
            ]
          },
          "execution_count": 27,
          "metadata": {},
          "output_type": "execute_result"
        }
      ]
    },
    {
      "cell_type": "code",
      "metadata": {
        "id": "fc954301",
        "outputId": "1c01cb31-13bc-4349-80b2-9a0a10dc6237"
      },
      "source": [
        "df.head()"
      ],
      "id": "fc954301",
      "execution_count": null,
      "outputs": [
        {
          "data": {
            "text/html": [
              "<div>\n",
              "<style scoped>\n",
              "    .dataframe tbody tr th:only-of-type {\n",
              "        vertical-align: middle;\n",
              "    }\n",
              "\n",
              "    .dataframe tbody tr th {\n",
              "        vertical-align: top;\n",
              "    }\n",
              "\n",
              "    .dataframe thead th {\n",
              "        text-align: right;\n",
              "    }\n",
              "</style>\n",
              "<table border=\"1\" class=\"dataframe\">\n",
              "  <thead>\n",
              "    <tr style=\"text-align: right;\">\n",
              "      <th></th>\n",
              "      <th>Survived</th>\n",
              "      <th>Pclass</th>\n",
              "      <th>Age</th>\n",
              "      <th>Fare</th>\n",
              "      <th>FamilySize</th>\n",
              "      <th>GenderClass_female</th>\n",
              "      <th>GenderClass_male</th>\n",
              "      <th>Embarked_Q</th>\n",
              "      <th>Embarked_S</th>\n",
              "    </tr>\n",
              "  </thead>\n",
              "  <tbody>\n",
              "    <tr>\n",
              "      <th>0</th>\n",
              "      <td>0</td>\n",
              "      <td>3</td>\n",
              "      <td>22.0</td>\n",
              "      <td>7.2500</td>\n",
              "      <td>2</td>\n",
              "      <td>0</td>\n",
              "      <td>1</td>\n",
              "      <td>0</td>\n",
              "      <td>1</td>\n",
              "    </tr>\n",
              "    <tr>\n",
              "      <th>1</th>\n",
              "      <td>1</td>\n",
              "      <td>1</td>\n",
              "      <td>38.0</td>\n",
              "      <td>71.2833</td>\n",
              "      <td>2</td>\n",
              "      <td>1</td>\n",
              "      <td>0</td>\n",
              "      <td>0</td>\n",
              "      <td>0</td>\n",
              "    </tr>\n",
              "    <tr>\n",
              "      <th>2</th>\n",
              "      <td>1</td>\n",
              "      <td>3</td>\n",
              "      <td>26.0</td>\n",
              "      <td>7.9250</td>\n",
              "      <td>1</td>\n",
              "      <td>1</td>\n",
              "      <td>0</td>\n",
              "      <td>0</td>\n",
              "      <td>1</td>\n",
              "    </tr>\n",
              "    <tr>\n",
              "      <th>3</th>\n",
              "      <td>1</td>\n",
              "      <td>1</td>\n",
              "      <td>35.0</td>\n",
              "      <td>53.1000</td>\n",
              "      <td>2</td>\n",
              "      <td>1</td>\n",
              "      <td>0</td>\n",
              "      <td>0</td>\n",
              "      <td>1</td>\n",
              "    </tr>\n",
              "    <tr>\n",
              "      <th>4</th>\n",
              "      <td>0</td>\n",
              "      <td>3</td>\n",
              "      <td>35.0</td>\n",
              "      <td>8.0500</td>\n",
              "      <td>1</td>\n",
              "      <td>0</td>\n",
              "      <td>1</td>\n",
              "      <td>0</td>\n",
              "      <td>1</td>\n",
              "    </tr>\n",
              "  </tbody>\n",
              "</table>\n",
              "</div>"
            ],
            "text/plain": [
              "   Survived  Pclass   Age     Fare  FamilySize  GenderClass_female  \\\n",
              "0         0       3  22.0   7.2500           2                   0   \n",
              "1         1       1  38.0  71.2833           2                   1   \n",
              "2         1       3  26.0   7.9250           1                   1   \n",
              "3         1       1  35.0  53.1000           2                   1   \n",
              "4         0       3  35.0   8.0500           1                   0   \n",
              "\n",
              "   GenderClass_male  Embarked_Q  Embarked_S  \n",
              "0                 1           0           1  \n",
              "1                 0           0           0  \n",
              "2                 0           0           1  \n",
              "3                 0           0           1  \n",
              "4                 1           0           1  "
            ]
          },
          "execution_count": 28,
          "metadata": {},
          "output_type": "execute_result"
        }
      ]
    },
    {
      "cell_type": "code",
      "metadata": {
        "id": "c270c52f",
        "outputId": "0483a279-6b38-4a70-afb3-362d773c5717"
      },
      "source": [
        "df.describe()"
      ],
      "id": "c270c52f",
      "execution_count": null,
      "outputs": [
        {
          "data": {
            "text/html": [
              "<div>\n",
              "<style scoped>\n",
              "    .dataframe tbody tr th:only-of-type {\n",
              "        vertical-align: middle;\n",
              "    }\n",
              "\n",
              "    .dataframe tbody tr th {\n",
              "        vertical-align: top;\n",
              "    }\n",
              "\n",
              "    .dataframe thead th {\n",
              "        text-align: right;\n",
              "    }\n",
              "</style>\n",
              "<table border=\"1\" class=\"dataframe\">\n",
              "  <thead>\n",
              "    <tr style=\"text-align: right;\">\n",
              "      <th></th>\n",
              "      <th>Survived</th>\n",
              "      <th>Pclass</th>\n",
              "      <th>Age</th>\n",
              "      <th>Fare</th>\n",
              "      <th>FamilySize</th>\n",
              "      <th>GenderClass_female</th>\n",
              "      <th>GenderClass_male</th>\n",
              "      <th>Embarked_Q</th>\n",
              "      <th>Embarked_S</th>\n",
              "    </tr>\n",
              "  </thead>\n",
              "  <tbody>\n",
              "    <tr>\n",
              "      <th>count</th>\n",
              "      <td>891.000000</td>\n",
              "      <td>891.000000</td>\n",
              "      <td>891.000000</td>\n",
              "      <td>891.000000</td>\n",
              "      <td>891.000000</td>\n",
              "      <td>891.000000</td>\n",
              "      <td>891.000000</td>\n",
              "      <td>891.000000</td>\n",
              "      <td>891.000000</td>\n",
              "    </tr>\n",
              "    <tr>\n",
              "      <th>mean</th>\n",
              "      <td>0.383838</td>\n",
              "      <td>2.308642</td>\n",
              "      <td>29.699118</td>\n",
              "      <td>32.204208</td>\n",
              "      <td>1.904602</td>\n",
              "      <td>0.308642</td>\n",
              "      <td>0.603816</td>\n",
              "      <td>0.086420</td>\n",
              "      <td>0.725028</td>\n",
              "    </tr>\n",
              "    <tr>\n",
              "      <th>std</th>\n",
              "      <td>0.486592</td>\n",
              "      <td>0.836071</td>\n",
              "      <td>13.002015</td>\n",
              "      <td>49.693429</td>\n",
              "      <td>1.613459</td>\n",
              "      <td>0.462192</td>\n",
              "      <td>0.489378</td>\n",
              "      <td>0.281141</td>\n",
              "      <td>0.446751</td>\n",
              "    </tr>\n",
              "    <tr>\n",
              "      <th>min</th>\n",
              "      <td>0.000000</td>\n",
              "      <td>1.000000</td>\n",
              "      <td>0.420000</td>\n",
              "      <td>0.000000</td>\n",
              "      <td>1.000000</td>\n",
              "      <td>0.000000</td>\n",
              "      <td>0.000000</td>\n",
              "      <td>0.000000</td>\n",
              "      <td>0.000000</td>\n",
              "    </tr>\n",
              "    <tr>\n",
              "      <th>25%</th>\n",
              "      <td>0.000000</td>\n",
              "      <td>2.000000</td>\n",
              "      <td>22.000000</td>\n",
              "      <td>7.910400</td>\n",
              "      <td>1.000000</td>\n",
              "      <td>0.000000</td>\n",
              "      <td>0.000000</td>\n",
              "      <td>0.000000</td>\n",
              "      <td>0.000000</td>\n",
              "    </tr>\n",
              "    <tr>\n",
              "      <th>50%</th>\n",
              "      <td>0.000000</td>\n",
              "      <td>3.000000</td>\n",
              "      <td>29.699118</td>\n",
              "      <td>14.454200</td>\n",
              "      <td>1.000000</td>\n",
              "      <td>0.000000</td>\n",
              "      <td>1.000000</td>\n",
              "      <td>0.000000</td>\n",
              "      <td>1.000000</td>\n",
              "    </tr>\n",
              "    <tr>\n",
              "      <th>75%</th>\n",
              "      <td>1.000000</td>\n",
              "      <td>3.000000</td>\n",
              "      <td>35.000000</td>\n",
              "      <td>31.000000</td>\n",
              "      <td>2.000000</td>\n",
              "      <td>1.000000</td>\n",
              "      <td>1.000000</td>\n",
              "      <td>0.000000</td>\n",
              "      <td>1.000000</td>\n",
              "    </tr>\n",
              "    <tr>\n",
              "      <th>max</th>\n",
              "      <td>1.000000</td>\n",
              "      <td>3.000000</td>\n",
              "      <td>80.000000</td>\n",
              "      <td>512.329200</td>\n",
              "      <td>11.000000</td>\n",
              "      <td>1.000000</td>\n",
              "      <td>1.000000</td>\n",
              "      <td>1.000000</td>\n",
              "      <td>1.000000</td>\n",
              "    </tr>\n",
              "  </tbody>\n",
              "</table>\n",
              "</div>"
            ],
            "text/plain": [
              "         Survived      Pclass         Age        Fare  FamilySize  \\\n",
              "count  891.000000  891.000000  891.000000  891.000000  891.000000   \n",
              "mean     0.383838    2.308642   29.699118   32.204208    1.904602   \n",
              "std      0.486592    0.836071   13.002015   49.693429    1.613459   \n",
              "min      0.000000    1.000000    0.420000    0.000000    1.000000   \n",
              "25%      0.000000    2.000000   22.000000    7.910400    1.000000   \n",
              "50%      0.000000    3.000000   29.699118   14.454200    1.000000   \n",
              "75%      1.000000    3.000000   35.000000   31.000000    2.000000   \n",
              "max      1.000000    3.000000   80.000000  512.329200   11.000000   \n",
              "\n",
              "       GenderClass_female  GenderClass_male  Embarked_Q  Embarked_S  \n",
              "count          891.000000        891.000000  891.000000  891.000000  \n",
              "mean             0.308642          0.603816    0.086420    0.725028  \n",
              "std              0.462192          0.489378    0.281141    0.446751  \n",
              "min              0.000000          0.000000    0.000000    0.000000  \n",
              "25%              0.000000          0.000000    0.000000    0.000000  \n",
              "50%              0.000000          1.000000    0.000000    1.000000  \n",
              "75%              1.000000          1.000000    0.000000    1.000000  \n",
              "max              1.000000          1.000000    1.000000    1.000000  "
            ]
          },
          "execution_count": 29,
          "metadata": {},
          "output_type": "execute_result"
        }
      ]
    },
    {
      "cell_type": "markdown",
      "metadata": {
        "id": "ec2e257b"
      },
      "source": [
        "# Preparing X and y"
      ],
      "id": "ec2e257b"
    },
    {
      "cell_type": "code",
      "metadata": {
        "id": "aed3cac9",
        "outputId": "3f2e3c9d-dbcd-4dab-d324-c7b34cef6252"
      },
      "source": [
        "X = df.loc[ : , df.columns != 'Survived' ]\n",
        "X.head()"
      ],
      "id": "aed3cac9",
      "execution_count": null,
      "outputs": [
        {
          "data": {
            "text/html": [
              "<div>\n",
              "<style scoped>\n",
              "    .dataframe tbody tr th:only-of-type {\n",
              "        vertical-align: middle;\n",
              "    }\n",
              "\n",
              "    .dataframe tbody tr th {\n",
              "        vertical-align: top;\n",
              "    }\n",
              "\n",
              "    .dataframe thead th {\n",
              "        text-align: right;\n",
              "    }\n",
              "</style>\n",
              "<table border=\"1\" class=\"dataframe\">\n",
              "  <thead>\n",
              "    <tr style=\"text-align: right;\">\n",
              "      <th></th>\n",
              "      <th>Pclass</th>\n",
              "      <th>Age</th>\n",
              "      <th>Fare</th>\n",
              "      <th>FamilySize</th>\n",
              "      <th>GenderClass_female</th>\n",
              "      <th>GenderClass_male</th>\n",
              "      <th>Embarked_Q</th>\n",
              "      <th>Embarked_S</th>\n",
              "    </tr>\n",
              "  </thead>\n",
              "  <tbody>\n",
              "    <tr>\n",
              "      <th>0</th>\n",
              "      <td>3</td>\n",
              "      <td>22.0</td>\n",
              "      <td>7.2500</td>\n",
              "      <td>2</td>\n",
              "      <td>0</td>\n",
              "      <td>1</td>\n",
              "      <td>0</td>\n",
              "      <td>1</td>\n",
              "    </tr>\n",
              "    <tr>\n",
              "      <th>1</th>\n",
              "      <td>1</td>\n",
              "      <td>38.0</td>\n",
              "      <td>71.2833</td>\n",
              "      <td>2</td>\n",
              "      <td>1</td>\n",
              "      <td>0</td>\n",
              "      <td>0</td>\n",
              "      <td>0</td>\n",
              "    </tr>\n",
              "    <tr>\n",
              "      <th>2</th>\n",
              "      <td>3</td>\n",
              "      <td>26.0</td>\n",
              "      <td>7.9250</td>\n",
              "      <td>1</td>\n",
              "      <td>1</td>\n",
              "      <td>0</td>\n",
              "      <td>0</td>\n",
              "      <td>1</td>\n",
              "    </tr>\n",
              "    <tr>\n",
              "      <th>3</th>\n",
              "      <td>1</td>\n",
              "      <td>35.0</td>\n",
              "      <td>53.1000</td>\n",
              "      <td>2</td>\n",
              "      <td>1</td>\n",
              "      <td>0</td>\n",
              "      <td>0</td>\n",
              "      <td>1</td>\n",
              "    </tr>\n",
              "    <tr>\n",
              "      <th>4</th>\n",
              "      <td>3</td>\n",
              "      <td>35.0</td>\n",
              "      <td>8.0500</td>\n",
              "      <td>1</td>\n",
              "      <td>0</td>\n",
              "      <td>1</td>\n",
              "      <td>0</td>\n",
              "      <td>1</td>\n",
              "    </tr>\n",
              "  </tbody>\n",
              "</table>\n",
              "</div>"
            ],
            "text/plain": [
              "   Pclass   Age     Fare  FamilySize  GenderClass_female  GenderClass_male  \\\n",
              "0       3  22.0   7.2500           2                   0                 1   \n",
              "1       1  38.0  71.2833           2                   1                 0   \n",
              "2       3  26.0   7.9250           1                   1                 0   \n",
              "3       1  35.0  53.1000           2                   1                 0   \n",
              "4       3  35.0   8.0500           1                   0                 1   \n",
              "\n",
              "   Embarked_Q  Embarked_S  \n",
              "0           0           1  \n",
              "1           0           0  \n",
              "2           0           1  \n",
              "3           0           1  \n",
              "4           0           1  "
            ]
          },
          "execution_count": 30,
          "metadata": {},
          "output_type": "execute_result"
        }
      ]
    },
    {
      "cell_type": "code",
      "metadata": {
        "id": "5e2bd9c9"
      },
      "source": [
        "y = df.Survived"
      ],
      "id": "5e2bd9c9",
      "execution_count": null,
      "outputs": []
    },
    {
      "cell_type": "code",
      "metadata": {
        "id": "4babd4e2",
        "outputId": "5d361a65-91ac-49b6-8423-afe6c4d0d5f3"
      },
      "source": [
        "X.shape"
      ],
      "id": "4babd4e2",
      "execution_count": null,
      "outputs": [
        {
          "data": {
            "text/plain": [
              "(891, 8)"
            ]
          },
          "execution_count": 32,
          "metadata": {},
          "output_type": "execute_result"
        }
      ]
    },
    {
      "cell_type": "markdown",
      "metadata": {
        "id": "745fd303"
      },
      "source": [
        "# Splitting X and y into Training and Testing datasets"
      ],
      "id": "745fd303"
    },
    {
      "cell_type": "code",
      "metadata": {
        "id": "4621d190"
      },
      "source": [
        "from sklearn.model_selection import train_test_split\n",
        "X_train, X_test, y_train, y_test = train_test_split(X, y, test_size=0.20, random_state=1)"
      ],
      "id": "4621d190",
      "execution_count": null,
      "outputs": []
    },
    {
      "cell_type": "code",
      "metadata": {
        "id": "655c4353",
        "outputId": "fce1eae5-19ff-4501-8279-f3db9fcdf25a"
      },
      "source": [
        "print(X_train.shape, X_test.shape, y_train.shape, y_test.shape)"
      ],
      "id": "655c4353",
      "execution_count": null,
      "outputs": [
        {
          "name": "stdout",
          "output_type": "stream",
          "text": [
            "(712, 8) (179, 8) (712,) (179,)\n"
          ]
        }
      ]
    },
    {
      "cell_type": "markdown",
      "metadata": {
        "id": "c6fcdebb"
      },
      "source": [
        "# Decision Tree Classifier"
      ],
      "id": "c6fcdebb"
    },
    {
      "cell_type": "code",
      "metadata": {
        "id": "ed640a8c",
        "outputId": "760ce866-38c6-4c41-c51e-ebbdaa90fe57"
      },
      "source": [
        "# https://scikit-learn.org/stable/modules/generated/sklearn.tree.DecisionTreeClassifier.html\n",
        "\n",
        "from sklearn.tree import DecisionTreeClassifier\n",
        "model = DecisionTreeClassifier(random_state=0)\n",
        "model.fit(X_train, y_train)"
      ],
      "id": "ed640a8c",
      "execution_count": null,
      "outputs": [
        {
          "data": {
            "text/plain": [
              "DecisionTreeClassifier(random_state=0)"
            ]
          },
          "execution_count": 35,
          "metadata": {},
          "output_type": "execute_result"
        }
      ]
    },
    {
      "cell_type": "code",
      "metadata": {
        "id": "216e89bc",
        "outputId": "e9aba59c-4c47-44f9-bb89-2386a0150eb8"
      },
      "source": [
        "model"
      ],
      "id": "216e89bc",
      "execution_count": null,
      "outputs": [
        {
          "data": {
            "text/plain": [
              "DecisionTreeClassifier(random_state=0)"
            ]
          },
          "execution_count": 36,
          "metadata": {},
          "output_type": "execute_result"
        }
      ]
    },
    {
      "cell_type": "markdown",
      "metadata": {
        "id": "a5fe28e7"
      },
      "source": [
        "# Predictions"
      ],
      "id": "a5fe28e7"
    },
    {
      "cell_type": "code",
      "metadata": {
        "id": "3c3a1333"
      },
      "source": [
        "y_pred_train = model.predict(X_train)\n",
        "y_pred_test = model.predict(X_test)"
      ],
      "id": "3c3a1333",
      "execution_count": null,
      "outputs": []
    },
    {
      "cell_type": "markdown",
      "metadata": {
        "id": "5b8a0980"
      },
      "source": [
        "# Model Evaluation"
      ],
      "id": "5b8a0980"
    },
    {
      "cell_type": "code",
      "metadata": {
        "id": "e6ba8d4d",
        "outputId": "358b00a1-14fc-4319-8720-29d6c3164073"
      },
      "source": [
        "# https://www.youtube.com/watch?v=HBi-P5j0Kec&t=638s\n",
        "\n",
        "from sklearn.metrics import accuracy_score\n",
        "print(\"Training Accuracy: \",accuracy_score(y_train, y_pred_train))\n",
        "print(\"\\n\\nTesting Accuracy: \",accuracy_score(y_test, y_pred_test))"
      ],
      "id": "e6ba8d4d",
      "execution_count": null,
      "outputs": [
        {
          "name": "stdout",
          "output_type": "stream",
          "text": [
            "Training Accuracy:  0.9873595505617978\n",
            "\n",
            "\n",
            "Testing Accuracy:  0.7821229050279329\n"
          ]
        }
      ]
    },
    {
      "cell_type": "code",
      "metadata": {
        "id": "c0783885",
        "outputId": "c747acf5-b93a-45cb-cb4d-7a329a037756"
      },
      "source": [
        "from sklearn.metrics import confusion_matrix\n",
        "print(\"Training confusion_matrix:\\n\",confusion_matrix(y_train, y_pred_train))\n",
        "print(\"\\n\\nTesting confusion_matrix:\\n\",confusion_matrix(y_test, y_pred_test))"
      ],
      "id": "c0783885",
      "execution_count": null,
      "outputs": [
        {
          "name": "stdout",
          "output_type": "stream",
          "text": [
            "Training confusion_matrix:\n",
            " [[442   1]\n",
            " [  8 261]]\n",
            "\n",
            "\n",
            "Testing confusion_matrix:\n",
            " [[91 15]\n",
            " [24 49]]\n"
          ]
        }
      ]
    },
    {
      "cell_type": "code",
      "metadata": {
        "id": "c7de07f9",
        "outputId": "542053a1-5d34-4eff-82ba-0d1d051e984c"
      },
      "source": [
        "from sklearn.metrics import precision_score\n",
        "print(\"Training precision_score: \",precision_score(y_train, y_pred_train))\n",
        "print(\"\\n\\nTesting precision_score: \",precision_score(y_test, y_pred_test))"
      ],
      "id": "c7de07f9",
      "execution_count": null,
      "outputs": [
        {
          "name": "stdout",
          "output_type": "stream",
          "text": [
            "Training precision_score:  0.9961832061068703\n",
            "\n",
            "\n",
            "Testing precision_score:  0.765625\n"
          ]
        }
      ]
    },
    {
      "cell_type": "code",
      "metadata": {
        "id": "2318944f",
        "outputId": "367c3daa-e325-4af4-9be0-b8238955c385"
      },
      "source": [
        "from sklearn.metrics import recall_score\n",
        "print(\"Training recall_score: \",recall_score(y_train, y_pred_train))\n",
        "print(\"\\n\\nTesting recall_score: \",recall_score(y_test, y_pred_test))"
      ],
      "id": "2318944f",
      "execution_count": null,
      "outputs": [
        {
          "name": "stdout",
          "output_type": "stream",
          "text": [
            "Training recall_score:  0.9702602230483272\n",
            "\n",
            "\n",
            "Testing recall_score:  0.6712328767123288\n"
          ]
        }
      ]
    },
    {
      "cell_type": "code",
      "metadata": {
        "id": "0741c0c5",
        "outputId": "1b7cf046-1077-4b88-c837-2b836e679068"
      },
      "source": [
        "from sklearn.metrics import f1_score\n",
        "print(\"Training f1_score: \",f1_score(y_train, y_pred_train))\n",
        "print(\"\\n\\nTesting f1_score: \",f1_score(y_test, y_pred_test))"
      ],
      "id": "0741c0c5",
      "execution_count": null,
      "outputs": [
        {
          "name": "stdout",
          "output_type": "stream",
          "text": [
            "Training f1_score:  0.983050847457627\n",
            "\n",
            "\n",
            "Testing f1_score:  0.7153284671532847\n"
          ]
        }
      ]
    },
    {
      "cell_type": "code",
      "metadata": {
        "id": "77f0865e",
        "outputId": "8ca2bdde-0bbb-4e38-f7ef-6ea4294597f6"
      },
      "source": [
        "from sklearn.metrics import classification_report\n",
        "print(\"Training classification_report:\\n\",classification_report(y_train, y_pred_train))\n",
        "print(\"\\n\\nTesting classification_report:\\n\",classification_report(y_test, y_pred_test))"
      ],
      "id": "77f0865e",
      "execution_count": null,
      "outputs": [
        {
          "name": "stdout",
          "output_type": "stream",
          "text": [
            "Training classification_report:\n",
            "               precision    recall  f1-score   support\n",
            "\n",
            "           0       0.98      1.00      0.99       443\n",
            "           1       1.00      0.97      0.98       269\n",
            "\n",
            "    accuracy                           0.99       712\n",
            "   macro avg       0.99      0.98      0.99       712\n",
            "weighted avg       0.99      0.99      0.99       712\n",
            "\n",
            "\n",
            "\n",
            "Testing classification_report:\n",
            "               precision    recall  f1-score   support\n",
            "\n",
            "           0       0.79      0.86      0.82       106\n",
            "           1       0.77      0.67      0.72        73\n",
            "\n",
            "    accuracy                           0.78       179\n",
            "   macro avg       0.78      0.76      0.77       179\n",
            "weighted avg       0.78      0.78      0.78       179\n",
            "\n"
          ]
        }
      ]
    },
    {
      "cell_type": "markdown",
      "metadata": {
        "id": "e6edfe15"
      },
      "source": [
        "# GridSearchCV - First time"
      ],
      "id": "e6edfe15"
    },
    {
      "cell_type": "code",
      "metadata": {
        "id": "bced0e5e",
        "outputId": "a2abf711-64f6-4446-a312-e4d92528bd3e"
      },
      "source": [
        "param_dist = {\n",
        "    'criterion' : ['gini','entropy'],\n",
        "    'max_depth' : [1,2,3,4,5,6,7,None]\n",
        "}\n",
        "param_dist"
      ],
      "id": "bced0e5e",
      "execution_count": null,
      "outputs": [
        {
          "data": {
            "text/plain": [
              "{'criterion': ['gini', 'entropy'], 'max_depth': [1, 2, 3, 4, 5, 6, 7, None]}"
            ]
          },
          "execution_count": 44,
          "metadata": {},
          "output_type": "execute_result"
        }
      ]
    },
    {
      "cell_type": "code",
      "metadata": {
        "id": "7e180061"
      },
      "source": [
        "from sklearn.model_selection import GridSearchCV\n",
        "grid = GridSearchCV(model, param_grid= param_dist, cv=10, n_jobs=-1)\n",
        "\n",
        "# https://miro.medium.com/max/1838/1*AAwIlHM8TpAVe4l2FihNUQ.png"
      ],
      "id": "7e180061",
      "execution_count": null,
      "outputs": []
    },
    {
      "cell_type": "code",
      "metadata": {
        "id": "6660eeff",
        "outputId": "af19b8f6-f628-4e62-c7a5-29d2aac558d6"
      },
      "source": [
        "grid.fit(X_train, y_train)"
      ],
      "id": "6660eeff",
      "execution_count": null,
      "outputs": [
        {
          "data": {
            "text/plain": [
              "GridSearchCV(cv=10, estimator=DecisionTreeClassifier(random_state=0), n_jobs=-1,\n",
              "             param_grid={'criterion': ['gini', 'entropy'],\n",
              "                         'max_depth': [1, 2, 3, 4, 5, 6, 7, None]})"
            ]
          },
          "execution_count": 46,
          "metadata": {},
          "output_type": "execute_result"
        }
      ]
    },
    {
      "cell_type": "code",
      "metadata": {
        "id": "dc12fbc5",
        "outputId": "edde3dc3-4fb9-4843-f6bb-d736b8422117"
      },
      "source": [
        "grid.best_params_"
      ],
      "id": "dc12fbc5",
      "execution_count": null,
      "outputs": [
        {
          "data": {
            "text/plain": [
              "{'criterion': 'gini', 'max_depth': 3}"
            ]
          },
          "execution_count": 47,
          "metadata": {},
          "output_type": "execute_result"
        }
      ]
    },
    {
      "cell_type": "code",
      "metadata": {
        "id": "7d7675d4",
        "outputId": "847f5725-8f83-49a4-8fe8-0ea727cb5cd6"
      },
      "source": [
        "grid.best_score_"
      ],
      "id": "7d7675d4",
      "execution_count": null,
      "outputs": [
        {
          "data": {
            "text/plain": [
              "0.8358176838810643"
            ]
          },
          "execution_count": 48,
          "metadata": {},
          "output_type": "execute_result"
        }
      ]
    },
    {
      "cell_type": "code",
      "metadata": {
        "id": "d9215e41"
      },
      "source": [
        "y_pred_train = grid.predict(X_train)\n",
        "y_pred_test = grid.predict(X_test)"
      ],
      "id": "d9215e41",
      "execution_count": null,
      "outputs": []
    },
    {
      "cell_type": "code",
      "metadata": {
        "id": "67df95c6",
        "outputId": "0bb1485e-0a80-47a1-82c5-80a3fb622e0a"
      },
      "source": [
        "# https://www.youtube.com/watch?v=HBi-P5j0Kec&t=638s\n",
        "\n",
        "from sklearn.metrics import accuracy_score\n",
        "print(\"Training Accuracy: \",accuracy_score(y_train, y_pred_train))\n",
        "print(\"\\n\\nTesting Accuracy: \",accuracy_score(y_test, y_pred_test))"
      ],
      "id": "67df95c6",
      "execution_count": null,
      "outputs": [
        {
          "name": "stdout",
          "output_type": "stream",
          "text": [
            "Training Accuracy:  0.8384831460674157\n",
            "\n",
            "\n",
            "Testing Accuracy:  0.8044692737430168\n"
          ]
        }
      ]
    },
    {
      "cell_type": "code",
      "metadata": {
        "id": "67c275b8"
      },
      "source": [
        ""
      ],
      "id": "67c275b8",
      "execution_count": null,
      "outputs": []
    },
    {
      "cell_type": "markdown",
      "metadata": {
        "id": "b76ddfc2"
      },
      "source": [
        "# GridSearchCV - Second time"
      ],
      "id": "b76ddfc2"
    },
    {
      "cell_type": "code",
      "metadata": {
        "id": "ef711879",
        "outputId": "49dd6143-d8fb-4848-d453-46c2dca23ed2"
      },
      "source": [
        "param_dist = {\n",
        "    'criterion' : ['gini','entropy'],\n",
        "    'max_depth' : range(2,60),\n",
        "    'max_features' : ['sqrt','log2', None]\n",
        "}\n",
        "param_dist"
      ],
      "id": "ef711879",
      "execution_count": null,
      "outputs": [
        {
          "data": {
            "text/plain": [
              "{'criterion': ['gini', 'entropy'],\n",
              " 'max_depth': range(2, 60),\n",
              " 'max_features': ['sqrt', 'log2', None]}"
            ]
          },
          "execution_count": 51,
          "metadata": {},
          "output_type": "execute_result"
        }
      ]
    },
    {
      "cell_type": "code",
      "metadata": {
        "id": "860c508f"
      },
      "source": [
        "from sklearn.model_selection import GridSearchCV\n",
        "grid2 = GridSearchCV(model, param_grid= param_dist, cv=10, n_jobs=-1)"
      ],
      "id": "860c508f",
      "execution_count": null,
      "outputs": []
    },
    {
      "cell_type": "code",
      "metadata": {
        "id": "3006d961",
        "outputId": "646a3d7a-3506-4772-ade8-f53f75909f26"
      },
      "source": [
        "grid2.fit(X_train, y_train)"
      ],
      "id": "3006d961",
      "execution_count": null,
      "outputs": [
        {
          "data": {
            "text/plain": [
              "GridSearchCV(cv=10, estimator=DecisionTreeClassifier(random_state=0), n_jobs=-1,\n",
              "             param_grid={'criterion': ['gini', 'entropy'],\n",
              "                         'max_depth': range(2, 60),\n",
              "                         'max_features': ['sqrt', 'log2', None]})"
            ]
          },
          "execution_count": 53,
          "metadata": {},
          "output_type": "execute_result"
        }
      ]
    },
    {
      "cell_type": "code",
      "metadata": {
        "id": "2081a1ca",
        "outputId": "43ce824c-9c28-4e90-c942-5949de14177a"
      },
      "source": [
        "grid2.best_params_"
      ],
      "id": "2081a1ca",
      "execution_count": null,
      "outputs": [
        {
          "data": {
            "text/plain": [
              "{'criterion': 'gini', 'max_depth': 3, 'max_features': None}"
            ]
          },
          "execution_count": 54,
          "metadata": {},
          "output_type": "execute_result"
        }
      ]
    },
    {
      "cell_type": "code",
      "metadata": {
        "id": "a4b0d541",
        "outputId": "2fe76a14-7fb6-4366-ab7e-f5349bce389a"
      },
      "source": [
        "grid2.best_score_"
      ],
      "id": "a4b0d541",
      "execution_count": null,
      "outputs": [
        {
          "data": {
            "text/plain": [
              "0.8358176838810643"
            ]
          },
          "execution_count": 55,
          "metadata": {},
          "output_type": "execute_result"
        }
      ]
    },
    {
      "cell_type": "code",
      "metadata": {
        "id": "e9bae49d"
      },
      "source": [
        "y_pred_train = grid2.predict(X_train)\n",
        "y_pred_test = grid2.predict(X_test)"
      ],
      "id": "e9bae49d",
      "execution_count": null,
      "outputs": []
    },
    {
      "cell_type": "code",
      "metadata": {
        "id": "996aa330",
        "outputId": "bc0fd945-ec7d-4528-e64d-fde3589ffd38"
      },
      "source": [
        "# https://www.youtube.com/watch?v=HBi-P5j0Kec&t=638s\n",
        "\n",
        "from sklearn.metrics import accuracy_score\n",
        "print(\"Training Accuracy: \",accuracy_score(y_train, y_pred_train))\n",
        "print(\"\\n\\nTesting Accuracy: \",accuracy_score(y_test, y_pred_test))"
      ],
      "id": "996aa330",
      "execution_count": null,
      "outputs": [
        {
          "name": "stdout",
          "output_type": "stream",
          "text": [
            "Training Accuracy:  0.8384831460674157\n",
            "\n",
            "\n",
            "Testing Accuracy:  0.8044692737430168\n"
          ]
        }
      ]
    },
    {
      "cell_type": "markdown",
      "metadata": {
        "id": "8af3b595"
      },
      "source": [
        "# Polynomial Regression additional Reading\n",
        "\n",
        ">https://scikit-learn.org/stable/modules/generated/sklearn.preprocessing.PolynomialFeatures.html\n",
        "\n",
        ">https://www.javatpoint.com/machine-learning-polynomial-regression"
      ],
      "id": "8af3b595"
    },
    {
      "cell_type": "markdown",
      "metadata": {
        "id": "5162f9f3"
      },
      "source": [
        "# Additional Readings:\n",
        "\n",
        ">https://www.mygreatlearning.com/blog/gridsearchcv/\n",
        "\n",
        ">https://www.analyticsvidhya.com/blog/2021/06/tune-hyperparameters-with-gridsearchcv/\n",
        "\n",
        ">https://machinelearningknowledge.ai/hyperparameter-tuning-with-sklearn-gridsearchcv-and-randomizedsearchcv/\n",
        "\n",
        "# Happy Learning"
      ],
      "id": "5162f9f3"
    },
    {
      "cell_type": "markdown",
      "metadata": {
        "id": "b70ae9a8"
      },
      "source": [
        "# Random Forest Algorithm"
      ],
      "id": "b70ae9a8"
    },
    {
      "cell_type": "code",
      "metadata": {
        "id": "3efee68b",
        "outputId": "a6b21616-83f6-4ce0-99b5-50f4cccfa4c5"
      },
      "source": [
        "# https://scikit-learn.org/stable/modules/generated/sklearn.ensemble.RandomForestClassifier.html\n",
        "\n",
        "from sklearn.ensemble import RandomForestClassifier\n",
        "clf = RandomForestClassifier(random_state=0)\n",
        "clf.fit(X_train,y_train)"
      ],
      "id": "3efee68b",
      "execution_count": null,
      "outputs": [
        {
          "data": {
            "text/plain": [
              "RandomForestClassifier(random_state=0)"
            ]
          },
          "execution_count": 58,
          "metadata": {},
          "output_type": "execute_result"
        }
      ]
    },
    {
      "cell_type": "code",
      "metadata": {
        "id": "077736c6"
      },
      "source": [
        "y_pred_train = clf.predict(X_train)\n",
        "y_pred_test = clf.predict(X_test)"
      ],
      "id": "077736c6",
      "execution_count": null,
      "outputs": []
    },
    {
      "cell_type": "code",
      "metadata": {
        "id": "8d6ce6c8",
        "outputId": "4e5c8f3f-2327-46a8-d4b4-3c1ec7302abb"
      },
      "source": [
        "# https://www.youtube.com/watch?v=HBi-P5j0Kec&t=638s\n",
        "\n",
        "from sklearn.metrics import accuracy_score\n",
        "print(\"Training Accuracy: \",accuracy_score(y_train, y_pred_train))\n",
        "print(\"\\n\\nTesting Accuracy: \",accuracy_score(y_test, y_pred_test))"
      ],
      "id": "8d6ce6c8",
      "execution_count": null,
      "outputs": [
        {
          "name": "stdout",
          "output_type": "stream",
          "text": [
            "Training Accuracy:  0.9873595505617978\n",
            "\n",
            "\n",
            "Testing Accuracy:  0.7653631284916201\n"
          ]
        }
      ]
    },
    {
      "cell_type": "code",
      "metadata": {
        "id": "474d21a3"
      },
      "source": [
        ""
      ],
      "id": "474d21a3",
      "execution_count": null,
      "outputs": []
    },
    {
      "cell_type": "markdown",
      "metadata": {
        "id": "7af8e0b2"
      },
      "source": [
        "# GridSearchCV - First time"
      ],
      "id": "7af8e0b2"
    },
    {
      "cell_type": "code",
      "metadata": {
        "id": "06bbac48",
        "outputId": "d63462f9-ea80-4d31-acb4-1fad8f31df17"
      },
      "source": [
        "param_dist = {\n",
        "    'criterion' : ['gini','entropy'],\n",
        "    'max_depth' : range(2,60),\n",
        "    'max_features' : ['sqrt','log2', None]\n",
        "}\n",
        "param_dist"
      ],
      "id": "06bbac48",
      "execution_count": null,
      "outputs": [
        {
          "data": {
            "text/plain": [
              "{'criterion': ['gini', 'entropy'],\n",
              " 'max_depth': range(2, 60),\n",
              " 'max_features': ['sqrt', 'log2', None]}"
            ]
          },
          "execution_count": 61,
          "metadata": {},
          "output_type": "execute_result"
        }
      ]
    },
    {
      "cell_type": "code",
      "metadata": {
        "id": "1fcd4931"
      },
      "source": [
        "from sklearn.model_selection import GridSearchCV\n",
        "grid_clf = GridSearchCV(clf, param_grid= param_dist, cv=10, n_jobs=-1)"
      ],
      "id": "1fcd4931",
      "execution_count": null,
      "outputs": []
    },
    {
      "cell_type": "code",
      "metadata": {
        "id": "2db5dee3",
        "outputId": "6393917d-e992-40c9-96f1-4bb2f9513312"
      },
      "source": [
        "grid_clf.fit(X_train, y_train)"
      ],
      "id": "2db5dee3",
      "execution_count": null,
      "outputs": [
        {
          "data": {
            "text/plain": [
              "GridSearchCV(cv=10, estimator=RandomForestClassifier(random_state=0), n_jobs=-1,\n",
              "             param_grid={'criterion': ['gini', 'entropy'],\n",
              "                         'max_depth': range(2, 60),\n",
              "                         'max_features': ['sqrt', 'log2', None]})"
            ]
          },
          "execution_count": 63,
          "metadata": {},
          "output_type": "execute_result"
        }
      ]
    },
    {
      "cell_type": "code",
      "metadata": {
        "id": "7b6f553b",
        "outputId": "9fb8a19e-a1b5-4c56-f976-fe50cf452b4d"
      },
      "source": [
        "grid_clf.best_params_"
      ],
      "id": "7b6f553b",
      "execution_count": null,
      "outputs": [
        {
          "data": {
            "text/plain": [
              "{'criterion': 'gini', 'max_depth': 3, 'max_features': None}"
            ]
          },
          "execution_count": 54,
          "metadata": {},
          "output_type": "execute_result"
        }
      ]
    },
    {
      "cell_type": "code",
      "metadata": {
        "id": "7ef50beb",
        "outputId": "61672456-2696-433b-8571-9492d4a9ae92"
      },
      "source": [
        "grid_clf.best_score_"
      ],
      "id": "7ef50beb",
      "execution_count": null,
      "outputs": [
        {
          "data": {
            "text/plain": [
              "0.8358176838810643"
            ]
          },
          "execution_count": 55,
          "metadata": {},
          "output_type": "execute_result"
        }
      ]
    },
    {
      "cell_type": "code",
      "metadata": {
        "id": "533c4577"
      },
      "source": [
        "y_pred_train = grid_clf.predict(X_train)\n",
        "y_pred_test = grid_clf.predict(X_test)"
      ],
      "id": "533c4577",
      "execution_count": null,
      "outputs": []
    },
    {
      "cell_type": "code",
      "metadata": {
        "id": "a0ed0dc7",
        "outputId": "73c1320c-20d6-471c-d921-5fb1ce54169f"
      },
      "source": [
        "# https://www.youtube.com/watch?v=HBi-P5j0Kec&t=638s\n",
        "\n",
        "from sklearn.metrics import accuracy_score\n",
        "print(\"Training Accuracy: \",accuracy_score(y_train, y_pred_train))\n",
        "print(\"\\n\\nTesting Accuracy: \",accuracy_score(y_test, y_pred_test))"
      ],
      "id": "a0ed0dc7",
      "execution_count": null,
      "outputs": [
        {
          "name": "stdout",
          "output_type": "stream",
          "text": [
            "Training Accuracy:  0.8806179775280899\n",
            "\n",
            "\n",
            "Testing Accuracy:  0.7877094972067039\n"
          ]
        }
      ]
    },
    {
      "cell_type": "code",
      "metadata": {
        "id": "02038485"
      },
      "source": [
        ""
      ],
      "id": "02038485",
      "execution_count": null,
      "outputs": []
    },
    {
      "cell_type": "markdown",
      "metadata": {
        "id": "3b17bebe"
      },
      "source": [
        "# GridSearchCV - Second time"
      ],
      "id": "3b17bebe"
    },
    {
      "cell_type": "code",
      "metadata": {
        "id": "a85c3779",
        "outputId": "6a87582e-57bf-4898-fa2f-5d9bc041bee3"
      },
      "source": [
        "param_dist = {\n",
        "    'criterion' : ['gini','entropy'],\n",
        "    'max_depth' : range(2,60),\n",
        "    'max_features' : ['sqrt','log2', None]\n",
        "}\n",
        "param_dist"
      ],
      "id": "a85c3779",
      "execution_count": null,
      "outputs": [
        {
          "data": {
            "text/plain": [
              "{'criterion': ['gini', 'entropy'],\n",
              " 'max_depth': range(2, 60),\n",
              " 'max_features': ['sqrt', 'log2', None]}"
            ]
          },
          "execution_count": 66,
          "metadata": {},
          "output_type": "execute_result"
        }
      ]
    },
    {
      "cell_type": "code",
      "metadata": {
        "id": "c4e79f76"
      },
      "source": [
        "from sklearn.model_selection import GridSearchCV\n",
        "grid_clf = GridSearchCV(RandomForestClassifier(n_estimators=20, random_state=0), param_grid= param_dist, cv=10, n_jobs=-1)"
      ],
      "id": "c4e79f76",
      "execution_count": null,
      "outputs": []
    },
    {
      "cell_type": "code",
      "metadata": {
        "id": "f2a049b5",
        "outputId": "f17d39cc-e3a5-4974-f04c-efe0a471db7a"
      },
      "source": [
        "grid_clf.fit(X_train, y_train)"
      ],
      "id": "f2a049b5",
      "execution_count": null,
      "outputs": [
        {
          "data": {
            "text/plain": [
              "GridSearchCV(cv=10,\n",
              "             estimator=RandomForestClassifier(n_estimators=20, random_state=0),\n",
              "             n_jobs=-1,\n",
              "             param_grid={'criterion': ['gini', 'entropy'],\n",
              "                         'max_depth': range(2, 60),\n",
              "                         'max_features': ['sqrt', 'log2', None]})"
            ]
          },
          "execution_count": 68,
          "metadata": {},
          "output_type": "execute_result"
        }
      ]
    },
    {
      "cell_type": "code",
      "metadata": {
        "id": "baa1b7a1",
        "outputId": "b9dcc647-e44d-44d2-e4d5-3fd094190268"
      },
      "source": [
        "grid_clf.best_params_"
      ],
      "id": "baa1b7a1",
      "execution_count": null,
      "outputs": [
        {
          "data": {
            "text/plain": [
              "{'criterion': 'gini', 'max_depth': 7, 'max_features': 'sqrt'}"
            ]
          },
          "execution_count": 69,
          "metadata": {},
          "output_type": "execute_result"
        }
      ]
    },
    {
      "cell_type": "code",
      "metadata": {
        "id": "b873ea00",
        "outputId": "291db901-c628-487c-e33d-3b0269e201c1"
      },
      "source": [
        "grid_clf.best_score_"
      ],
      "id": "b873ea00",
      "execution_count": null,
      "outputs": [
        {
          "data": {
            "text/plain": [
              "0.8455594679186229"
            ]
          },
          "execution_count": 70,
          "metadata": {},
          "output_type": "execute_result"
        }
      ]
    },
    {
      "cell_type": "code",
      "metadata": {
        "id": "8f8738dc"
      },
      "source": [
        "y_pred_train = grid_clf.predict(X_train)\n",
        "y_pred_test = grid_clf.predict(X_test)"
      ],
      "id": "8f8738dc",
      "execution_count": null,
      "outputs": []
    },
    {
      "cell_type": "code",
      "metadata": {
        "id": "c455aacb",
        "outputId": "ca00df6c-923e-40fc-b43f-86502715545b"
      },
      "source": [
        "# https://www.youtube.com/watch?v=HBi-P5j0Kec&t=638s\n",
        "\n",
        "from sklearn.metrics import accuracy_score\n",
        "print(\"Training Accuracy: \",accuracy_score(y_train, y_pred_train))\n",
        "print(\"\\n\\nTesting Accuracy: \",accuracy_score(y_test, y_pred_test))"
      ],
      "id": "c455aacb",
      "execution_count": null,
      "outputs": [
        {
          "name": "stdout",
          "output_type": "stream",
          "text": [
            "Training Accuracy:  0.8918539325842697\n",
            "\n",
            "\n",
            "Testing Accuracy:  0.7821229050279329\n"
          ]
        }
      ]
    },
    {
      "cell_type": "code",
      "metadata": {
        "id": "5dbc3590"
      },
      "source": [
        ""
      ],
      "id": "5dbc3590",
      "execution_count": null,
      "outputs": []
    },
    {
      "cell_type": "markdown",
      "metadata": {
        "id": "6b68e246"
      },
      "source": [
        "# RandomizedSearchCV - Third time"
      ],
      "id": "6b68e246"
    },
    {
      "cell_type": "code",
      "metadata": {
        "id": "a8eb98ec",
        "outputId": "11df384d-06ec-44a2-dd5a-64be144a989b"
      },
      "source": [
        "param_dist = {\n",
        "    'criterion' : ['gini','entropy'],\n",
        "    'max_depth' : range(2,60),\n",
        "    'max_features' : ['sqrt','log2', None]\n",
        "}\n",
        "param_dist"
      ],
      "id": "a8eb98ec",
      "execution_count": null,
      "outputs": [
        {
          "data": {
            "text/plain": [
              "{'criterion': ['gini', 'entropy'],\n",
              " 'max_depth': range(2, 60),\n",
              " 'max_features': ['sqrt', 'log2', None]}"
            ]
          },
          "execution_count": 96,
          "metadata": {},
          "output_type": "execute_result"
        }
      ]
    },
    {
      "cell_type": "code",
      "metadata": {
        "id": "1459de35"
      },
      "source": [
        "from sklearn.model_selection import RandomizedSearchCV\n",
        "grid_clf = RandomizedSearchCV(RandomForestClassifier(n_estimators=300, random_state=0), param_dist, cv=10, n_jobs=-1, random_state=0, n_iter=50)"
      ],
      "id": "1459de35",
      "execution_count": null,
      "outputs": []
    },
    {
      "cell_type": "code",
      "metadata": {
        "id": "b78b35a0",
        "outputId": "1a95ae4f-b206-4071-fc09-ade5fd4decfa"
      },
      "source": [
        "grid_clf.fit(X_train, y_train)"
      ],
      "id": "b78b35a0",
      "execution_count": null,
      "outputs": [
        {
          "data": {
            "text/plain": [
              "RandomizedSearchCV(cv=10,\n",
              "                   estimator=RandomForestClassifier(n_estimators=300,\n",
              "                                                    random_state=0),\n",
              "                   n_iter=50, n_jobs=-1,\n",
              "                   param_distributions={'criterion': ['gini', 'entropy'],\n",
              "                                        'max_depth': range(2, 60),\n",
              "                                        'max_features': ['sqrt', 'log2', None]},\n",
              "                   random_state=0)"
            ]
          },
          "execution_count": 98,
          "metadata": {},
          "output_type": "execute_result"
        }
      ]
    },
    {
      "cell_type": "code",
      "metadata": {
        "id": "05a20f4d",
        "outputId": "bfec18e3-5348-4b13-8a2e-22485499778a"
      },
      "source": [
        "grid_clf.best_params_"
      ],
      "id": "05a20f4d",
      "execution_count": null,
      "outputs": [
        {
          "data": {
            "text/plain": [
              "{'max_features': 'sqrt', 'max_depth': 7, 'criterion': 'gini'}"
            ]
          },
          "execution_count": 99,
          "metadata": {},
          "output_type": "execute_result"
        }
      ]
    },
    {
      "cell_type": "code",
      "metadata": {
        "id": "d67a93dc",
        "outputId": "e131085c-ea52-4988-b210-4b782b8dcbab"
      },
      "source": [
        "grid_clf.best_score_"
      ],
      "id": "d67a93dc",
      "execution_count": null,
      "outputs": [
        {
          "data": {
            "text/plain": [
              "0.8455594679186229"
            ]
          },
          "execution_count": 100,
          "metadata": {},
          "output_type": "execute_result"
        }
      ]
    },
    {
      "cell_type": "code",
      "metadata": {
        "id": "b5edbf55"
      },
      "source": [
        "y_pred_train = grid_clf.predict(X_train)\n",
        "y_pred_test = grid_clf.predict(X_test)"
      ],
      "id": "b5edbf55",
      "execution_count": null,
      "outputs": []
    },
    {
      "cell_type": "code",
      "metadata": {
        "id": "05de8581",
        "outputId": "d2d2f698-5711-4cdf-b249-7c56a8beabf4"
      },
      "source": [
        "# https://www.youtube.com/watch?v=HBi-P5j0Kec&t=638s\n",
        "\n",
        "from sklearn.metrics import accuracy_score\n",
        "print(\"Training Accuracy: \",accuracy_score(y_train, y_pred_train))\n",
        "print(\"\\n\\nTesting Accuracy: \",accuracy_score(y_test, y_pred_test))"
      ],
      "id": "05de8581",
      "execution_count": null,
      "outputs": [
        {
          "name": "stdout",
          "output_type": "stream",
          "text": [
            "Training Accuracy:  0.9073033707865169\n",
            "\n",
            "\n",
            "Testing Accuracy:  0.7821229050279329\n"
          ]
        }
      ]
    },
    {
      "cell_type": "markdown",
      "metadata": {
        "id": "c2c646bf"
      },
      "source": [
        "# Happy Learning"
      ],
      "id": "c2c646bf"
    }
  ]
}