{
  "nbformat": 4,
  "nbformat_minor": 5,
  "metadata": {
    "kernelspec": {
      "display_name": "Python 3",
      "language": "python",
      "name": "python3"
    },
    "language_info": {
      "codemirror_mode": {
        "name": "ipython",
        "version": 3
      },
      "file_extension": ".py",
      "mimetype": "text/x-python",
      "name": "python",
      "nbconvert_exporter": "python",
      "pygments_lexer": "ipython3",
      "version": "3.8.8"
    },
    "colab": {
      "name": "18_Oct__PCA.ipynb",
      "provenance": []
    }
  },
  "cells": [
    {
      "cell_type": "code",
      "metadata": {
        "id": "c1ecfe33"
      },
      "source": [
        "# Jovian Commit Essentials\n",
        "# Please retain and execute this cell without modifying the contents for `jovian.commit` to work\n",
        "!pip install jovian --upgrade -q\n",
        "import jovian\n",
        "jovian.set_project('18-oct-pca')\n",
        "jovian.set_colab_id('1z2M9OfC2yS0zb_iBsgpHY2chULF0KXJ8')"
      ],
      "id": "c1ecfe33",
      "execution_count": null,
      "outputs": []
    },
    {
      "cell_type": "code",
      "metadata": {
        "id": "5e78640f"
      },
      "source": [
        "import numpy as np\n",
        "import pandas as pd\n",
        "import matplotlib.pyplot as plt\n",
        "import seaborn as sns\n",
        "\n",
        "import warnings\n",
        "warnings.filterwarnings(\"ignore\")"
      ],
      "id": "5e78640f",
      "execution_count": null,
      "outputs": []
    },
    {
      "cell_type": "code",
      "metadata": {
        "id": "c92798c1",
        "outputId": "9816c4f1-925e-4f13-a465-e85d593db85d"
      },
      "source": [
        "df = pd.read_csv(\"https://raw.githubusercontent.com/ingledarshan/BK_Birla/main/PCA_data.csv\")\n",
        "df.shape"
      ],
      "id": "c92798c1",
      "execution_count": null,
      "outputs": [
        {
          "data": {
            "text/plain": [
              "(62184, 11)"
            ]
          },
          "execution_count": 2,
          "metadata": {},
          "output_type": "execute_result"
        }
      ]
    },
    {
      "cell_type": "markdown",
      "metadata": {
        "id": "4d6ecc34"
      },
      "source": [
        "# Crowdedness at Campus Gym"
      ],
      "id": "4d6ecc34"
    },
    {
      "cell_type": "code",
      "metadata": {
        "id": "0a512b09",
        "outputId": "39b359e7-a490-408c-f532-a1c011b6bae8"
      },
      "source": [
        "df.head()"
      ],
      "id": "0a512b09",
      "execution_count": null,
      "outputs": [
        {
          "data": {
            "text/html": [
              "<div>\n",
              "<style scoped>\n",
              "    .dataframe tbody tr th:only-of-type {\n",
              "        vertical-align: middle;\n",
              "    }\n",
              "\n",
              "    .dataframe tbody tr th {\n",
              "        vertical-align: top;\n",
              "    }\n",
              "\n",
              "    .dataframe thead th {\n",
              "        text-align: right;\n",
              "    }\n",
              "</style>\n",
              "<table border=\"1\" class=\"dataframe\">\n",
              "  <thead>\n",
              "    <tr style=\"text-align: right;\">\n",
              "      <th></th>\n",
              "      <th>number_people</th>\n",
              "      <th>date</th>\n",
              "      <th>timestamp</th>\n",
              "      <th>day_of_week</th>\n",
              "      <th>is_weekend</th>\n",
              "      <th>is_holiday</th>\n",
              "      <th>temperature</th>\n",
              "      <th>is_start_of_semester</th>\n",
              "      <th>is_during_semester</th>\n",
              "      <th>month</th>\n",
              "      <th>hour</th>\n",
              "    </tr>\n",
              "  </thead>\n",
              "  <tbody>\n",
              "    <tr>\n",
              "      <th>0</th>\n",
              "      <td>37</td>\n",
              "      <td>2015-08-14 17:00:11-07:00</td>\n",
              "      <td>61211</td>\n",
              "      <td>4</td>\n",
              "      <td>0</td>\n",
              "      <td>0</td>\n",
              "      <td>71.76</td>\n",
              "      <td>0</td>\n",
              "      <td>0</td>\n",
              "      <td>8</td>\n",
              "      <td>17</td>\n",
              "    </tr>\n",
              "    <tr>\n",
              "      <th>1</th>\n",
              "      <td>45</td>\n",
              "      <td>2015-08-14 17:20:14-07:00</td>\n",
              "      <td>62414</td>\n",
              "      <td>4</td>\n",
              "      <td>0</td>\n",
              "      <td>0</td>\n",
              "      <td>71.76</td>\n",
              "      <td>0</td>\n",
              "      <td>0</td>\n",
              "      <td>8</td>\n",
              "      <td>17</td>\n",
              "    </tr>\n",
              "    <tr>\n",
              "      <th>2</th>\n",
              "      <td>40</td>\n",
              "      <td>2015-08-14 17:30:15-07:00</td>\n",
              "      <td>63015</td>\n",
              "      <td>4</td>\n",
              "      <td>0</td>\n",
              "      <td>0</td>\n",
              "      <td>71.76</td>\n",
              "      <td>0</td>\n",
              "      <td>0</td>\n",
              "      <td>8</td>\n",
              "      <td>17</td>\n",
              "    </tr>\n",
              "    <tr>\n",
              "      <th>3</th>\n",
              "      <td>44</td>\n",
              "      <td>2015-08-14 17:40:16-07:00</td>\n",
              "      <td>63616</td>\n",
              "      <td>4</td>\n",
              "      <td>0</td>\n",
              "      <td>0</td>\n",
              "      <td>71.76</td>\n",
              "      <td>0</td>\n",
              "      <td>0</td>\n",
              "      <td>8</td>\n",
              "      <td>17</td>\n",
              "    </tr>\n",
              "    <tr>\n",
              "      <th>4</th>\n",
              "      <td>45</td>\n",
              "      <td>2015-08-14 17:50:17-07:00</td>\n",
              "      <td>64217</td>\n",
              "      <td>4</td>\n",
              "      <td>0</td>\n",
              "      <td>0</td>\n",
              "      <td>71.76</td>\n",
              "      <td>0</td>\n",
              "      <td>0</td>\n",
              "      <td>8</td>\n",
              "      <td>17</td>\n",
              "    </tr>\n",
              "  </tbody>\n",
              "</table>\n",
              "</div>"
            ],
            "text/plain": [
              "   number_people                       date  timestamp  day_of_week  \\\n",
              "0             37  2015-08-14 17:00:11-07:00      61211            4   \n",
              "1             45  2015-08-14 17:20:14-07:00      62414            4   \n",
              "2             40  2015-08-14 17:30:15-07:00      63015            4   \n",
              "3             44  2015-08-14 17:40:16-07:00      63616            4   \n",
              "4             45  2015-08-14 17:50:17-07:00      64217            4   \n",
              "\n",
              "   is_weekend  is_holiday  temperature  is_start_of_semester  \\\n",
              "0           0           0        71.76                     0   \n",
              "1           0           0        71.76                     0   \n",
              "2           0           0        71.76                     0   \n",
              "3           0           0        71.76                     0   \n",
              "4           0           0        71.76                     0   \n",
              "\n",
              "   is_during_semester  month  hour  \n",
              "0                   0      8    17  \n",
              "1                   0      8    17  \n",
              "2                   0      8    17  \n",
              "3                   0      8    17  \n",
              "4                   0      8    17  "
            ]
          },
          "execution_count": 3,
          "metadata": {},
          "output_type": "execute_result"
        }
      ]
    },
    {
      "cell_type": "code",
      "metadata": {
        "id": "10fad58f",
        "outputId": "fbbc727b-e676-4e8f-b126-0f1690172d16"
      },
      "source": [
        "df.describe()"
      ],
      "id": "10fad58f",
      "execution_count": null,
      "outputs": [
        {
          "data": {
            "text/html": [
              "<div>\n",
              "<style scoped>\n",
              "    .dataframe tbody tr th:only-of-type {\n",
              "        vertical-align: middle;\n",
              "    }\n",
              "\n",
              "    .dataframe tbody tr th {\n",
              "        vertical-align: top;\n",
              "    }\n",
              "\n",
              "    .dataframe thead th {\n",
              "        text-align: right;\n",
              "    }\n",
              "</style>\n",
              "<table border=\"1\" class=\"dataframe\">\n",
              "  <thead>\n",
              "    <tr style=\"text-align: right;\">\n",
              "      <th></th>\n",
              "      <th>number_people</th>\n",
              "      <th>timestamp</th>\n",
              "      <th>day_of_week</th>\n",
              "      <th>is_weekend</th>\n",
              "      <th>is_holiday</th>\n",
              "      <th>temperature</th>\n",
              "      <th>is_start_of_semester</th>\n",
              "      <th>is_during_semester</th>\n",
              "      <th>month</th>\n",
              "      <th>hour</th>\n",
              "    </tr>\n",
              "  </thead>\n",
              "  <tbody>\n",
              "    <tr>\n",
              "      <th>count</th>\n",
              "      <td>62184.000000</td>\n",
              "      <td>62184.000000</td>\n",
              "      <td>62184.000000</td>\n",
              "      <td>62184.000000</td>\n",
              "      <td>62184.000000</td>\n",
              "      <td>62184.000000</td>\n",
              "      <td>62184.000000</td>\n",
              "      <td>62184.000000</td>\n",
              "      <td>62184.000000</td>\n",
              "      <td>62184.000000</td>\n",
              "    </tr>\n",
              "    <tr>\n",
              "      <th>mean</th>\n",
              "      <td>29.072543</td>\n",
              "      <td>45799.437958</td>\n",
              "      <td>2.982504</td>\n",
              "      <td>0.282870</td>\n",
              "      <td>0.002573</td>\n",
              "      <td>58.557108</td>\n",
              "      <td>0.078831</td>\n",
              "      <td>0.660218</td>\n",
              "      <td>7.439824</td>\n",
              "      <td>12.236460</td>\n",
              "    </tr>\n",
              "    <tr>\n",
              "      <th>std</th>\n",
              "      <td>22.689026</td>\n",
              "      <td>24211.275891</td>\n",
              "      <td>1.996825</td>\n",
              "      <td>0.450398</td>\n",
              "      <td>0.050660</td>\n",
              "      <td>6.316396</td>\n",
              "      <td>0.269476</td>\n",
              "      <td>0.473639</td>\n",
              "      <td>3.445069</td>\n",
              "      <td>6.717631</td>\n",
              "    </tr>\n",
              "    <tr>\n",
              "      <th>min</th>\n",
              "      <td>0.000000</td>\n",
              "      <td>0.000000</td>\n",
              "      <td>0.000000</td>\n",
              "      <td>0.000000</td>\n",
              "      <td>0.000000</td>\n",
              "      <td>38.140000</td>\n",
              "      <td>0.000000</td>\n",
              "      <td>0.000000</td>\n",
              "      <td>1.000000</td>\n",
              "      <td>0.000000</td>\n",
              "    </tr>\n",
              "    <tr>\n",
              "      <th>25%</th>\n",
              "      <td>9.000000</td>\n",
              "      <td>26624.000000</td>\n",
              "      <td>1.000000</td>\n",
              "      <td>0.000000</td>\n",
              "      <td>0.000000</td>\n",
              "      <td>55.000000</td>\n",
              "      <td>0.000000</td>\n",
              "      <td>0.000000</td>\n",
              "      <td>5.000000</td>\n",
              "      <td>7.000000</td>\n",
              "    </tr>\n",
              "    <tr>\n",
              "      <th>50%</th>\n",
              "      <td>28.000000</td>\n",
              "      <td>46522.500000</td>\n",
              "      <td>3.000000</td>\n",
              "      <td>0.000000</td>\n",
              "      <td>0.000000</td>\n",
              "      <td>58.340000</td>\n",
              "      <td>0.000000</td>\n",
              "      <td>1.000000</td>\n",
              "      <td>8.000000</td>\n",
              "      <td>12.000000</td>\n",
              "    </tr>\n",
              "    <tr>\n",
              "      <th>75%</th>\n",
              "      <td>43.000000</td>\n",
              "      <td>66612.000000</td>\n",
              "      <td>5.000000</td>\n",
              "      <td>1.000000</td>\n",
              "      <td>0.000000</td>\n",
              "      <td>62.280000</td>\n",
              "      <td>0.000000</td>\n",
              "      <td>1.000000</td>\n",
              "      <td>10.000000</td>\n",
              "      <td>18.000000</td>\n",
              "    </tr>\n",
              "    <tr>\n",
              "      <th>max</th>\n",
              "      <td>145.000000</td>\n",
              "      <td>86399.000000</td>\n",
              "      <td>6.000000</td>\n",
              "      <td>1.000000</td>\n",
              "      <td>1.000000</td>\n",
              "      <td>87.170000</td>\n",
              "      <td>1.000000</td>\n",
              "      <td>1.000000</td>\n",
              "      <td>12.000000</td>\n",
              "      <td>23.000000</td>\n",
              "    </tr>\n",
              "  </tbody>\n",
              "</table>\n",
              "</div>"
            ],
            "text/plain": [
              "       number_people     timestamp   day_of_week    is_weekend    is_holiday  \\\n",
              "count   62184.000000  62184.000000  62184.000000  62184.000000  62184.000000   \n",
              "mean       29.072543  45799.437958      2.982504      0.282870      0.002573   \n",
              "std        22.689026  24211.275891      1.996825      0.450398      0.050660   \n",
              "min         0.000000      0.000000      0.000000      0.000000      0.000000   \n",
              "25%         9.000000  26624.000000      1.000000      0.000000      0.000000   \n",
              "50%        28.000000  46522.500000      3.000000      0.000000      0.000000   \n",
              "75%        43.000000  66612.000000      5.000000      1.000000      0.000000   \n",
              "max       145.000000  86399.000000      6.000000      1.000000      1.000000   \n",
              "\n",
              "        temperature  is_start_of_semester  is_during_semester         month  \\\n",
              "count  62184.000000          62184.000000        62184.000000  62184.000000   \n",
              "mean      58.557108              0.078831            0.660218      7.439824   \n",
              "std        6.316396              0.269476            0.473639      3.445069   \n",
              "min       38.140000              0.000000            0.000000      1.000000   \n",
              "25%       55.000000              0.000000            0.000000      5.000000   \n",
              "50%       58.340000              0.000000            1.000000      8.000000   \n",
              "75%       62.280000              0.000000            1.000000     10.000000   \n",
              "max       87.170000              1.000000            1.000000     12.000000   \n",
              "\n",
              "               hour  \n",
              "count  62184.000000  \n",
              "mean      12.236460  \n",
              "std        6.717631  \n",
              "min        0.000000  \n",
              "25%        7.000000  \n",
              "50%       12.000000  \n",
              "75%       18.000000  \n",
              "max       23.000000  "
            ]
          },
          "execution_count": 4,
          "metadata": {},
          "output_type": "execute_result"
        }
      ]
    },
    {
      "cell_type": "code",
      "metadata": {
        "id": "15c0d0db",
        "outputId": "17cdb1c8-731c-487f-9efb-ca406448c716"
      },
      "source": [
        "df.corr()"
      ],
      "id": "15c0d0db",
      "execution_count": null,
      "outputs": [
        {
          "data": {
            "text/html": [
              "<div>\n",
              "<style scoped>\n",
              "    .dataframe tbody tr th:only-of-type {\n",
              "        vertical-align: middle;\n",
              "    }\n",
              "\n",
              "    .dataframe tbody tr th {\n",
              "        vertical-align: top;\n",
              "    }\n",
              "\n",
              "    .dataframe thead th {\n",
              "        text-align: right;\n",
              "    }\n",
              "</style>\n",
              "<table border=\"1\" class=\"dataframe\">\n",
              "  <thead>\n",
              "    <tr style=\"text-align: right;\">\n",
              "      <th></th>\n",
              "      <th>number_people</th>\n",
              "      <th>timestamp</th>\n",
              "      <th>day_of_week</th>\n",
              "      <th>is_weekend</th>\n",
              "      <th>is_holiday</th>\n",
              "      <th>temperature</th>\n",
              "      <th>is_start_of_semester</th>\n",
              "      <th>is_during_semester</th>\n",
              "      <th>month</th>\n",
              "      <th>hour</th>\n",
              "    </tr>\n",
              "  </thead>\n",
              "  <tbody>\n",
              "    <tr>\n",
              "      <th>number_people</th>\n",
              "      <td>1.000000</td>\n",
              "      <td>0.550218</td>\n",
              "      <td>-0.162062</td>\n",
              "      <td>-0.173958</td>\n",
              "      <td>-0.048249</td>\n",
              "      <td>0.373327</td>\n",
              "      <td>0.182683</td>\n",
              "      <td>0.335350</td>\n",
              "      <td>-0.097854</td>\n",
              "      <td>0.552049</td>\n",
              "    </tr>\n",
              "    <tr>\n",
              "      <th>timestamp</th>\n",
              "      <td>0.550218</td>\n",
              "      <td>1.000000</td>\n",
              "      <td>-0.001793</td>\n",
              "      <td>-0.000509</td>\n",
              "      <td>0.002851</td>\n",
              "      <td>0.184849</td>\n",
              "      <td>0.009551</td>\n",
              "      <td>0.044676</td>\n",
              "      <td>-0.023221</td>\n",
              "      <td>0.999077</td>\n",
              "    </tr>\n",
              "    <tr>\n",
              "      <th>day_of_week</th>\n",
              "      <td>-0.162062</td>\n",
              "      <td>-0.001793</td>\n",
              "      <td>1.000000</td>\n",
              "      <td>0.791338</td>\n",
              "      <td>-0.075862</td>\n",
              "      <td>0.011169</td>\n",
              "      <td>-0.011782</td>\n",
              "      <td>-0.004824</td>\n",
              "      <td>0.015559</td>\n",
              "      <td>-0.001914</td>\n",
              "    </tr>\n",
              "    <tr>\n",
              "      <th>is_weekend</th>\n",
              "      <td>-0.173958</td>\n",
              "      <td>-0.000509</td>\n",
              "      <td>0.791338</td>\n",
              "      <td>1.000000</td>\n",
              "      <td>-0.031899</td>\n",
              "      <td>0.020673</td>\n",
              "      <td>-0.016646</td>\n",
              "      <td>-0.036127</td>\n",
              "      <td>0.008462</td>\n",
              "      <td>-0.000517</td>\n",
              "    </tr>\n",
              "    <tr>\n",
              "      <th>is_holiday</th>\n",
              "      <td>-0.048249</td>\n",
              "      <td>0.002851</td>\n",
              "      <td>-0.075862</td>\n",
              "      <td>-0.031899</td>\n",
              "      <td>1.000000</td>\n",
              "      <td>-0.088527</td>\n",
              "      <td>-0.014858</td>\n",
              "      <td>-0.070798</td>\n",
              "      <td>-0.094942</td>\n",
              "      <td>0.002843</td>\n",
              "    </tr>\n",
              "    <tr>\n",
              "      <th>temperature</th>\n",
              "      <td>0.373327</td>\n",
              "      <td>0.184849</td>\n",
              "      <td>0.011169</td>\n",
              "      <td>0.020673</td>\n",
              "      <td>-0.088527</td>\n",
              "      <td>1.000000</td>\n",
              "      <td>0.093242</td>\n",
              "      <td>0.152476</td>\n",
              "      <td>0.063125</td>\n",
              "      <td>0.185121</td>\n",
              "    </tr>\n",
              "    <tr>\n",
              "      <th>is_start_of_semester</th>\n",
              "      <td>0.182683</td>\n",
              "      <td>0.009551</td>\n",
              "      <td>-0.011782</td>\n",
              "      <td>-0.016646</td>\n",
              "      <td>-0.014858</td>\n",
              "      <td>0.093242</td>\n",
              "      <td>1.000000</td>\n",
              "      <td>0.209862</td>\n",
              "      <td>-0.137160</td>\n",
              "      <td>0.010091</td>\n",
              "    </tr>\n",
              "    <tr>\n",
              "      <th>is_during_semester</th>\n",
              "      <td>0.335350</td>\n",
              "      <td>0.044676</td>\n",
              "      <td>-0.004824</td>\n",
              "      <td>-0.036127</td>\n",
              "      <td>-0.070798</td>\n",
              "      <td>0.152476</td>\n",
              "      <td>0.209862</td>\n",
              "      <td>1.000000</td>\n",
              "      <td>0.096556</td>\n",
              "      <td>0.045581</td>\n",
              "    </tr>\n",
              "    <tr>\n",
              "      <th>month</th>\n",
              "      <td>-0.097854</td>\n",
              "      <td>-0.023221</td>\n",
              "      <td>0.015559</td>\n",
              "      <td>0.008462</td>\n",
              "      <td>-0.094942</td>\n",
              "      <td>0.063125</td>\n",
              "      <td>-0.137160</td>\n",
              "      <td>0.096556</td>\n",
              "      <td>1.000000</td>\n",
              "      <td>-0.023624</td>\n",
              "    </tr>\n",
              "    <tr>\n",
              "      <th>hour</th>\n",
              "      <td>0.552049</td>\n",
              "      <td>0.999077</td>\n",
              "      <td>-0.001914</td>\n",
              "      <td>-0.000517</td>\n",
              "      <td>0.002843</td>\n",
              "      <td>0.185121</td>\n",
              "      <td>0.010091</td>\n",
              "      <td>0.045581</td>\n",
              "      <td>-0.023624</td>\n",
              "      <td>1.000000</td>\n",
              "    </tr>\n",
              "  </tbody>\n",
              "</table>\n",
              "</div>"
            ],
            "text/plain": [
              "                      number_people  timestamp  day_of_week  is_weekend  \\\n",
              "number_people              1.000000   0.550218    -0.162062   -0.173958   \n",
              "timestamp                  0.550218   1.000000    -0.001793   -0.000509   \n",
              "day_of_week               -0.162062  -0.001793     1.000000    0.791338   \n",
              "is_weekend                -0.173958  -0.000509     0.791338    1.000000   \n",
              "is_holiday                -0.048249   0.002851    -0.075862   -0.031899   \n",
              "temperature                0.373327   0.184849     0.011169    0.020673   \n",
              "is_start_of_semester       0.182683   0.009551    -0.011782   -0.016646   \n",
              "is_during_semester         0.335350   0.044676    -0.004824   -0.036127   \n",
              "month                     -0.097854  -0.023221     0.015559    0.008462   \n",
              "hour                       0.552049   0.999077    -0.001914   -0.000517   \n",
              "\n",
              "                      is_holiday  temperature  is_start_of_semester  \\\n",
              "number_people          -0.048249     0.373327              0.182683   \n",
              "timestamp               0.002851     0.184849              0.009551   \n",
              "day_of_week            -0.075862     0.011169             -0.011782   \n",
              "is_weekend             -0.031899     0.020673             -0.016646   \n",
              "is_holiday              1.000000    -0.088527             -0.014858   \n",
              "temperature            -0.088527     1.000000              0.093242   \n",
              "is_start_of_semester   -0.014858     0.093242              1.000000   \n",
              "is_during_semester     -0.070798     0.152476              0.209862   \n",
              "month                  -0.094942     0.063125             -0.137160   \n",
              "hour                    0.002843     0.185121              0.010091   \n",
              "\n",
              "                      is_during_semester     month      hour  \n",
              "number_people                   0.335350 -0.097854  0.552049  \n",
              "timestamp                       0.044676 -0.023221  0.999077  \n",
              "day_of_week                    -0.004824  0.015559 -0.001914  \n",
              "is_weekend                     -0.036127  0.008462 -0.000517  \n",
              "is_holiday                     -0.070798 -0.094942  0.002843  \n",
              "temperature                     0.152476  0.063125  0.185121  \n",
              "is_start_of_semester            0.209862 -0.137160  0.010091  \n",
              "is_during_semester              1.000000  0.096556  0.045581  \n",
              "month                           0.096556  1.000000 -0.023624  \n",
              "hour                            0.045581 -0.023624  1.000000  "
            ]
          },
          "execution_count": 5,
          "metadata": {},
          "output_type": "execute_result"
        }
      ]
    },
    {
      "cell_type": "code",
      "metadata": {
        "id": "51e1c45e",
        "outputId": "fe66a554-81eb-4105-f965-12871be6d80e"
      },
      "source": [
        "sns.heatmap(df.corr(), cmap='magma', linewidths=1);"
      ],
      "id": "51e1c45e",
      "execution_count": null,
      "outputs": [
        {
          "data": {
            "image/png": "[encoded data removed]",
            "text/plain": [
              "<Figure size 432x288 with 2 Axes>"
            ]
          },
          "metadata": {
            "needs_background": "light"
          },
          "output_type": "display_data"
        }
      ]
    },
    {
      "cell_type": "code",
      "metadata": {
        "id": "c0e196b0",
        "outputId": "64a33648-6a26-4e53-939a-0fc3c249663b"
      },
      "source": [
        "df.columns"
      ],
      "id": "c0e196b0",
      "execution_count": null,
      "outputs": [
        {
          "data": {
            "text/plain": [
              "Index(['number_people', 'date', 'timestamp', 'day_of_week', 'is_weekend',\n",
              "       'is_holiday', 'temperature', 'is_start_of_semester',\n",
              "       'is_during_semester', 'month', 'hour'],\n",
              "      dtype='object')"
            ]
          },
          "execution_count": 7,
          "metadata": {},
          "output_type": "execute_result"
        }
      ]
    },
    {
      "cell_type": "code",
      "metadata": {
        "id": "c4e804b0",
        "outputId": "baa78c17-f383-4493-a93b-a8f26ea51574"
      },
      "source": [
        "len(df.columns)"
      ],
      "id": "c4e804b0",
      "execution_count": null,
      "outputs": [
        {
          "data": {
            "text/plain": [
              "11"
            ]
          },
          "execution_count": 8,
          "metadata": {},
          "output_type": "execute_result"
        }
      ]
    },
    {
      "cell_type": "code",
      "metadata": {
        "id": "ef73a27d",
        "outputId": "0b3b34d4-bbc5-472f-8539-a5bd17135558"
      },
      "source": [
        "df.head()"
      ],
      "id": "ef73a27d",
      "execution_count": null,
      "outputs": [
        {
          "data": {
            "text/html": [
              "<div>\n",
              "<style scoped>\n",
              "    .dataframe tbody tr th:only-of-type {\n",
              "        vertical-align: middle;\n",
              "    }\n",
              "\n",
              "    .dataframe tbody tr th {\n",
              "        vertical-align: top;\n",
              "    }\n",
              "\n",
              "    .dataframe thead th {\n",
              "        text-align: right;\n",
              "    }\n",
              "</style>\n",
              "<table border=\"1\" class=\"dataframe\">\n",
              "  <thead>\n",
              "    <tr style=\"text-align: right;\">\n",
              "      <th></th>\n",
              "      <th>number_people</th>\n",
              "      <th>date</th>\n",
              "      <th>timestamp</th>\n",
              "      <th>day_of_week</th>\n",
              "      <th>is_weekend</th>\n",
              "      <th>is_holiday</th>\n",
              "      <th>temperature</th>\n",
              "      <th>is_start_of_semester</th>\n",
              "      <th>is_during_semester</th>\n",
              "      <th>month</th>\n",
              "      <th>hour</th>\n",
              "    </tr>\n",
              "  </thead>\n",
              "  <tbody>\n",
              "    <tr>\n",
              "      <th>0</th>\n",
              "      <td>37</td>\n",
              "      <td>2015-08-14 17:00:11-07:00</td>\n",
              "      <td>61211</td>\n",
              "      <td>4</td>\n",
              "      <td>0</td>\n",
              "      <td>0</td>\n",
              "      <td>71.76</td>\n",
              "      <td>0</td>\n",
              "      <td>0</td>\n",
              "      <td>8</td>\n",
              "      <td>17</td>\n",
              "    </tr>\n",
              "    <tr>\n",
              "      <th>1</th>\n",
              "      <td>45</td>\n",
              "      <td>2015-08-14 17:20:14-07:00</td>\n",
              "      <td>62414</td>\n",
              "      <td>4</td>\n",
              "      <td>0</td>\n",
              "      <td>0</td>\n",
              "      <td>71.76</td>\n",
              "      <td>0</td>\n",
              "      <td>0</td>\n",
              "      <td>8</td>\n",
              "      <td>17</td>\n",
              "    </tr>\n",
              "    <tr>\n",
              "      <th>2</th>\n",
              "      <td>40</td>\n",
              "      <td>2015-08-14 17:30:15-07:00</td>\n",
              "      <td>63015</td>\n",
              "      <td>4</td>\n",
              "      <td>0</td>\n",
              "      <td>0</td>\n",
              "      <td>71.76</td>\n",
              "      <td>0</td>\n",
              "      <td>0</td>\n",
              "      <td>8</td>\n",
              "      <td>17</td>\n",
              "    </tr>\n",
              "    <tr>\n",
              "      <th>3</th>\n",
              "      <td>44</td>\n",
              "      <td>2015-08-14 17:40:16-07:00</td>\n",
              "      <td>63616</td>\n",
              "      <td>4</td>\n",
              "      <td>0</td>\n",
              "      <td>0</td>\n",
              "      <td>71.76</td>\n",
              "      <td>0</td>\n",
              "      <td>0</td>\n",
              "      <td>8</td>\n",
              "      <td>17</td>\n",
              "    </tr>\n",
              "    <tr>\n",
              "      <th>4</th>\n",
              "      <td>45</td>\n",
              "      <td>2015-08-14 17:50:17-07:00</td>\n",
              "      <td>64217</td>\n",
              "      <td>4</td>\n",
              "      <td>0</td>\n",
              "      <td>0</td>\n",
              "      <td>71.76</td>\n",
              "      <td>0</td>\n",
              "      <td>0</td>\n",
              "      <td>8</td>\n",
              "      <td>17</td>\n",
              "    </tr>\n",
              "  </tbody>\n",
              "</table>\n",
              "</div>"
            ],
            "text/plain": [
              "   number_people                       date  timestamp  day_of_week  \\\n",
              "0             37  2015-08-14 17:00:11-07:00      61211            4   \n",
              "1             45  2015-08-14 17:20:14-07:00      62414            4   \n",
              "2             40  2015-08-14 17:30:15-07:00      63015            4   \n",
              "3             44  2015-08-14 17:40:16-07:00      63616            4   \n",
              "4             45  2015-08-14 17:50:17-07:00      64217            4   \n",
              "\n",
              "   is_weekend  is_holiday  temperature  is_start_of_semester  \\\n",
              "0           0           0        71.76                     0   \n",
              "1           0           0        71.76                     0   \n",
              "2           0           0        71.76                     0   \n",
              "3           0           0        71.76                     0   \n",
              "4           0           0        71.76                     0   \n",
              "\n",
              "   is_during_semester  month  hour  \n",
              "0                   0      8    17  \n",
              "1                   0      8    17  \n",
              "2                   0      8    17  \n",
              "3                   0      8    17  \n",
              "4                   0      8    17  "
            ]
          },
          "execution_count": 9,
          "metadata": {},
          "output_type": "execute_result"
        }
      ]
    },
    {
      "cell_type": "code",
      "metadata": {
        "id": "2425703f"
      },
      "source": [
        "X = df.iloc[ : , 1: ]\n",
        "y = df.iloc[ : , 0 ]"
      ],
      "id": "2425703f",
      "execution_count": null,
      "outputs": []
    },
    {
      "cell_type": "code",
      "metadata": {
        "id": "379e7752",
        "outputId": "63c413b6-8bf5-4c9d-9fb5-33ec47ad6deb"
      },
      "source": [
        "X.head()"
      ],
      "id": "379e7752",
      "execution_count": null,
      "outputs": [
        {
          "data": {
            "text/html": [
              "<div>\n",
              "<style scoped>\n",
              "    .dataframe tbody tr th:only-of-type {\n",
              "        vertical-align: middle;\n",
              "    }\n",
              "\n",
              "    .dataframe tbody tr th {\n",
              "        vertical-align: top;\n",
              "    }\n",
              "\n",
              "    .dataframe thead th {\n",
              "        text-align: right;\n",
              "    }\n",
              "</style>\n",
              "<table border=\"1\" class=\"dataframe\">\n",
              "  <thead>\n",
              "    <tr style=\"text-align: right;\">\n",
              "      <th></th>\n",
              "      <th>date</th>\n",
              "      <th>timestamp</th>\n",
              "      <th>day_of_week</th>\n",
              "      <th>is_weekend</th>\n",
              "      <th>is_holiday</th>\n",
              "      <th>temperature</th>\n",
              "      <th>is_start_of_semester</th>\n",
              "      <th>is_during_semester</th>\n",
              "      <th>month</th>\n",
              "      <th>hour</th>\n",
              "    </tr>\n",
              "  </thead>\n",
              "  <tbody>\n",
              "    <tr>\n",
              "      <th>0</th>\n",
              "      <td>2015-08-14 17:00:11-07:00</td>\n",
              "      <td>61211</td>\n",
              "      <td>4</td>\n",
              "      <td>0</td>\n",
              "      <td>0</td>\n",
              "      <td>71.76</td>\n",
              "      <td>0</td>\n",
              "      <td>0</td>\n",
              "      <td>8</td>\n",
              "      <td>17</td>\n",
              "    </tr>\n",
              "    <tr>\n",
              "      <th>1</th>\n",
              "      <td>2015-08-14 17:20:14-07:00</td>\n",
              "      <td>62414</td>\n",
              "      <td>4</td>\n",
              "      <td>0</td>\n",
              "      <td>0</td>\n",
              "      <td>71.76</td>\n",
              "      <td>0</td>\n",
              "      <td>0</td>\n",
              "      <td>8</td>\n",
              "      <td>17</td>\n",
              "    </tr>\n",
              "    <tr>\n",
              "      <th>2</th>\n",
              "      <td>2015-08-14 17:30:15-07:00</td>\n",
              "      <td>63015</td>\n",
              "      <td>4</td>\n",
              "      <td>0</td>\n",
              "      <td>0</td>\n",
              "      <td>71.76</td>\n",
              "      <td>0</td>\n",
              "      <td>0</td>\n",
              "      <td>8</td>\n",
              "      <td>17</td>\n",
              "    </tr>\n",
              "    <tr>\n",
              "      <th>3</th>\n",
              "      <td>2015-08-14 17:40:16-07:00</td>\n",
              "      <td>63616</td>\n",
              "      <td>4</td>\n",
              "      <td>0</td>\n",
              "      <td>0</td>\n",
              "      <td>71.76</td>\n",
              "      <td>0</td>\n",
              "      <td>0</td>\n",
              "      <td>8</td>\n",
              "      <td>17</td>\n",
              "    </tr>\n",
              "    <tr>\n",
              "      <th>4</th>\n",
              "      <td>2015-08-14 17:50:17-07:00</td>\n",
              "      <td>64217</td>\n",
              "      <td>4</td>\n",
              "      <td>0</td>\n",
              "      <td>0</td>\n",
              "      <td>71.76</td>\n",
              "      <td>0</td>\n",
              "      <td>0</td>\n",
              "      <td>8</td>\n",
              "      <td>17</td>\n",
              "    </tr>\n",
              "  </tbody>\n",
              "</table>\n",
              "</div>"
            ],
            "text/plain": [
              "                        date  timestamp  day_of_week  is_weekend  is_holiday  \\\n",
              "0  2015-08-14 17:00:11-07:00      61211            4           0           0   \n",
              "1  2015-08-14 17:20:14-07:00      62414            4           0           0   \n",
              "2  2015-08-14 17:30:15-07:00      63015            4           0           0   \n",
              "3  2015-08-14 17:40:16-07:00      63616            4           0           0   \n",
              "4  2015-08-14 17:50:17-07:00      64217            4           0           0   \n",
              "\n",
              "   temperature  is_start_of_semester  is_during_semester  month  hour  \n",
              "0        71.76                     0                   0      8    17  \n",
              "1        71.76                     0                   0      8    17  \n",
              "2        71.76                     0                   0      8    17  \n",
              "3        71.76                     0                   0      8    17  \n",
              "4        71.76                     0                   0      8    17  "
            ]
          },
          "execution_count": 11,
          "metadata": {},
          "output_type": "execute_result"
        }
      ]
    },
    {
      "cell_type": "code",
      "metadata": {
        "id": "b6cb8343",
        "outputId": "af02cafa-f422-4e33-e07e-300befcda079"
      },
      "source": [
        "y.head()"
      ],
      "id": "b6cb8343",
      "execution_count": null,
      "outputs": [
        {
          "data": {
            "text/plain": [
              "0    37\n",
              "1    45\n",
              "2    40\n",
              "3    44\n",
              "4    45\n",
              "Name: number_people, dtype: int64"
            ]
          },
          "execution_count": 12,
          "metadata": {},
          "output_type": "execute_result"
        }
      ]
    },
    {
      "cell_type": "code",
      "metadata": {
        "id": "f0286f24",
        "outputId": "29439ede-69ee-414c-9972-6acfe488be05"
      },
      "source": [
        "X.info()"
      ],
      "id": "f0286f24",
      "execution_count": null,
      "outputs": [
        {
          "name": "stdout",
          "output_type": "stream",
          "text": [
            "<class 'pandas.core.frame.DataFrame'>\n",
            "RangeIndex: 62184 entries, 0 to 62183\n",
            "Data columns (total 10 columns):\n",
            " #   Column                Non-Null Count  Dtype  \n",
            "---  ------                --------------  -----  \n",
            " 0   date                  62184 non-null  object \n",
            " 1   timestamp             62184 non-null  int64  \n",
            " 2   day_of_week           62184 non-null  int64  \n",
            " 3   is_weekend            62184 non-null  int64  \n",
            " 4   is_holiday            62184 non-null  int64  \n",
            " 5   temperature           62184 non-null  float64\n",
            " 6   is_start_of_semester  62184 non-null  int64  \n",
            " 7   is_during_semester    62184 non-null  int64  \n",
            " 8   month                 62184 non-null  int64  \n",
            " 9   hour                  62184 non-null  int64  \n",
            "dtypes: float64(1), int64(8), object(1)\n",
            "memory usage: 4.7+ MB\n"
          ]
        }
      ]
    },
    {
      "cell_type": "code",
      "metadata": {
        "id": "834fe47f"
      },
      "source": [
        "X.drop(['date'], axis=1, inplace=True)"
      ],
      "id": "834fe47f",
      "execution_count": null,
      "outputs": []
    },
    {
      "cell_type": "code",
      "metadata": {
        "id": "dde856da",
        "outputId": "59743086-8e28-4229-9534-7e75d1868b9d"
      },
      "source": [
        "X.head()"
      ],
      "id": "dde856da",
      "execution_count": null,
      "outputs": [
        {
          "data": {
            "text/html": [
              "<div>\n",
              "<style scoped>\n",
              "    .dataframe tbody tr th:only-of-type {\n",
              "        vertical-align: middle;\n",
              "    }\n",
              "\n",
              "    .dataframe tbody tr th {\n",
              "        vertical-align: top;\n",
              "    }\n",
              "\n",
              "    .dataframe thead th {\n",
              "        text-align: right;\n",
              "    }\n",
              "</style>\n",
              "<table border=\"1\" class=\"dataframe\">\n",
              "  <thead>\n",
              "    <tr style=\"text-align: right;\">\n",
              "      <th></th>\n",
              "      <th>timestamp</th>\n",
              "      <th>day_of_week</th>\n",
              "      <th>is_weekend</th>\n",
              "      <th>is_holiday</th>\n",
              "      <th>temperature</th>\n",
              "      <th>is_start_of_semester</th>\n",
              "      <th>is_during_semester</th>\n",
              "      <th>month</th>\n",
              "      <th>hour</th>\n",
              "    </tr>\n",
              "  </thead>\n",
              "  <tbody>\n",
              "    <tr>\n",
              "      <th>0</th>\n",
              "      <td>61211</td>\n",
              "      <td>4</td>\n",
              "      <td>0</td>\n",
              "      <td>0</td>\n",
              "      <td>71.76</td>\n",
              "      <td>0</td>\n",
              "      <td>0</td>\n",
              "      <td>8</td>\n",
              "      <td>17</td>\n",
              "    </tr>\n",
              "    <tr>\n",
              "      <th>1</th>\n",
              "      <td>62414</td>\n",
              "      <td>4</td>\n",
              "      <td>0</td>\n",
              "      <td>0</td>\n",
              "      <td>71.76</td>\n",
              "      <td>0</td>\n",
              "      <td>0</td>\n",
              "      <td>8</td>\n",
              "      <td>17</td>\n",
              "    </tr>\n",
              "    <tr>\n",
              "      <th>2</th>\n",
              "      <td>63015</td>\n",
              "      <td>4</td>\n",
              "      <td>0</td>\n",
              "      <td>0</td>\n",
              "      <td>71.76</td>\n",
              "      <td>0</td>\n",
              "      <td>0</td>\n",
              "      <td>8</td>\n",
              "      <td>17</td>\n",
              "    </tr>\n",
              "    <tr>\n",
              "      <th>3</th>\n",
              "      <td>63616</td>\n",
              "      <td>4</td>\n",
              "      <td>0</td>\n",
              "      <td>0</td>\n",
              "      <td>71.76</td>\n",
              "      <td>0</td>\n",
              "      <td>0</td>\n",
              "      <td>8</td>\n",
              "      <td>17</td>\n",
              "    </tr>\n",
              "    <tr>\n",
              "      <th>4</th>\n",
              "      <td>64217</td>\n",
              "      <td>4</td>\n",
              "      <td>0</td>\n",
              "      <td>0</td>\n",
              "      <td>71.76</td>\n",
              "      <td>0</td>\n",
              "      <td>0</td>\n",
              "      <td>8</td>\n",
              "      <td>17</td>\n",
              "    </tr>\n",
              "  </tbody>\n",
              "</table>\n",
              "</div>"
            ],
            "text/plain": [
              "   timestamp  day_of_week  is_weekend  is_holiday  temperature  \\\n",
              "0      61211            4           0           0        71.76   \n",
              "1      62414            4           0           0        71.76   \n",
              "2      63015            4           0           0        71.76   \n",
              "3      63616            4           0           0        71.76   \n",
              "4      64217            4           0           0        71.76   \n",
              "\n",
              "   is_start_of_semester  is_during_semester  month  hour  \n",
              "0                     0                   0      8    17  \n",
              "1                     0                   0      8    17  \n",
              "2                     0                   0      8    17  \n",
              "3                     0                   0      8    17  \n",
              "4                     0                   0      8    17  "
            ]
          },
          "execution_count": 15,
          "metadata": {},
          "output_type": "execute_result"
        }
      ]
    },
    {
      "cell_type": "code",
      "metadata": {
        "id": "21bd7a18"
      },
      "source": [
        "from sklearn.model_selection import train_test_split\n",
        "X_train, X_test, y_train, y_test = train_test_split(X, y, test_size=0.20, random_state=0)"
      ],
      "id": "21bd7a18",
      "execution_count": null,
      "outputs": []
    },
    {
      "cell_type": "markdown",
      "metadata": {
        "id": "14b17547"
      },
      "source": [
        "__Data must be scaled before we go for PCA.__"
      ],
      "id": "14b17547"
    },
    {
      "cell_type": "code",
      "metadata": {
        "id": "f01758df",
        "outputId": "d41bba59-dd58-4aac-aa8f-8a7d9fce113b"
      },
      "source": [
        "col = list(X_train.columns)\n",
        "col"
      ],
      "id": "f01758df",
      "execution_count": null,
      "outputs": [
        {
          "data": {
            "text/plain": [
              "['timestamp',\n",
              " 'day_of_week',\n",
              " 'is_weekend',\n",
              " 'is_holiday',\n",
              " 'temperature',\n",
              " 'is_start_of_semester',\n",
              " 'is_during_semester',\n",
              " 'month',\n",
              " 'hour']"
            ]
          },
          "execution_count": 17,
          "metadata": {},
          "output_type": "execute_result"
        }
      ]
    },
    {
      "cell_type": "code",
      "metadata": {
        "id": "56d489de"
      },
      "source": [
        "from sklearn.preprocessing import StandardScaler\n",
        "scaler = StandardScaler()\n",
        "X_train[col] = scaler.fit_transform(X_train[col])\n",
        "X_test[col] = scaler.transform(X_test[col])"
      ],
      "id": "56d489de",
      "execution_count": null,
      "outputs": []
    },
    {
      "cell_type": "code",
      "metadata": {
        "id": "4c48b427",
        "outputId": "75655f84-487d-4b06-e33f-52aed7fc8275"
      },
      "source": [
        "X_train.head()"
      ],
      "id": "4c48b427",
      "execution_count": null,
      "outputs": [
        {
          "data": {
            "text/html": [
              "<div>\n",
              "<style scoped>\n",
              "    .dataframe tbody tr th:only-of-type {\n",
              "        vertical-align: middle;\n",
              "    }\n",
              "\n",
              "    .dataframe tbody tr th {\n",
              "        vertical-align: top;\n",
              "    }\n",
              "\n",
              "    .dataframe thead th {\n",
              "        text-align: right;\n",
              "    }\n",
              "</style>\n",
              "<table border=\"1\" class=\"dataframe\">\n",
              "  <thead>\n",
              "    <tr style=\"text-align: right;\">\n",
              "      <th></th>\n",
              "      <th>timestamp</th>\n",
              "      <th>day_of_week</th>\n",
              "      <th>is_weekend</th>\n",
              "      <th>is_holiday</th>\n",
              "      <th>temperature</th>\n",
              "      <th>is_start_of_semester</th>\n",
              "      <th>is_during_semester</th>\n",
              "      <th>month</th>\n",
              "      <th>hour</th>\n",
              "    </tr>\n",
              "  </thead>\n",
              "  <tbody>\n",
              "    <tr>\n",
              "      <th>19329</th>\n",
              "      <td>0.436362</td>\n",
              "      <td>1.510975</td>\n",
              "      <td>1.591750</td>\n",
              "      <td>-0.05079</td>\n",
              "      <td>0.385661</td>\n",
              "      <td>-0.291538</td>\n",
              "      <td>0.716938</td>\n",
              "      <td>-1.579075</td>\n",
              "      <td>0.409363</td>\n",
              "    </tr>\n",
              "    <tr>\n",
              "      <th>38712</th>\n",
              "      <td>-1.379801</td>\n",
              "      <td>1.510975</td>\n",
              "      <td>1.591750</td>\n",
              "      <td>-0.05079</td>\n",
              "      <td>-0.245076</td>\n",
              "      <td>-0.291538</td>\n",
              "      <td>-1.394821</td>\n",
              "      <td>0.161591</td>\n",
              "      <td>-1.377214</td>\n",
              "    </tr>\n",
              "    <tr>\n",
              "      <th>3711</th>\n",
              "      <td>-1.744619</td>\n",
              "      <td>-0.997384</td>\n",
              "      <td>-0.628239</td>\n",
              "      <td>-0.05079</td>\n",
              "      <td>0.309783</td>\n",
              "      <td>-0.291538</td>\n",
              "      <td>0.716938</td>\n",
              "      <td>0.451702</td>\n",
              "      <td>-1.674977</td>\n",
              "    </tr>\n",
              "    <tr>\n",
              "      <th>41920</th>\n",
              "      <td>-1.432673</td>\n",
              "      <td>-0.997384</td>\n",
              "      <td>-0.628239</td>\n",
              "      <td>-0.05079</td>\n",
              "      <td>0.096376</td>\n",
              "      <td>3.430082</td>\n",
              "      <td>0.716938</td>\n",
              "      <td>0.161591</td>\n",
              "      <td>-1.377214</td>\n",
              "    </tr>\n",
              "    <tr>\n",
              "      <th>43371</th>\n",
              "      <td>0.713859</td>\n",
              "      <td>0.507632</td>\n",
              "      <td>-0.628239</td>\n",
              "      <td>-0.05079</td>\n",
              "      <td>0.723951</td>\n",
              "      <td>-0.291538</td>\n",
              "      <td>0.716938</td>\n",
              "      <td>0.451702</td>\n",
              "      <td>0.707126</td>\n",
              "    </tr>\n",
              "  </tbody>\n",
              "</table>\n",
              "</div>"
            ],
            "text/plain": [
              "       timestamp  day_of_week  is_weekend  is_holiday  temperature  \\\n",
              "19329   0.436362     1.510975    1.591750    -0.05079     0.385661   \n",
              "38712  -1.379801     1.510975    1.591750    -0.05079    -0.245076   \n",
              "3711   -1.744619    -0.997384   -0.628239    -0.05079     0.309783   \n",
              "41920  -1.432673    -0.997384   -0.628239    -0.05079     0.096376   \n",
              "43371   0.713859     0.507632   -0.628239    -0.05079     0.723951   \n",
              "\n",
              "       is_start_of_semester  is_during_semester     month      hour  \n",
              "19329             -0.291538            0.716938 -1.579075  0.409363  \n",
              "38712             -0.291538           -1.394821  0.161591 -1.377214  \n",
              "3711              -0.291538            0.716938  0.451702 -1.674977  \n",
              "41920              3.430082            0.716938  0.161591 -1.377214  \n",
              "43371             -0.291538            0.716938  0.451702  0.707126  "
            ]
          },
          "execution_count": 19,
          "metadata": {},
          "output_type": "execute_result"
        }
      ]
    },
    {
      "cell_type": "code",
      "metadata": {
        "id": "2dfe90ef",
        "outputId": "2864750e-29d6-4748-ed98-5b334d554133"
      },
      "source": [
        "X_test.head()"
      ],
      "id": "2dfe90ef",
      "execution_count": null,
      "outputs": [
        {
          "data": {
            "text/html": [
              "<div>\n",
              "<style scoped>\n",
              "    .dataframe tbody tr th:only-of-type {\n",
              "        vertical-align: middle;\n",
              "    }\n",
              "\n",
              "    .dataframe tbody tr th {\n",
              "        vertical-align: top;\n",
              "    }\n",
              "\n",
              "    .dataframe thead th {\n",
              "        text-align: right;\n",
              "    }\n",
              "</style>\n",
              "<table border=\"1\" class=\"dataframe\">\n",
              "  <thead>\n",
              "    <tr style=\"text-align: right;\">\n",
              "      <th></th>\n",
              "      <th>timestamp</th>\n",
              "      <th>day_of_week</th>\n",
              "      <th>is_weekend</th>\n",
              "      <th>is_holiday</th>\n",
              "      <th>temperature</th>\n",
              "      <th>is_start_of_semester</th>\n",
              "      <th>is_during_semester</th>\n",
              "      <th>month</th>\n",
              "      <th>hour</th>\n",
              "    </tr>\n",
              "  </thead>\n",
              "  <tbody>\n",
              "    <tr>\n",
              "      <th>6682</th>\n",
              "      <td>-0.778131</td>\n",
              "      <td>0.005960</td>\n",
              "      <td>-0.628239</td>\n",
              "      <td>-0.05079</td>\n",
              "      <td>0.229162</td>\n",
              "      <td>-0.291538</td>\n",
              "      <td>0.716938</td>\n",
              "      <td>0.741814</td>\n",
              "      <td>-0.781688</td>\n",
              "    </tr>\n",
              "    <tr>\n",
              "      <th>37799</th>\n",
              "      <td>0.877185</td>\n",
              "      <td>1.510975</td>\n",
              "      <td>1.591750</td>\n",
              "      <td>-0.05079</td>\n",
              "      <td>0.589583</td>\n",
              "      <td>-0.291538</td>\n",
              "      <td>-1.394821</td>\n",
              "      <td>-0.128520</td>\n",
              "      <td>0.856008</td>\n",
              "    </tr>\n",
              "    <tr>\n",
              "      <th>2657</th>\n",
              "      <td>0.262792</td>\n",
              "      <td>0.005960</td>\n",
              "      <td>-0.628239</td>\n",
              "      <td>-0.05079</td>\n",
              "      <td>2.214638</td>\n",
              "      <td>-0.291538</td>\n",
              "      <td>0.716938</td>\n",
              "      <td>0.451702</td>\n",
              "      <td>0.260482</td>\n",
              "    </tr>\n",
              "    <tr>\n",
              "      <th>41010</th>\n",
              "      <td>-1.695382</td>\n",
              "      <td>-0.997384</td>\n",
              "      <td>-0.628239</td>\n",
              "      <td>-0.05079</td>\n",
              "      <td>0.123249</td>\n",
              "      <td>-0.291538</td>\n",
              "      <td>-1.394821</td>\n",
              "      <td>0.161591</td>\n",
              "      <td>-1.674977</td>\n",
              "    </tr>\n",
              "    <tr>\n",
              "      <th>35104</th>\n",
              "      <td>1.648624</td>\n",
              "      <td>-0.997384</td>\n",
              "      <td>-0.628239</td>\n",
              "      <td>-0.05079</td>\n",
              "      <td>-0.034830</td>\n",
              "      <td>-0.291538</td>\n",
              "      <td>-1.394821</td>\n",
              "      <td>-0.128520</td>\n",
              "      <td>1.600415</td>\n",
              "    </tr>\n",
              "  </tbody>\n",
              "</table>\n",
              "</div>"
            ],
            "text/plain": [
              "       timestamp  day_of_week  is_weekend  is_holiday  temperature  \\\n",
              "6682   -0.778131     0.005960   -0.628239    -0.05079     0.229162   \n",
              "37799   0.877185     1.510975    1.591750    -0.05079     0.589583   \n",
              "2657    0.262792     0.005960   -0.628239    -0.05079     2.214638   \n",
              "41010  -1.695382    -0.997384   -0.628239    -0.05079     0.123249   \n",
              "35104   1.648624    -0.997384   -0.628239    -0.05079    -0.034830   \n",
              "\n",
              "       is_start_of_semester  is_during_semester     month      hour  \n",
              "6682              -0.291538            0.716938  0.741814 -0.781688  \n",
              "37799             -0.291538           -1.394821 -0.128520  0.856008  \n",
              "2657              -0.291538            0.716938  0.451702  0.260482  \n",
              "41010             -0.291538           -1.394821  0.161591 -1.674977  \n",
              "35104             -0.291538           -1.394821 -0.128520  1.600415  "
            ]
          },
          "execution_count": 20,
          "metadata": {},
          "output_type": "execute_result"
        }
      ]
    },
    {
      "cell_type": "markdown",
      "metadata": {
        "id": "d0230ddc"
      },
      "source": [
        "# PCA - Considering all Principal Components"
      ],
      "id": "d0230ddc"
    },
    {
      "cell_type": "code",
      "metadata": {
        "id": "21c0b4ad",
        "outputId": "56623881-b6a1-4f10-cbc4-81bb4a5df3ec"
      },
      "source": [
        "len(X_train.columns)"
      ],
      "id": "21c0b4ad",
      "execution_count": null,
      "outputs": [
        {
          "data": {
            "text/plain": [
              "9"
            ]
          },
          "execution_count": 21,
          "metadata": {},
          "output_type": "execute_result"
        }
      ]
    },
    {
      "cell_type": "code",
      "metadata": {
        "id": "489be249"
      },
      "source": [
        "from sklearn.decomposition import PCA\n",
        "pca = PCA()\n",
        "X_train[col] = pca.fit_transform(X_train[col])\n",
        "X_test[col] = pca.transform(X_test[col])"
      ],
      "id": "489be249",
      "execution_count": null,
      "outputs": []
    },
    {
      "cell_type": "code",
      "metadata": {
        "id": "ed2048df",
        "outputId": "5a0042e3-be99-4eb8-c5a9-136af5434d79"
      },
      "source": [
        "explained_variance = pca.explained_variance_ratio_\n",
        "explained_variance"
      ],
      "id": "ed2048df",
      "execution_count": null,
      "outputs": [
        {
          "data": {
            "text/plain": [
              "array([2.30955437e-01, 2.00081683e-01, 1.45123034e-01, 1.28658061e-01,\n",
              "       1.01643906e-01, 9.27673503e-02, 7.75920089e-02, 2.30759000e-02,\n",
              "       1.02618932e-04])"
            ]
          },
          "execution_count": 23,
          "metadata": {},
          "output_type": "execute_result"
        }
      ]
    },
    {
      "cell_type": "code",
      "metadata": {
        "id": "af9d5d20",
        "outputId": "5083ae15-af18-449f-e3c5-2ac4514e0b78"
      },
      "source": [
        "type(explained_variance)"
      ],
      "id": "af9d5d20",
      "execution_count": null,
      "outputs": [
        {
          "data": {
            "text/plain": [
              "numpy.ndarray"
            ]
          },
          "execution_count": 24,
          "metadata": {},
          "output_type": "execute_result"
        }
      ]
    },
    {
      "cell_type": "code",
      "metadata": {
        "id": "c5285af9",
        "outputId": "7b2edb02-394c-4c7c-c75b-5d1d20792f2a"
      },
      "source": [
        "np.sum(explained_variance)"
      ],
      "id": "c5285af9",
      "execution_count": null,
      "outputs": [
        {
          "data": {
            "text/plain": [
              "0.9999999999999999"
            ]
          },
          "execution_count": 25,
          "metadata": {},
          "output_type": "execute_result"
        }
      ]
    },
    {
      "cell_type": "code",
      "metadata": {
        "id": "720785cd",
        "outputId": "53f2aa34-c8c0-4120-ddce-c8c9f6a2da7f"
      },
      "source": [
        "np.sum(explained_variance[:2])"
      ],
      "id": "720785cd",
      "execution_count": null,
      "outputs": [
        {
          "data": {
            "text/plain": [
              "0.4310371201414904"
            ]
          },
          "execution_count": 26,
          "metadata": {},
          "output_type": "execute_result"
        }
      ]
    },
    {
      "cell_type": "code",
      "metadata": {
        "id": "12c58af1",
        "outputId": "f51f5890-a8c6-46a9-f3d4-369e830dd101"
      },
      "source": [
        "np.sum(explained_variance[:3])"
      ],
      "id": "12c58af1",
      "execution_count": null,
      "outputs": [
        {
          "data": {
            "text/plain": [
              "0.5761601542926298"
            ]
          },
          "execution_count": 27,
          "metadata": {},
          "output_type": "execute_result"
        }
      ]
    },
    {
      "cell_type": "code",
      "metadata": {
        "id": "712af624",
        "outputId": "85b5bffa-83ba-4a4e-c955-d73770488c8c"
      },
      "source": [
        "np.sum(explained_variance[:4])"
      ],
      "id": "712af624",
      "execution_count": null,
      "outputs": [
        {
          "data": {
            "text/plain": [
              "0.7048182153961506"
            ]
          },
          "execution_count": 28,
          "metadata": {},
          "output_type": "execute_result"
        }
      ]
    },
    {
      "cell_type": "code",
      "metadata": {
        "id": "fb71e0ae",
        "outputId": "72794cd8-fb9b-4e9c-f250-e7d327faaf58"
      },
      "source": [
        "np.sum(explained_variance[:5])"
      ],
      "id": "fb71e0ae",
      "execution_count": null,
      "outputs": [
        {
          "data": {
            "text/plain": [
              "0.8064621218734586"
            ]
          },
          "execution_count": 29,
          "metadata": {},
          "output_type": "execute_result"
        }
      ]
    },
    {
      "cell_type": "code",
      "metadata": {
        "id": "15230540",
        "outputId": "91c0d755-c553-4e21-e64f-ef0d0e15414a"
      },
      "source": [
        "np.sum(explained_variance[:6])"
      ],
      "id": "15230540",
      "execution_count": null,
      "outputs": [
        {
          "data": {
            "text/plain": [
              "0.8992294721983571"
            ]
          },
          "execution_count": 30,
          "metadata": {},
          "output_type": "execute_result"
        }
      ]
    },
    {
      "cell_type": "code",
      "metadata": {
        "id": "7394d5d8",
        "outputId": "fc85b5e8-12e5-4013-88dc-35d04326acd9"
      },
      "source": [
        "np.sum(explained_variance[:7])"
      ],
      "id": "7394d5d8",
      "execution_count": null,
      "outputs": [
        {
          "data": {
            "text/plain": [
              "0.976821481108041"
            ]
          },
          "execution_count": 31,
          "metadata": {},
          "output_type": "execute_result"
        }
      ]
    },
    {
      "cell_type": "code",
      "metadata": {
        "id": "6942a018",
        "outputId": "ad65b61c-249a-458c-9eb6-fd10ec9950c3"
      },
      "source": [
        "np.sum(explained_variance[7:])"
      ],
      "id": "6942a018",
      "execution_count": null,
      "outputs": [
        {
          "data": {
            "text/plain": [
              "0.023178518891959"
            ]
          },
          "execution_count": 32,
          "metadata": {},
          "output_type": "execute_result"
        }
      ]
    },
    {
      "cell_type": "code",
      "metadata": {
        "id": "f540b899",
        "outputId": "6b033d81-679c-4067-c6aa-26e8fb6ff3f5"
      },
      "source": [
        "components = len(explained_variance)\n",
        "components"
      ],
      "id": "f540b899",
      "execution_count": null,
      "outputs": [
        {
          "data": {
            "text/plain": [
              "9"
            ]
          },
          "execution_count": 33,
          "metadata": {},
          "output_type": "execute_result"
        }
      ]
    },
    {
      "cell_type": "code",
      "metadata": {
        "id": "287b4af3",
        "outputId": "d2f0eead-e412-4913-f083-cb3cd9ef6ea7"
      },
      "source": [
        "plt.bar(range(components), explained_variance, alpha=0.5, align='center', label='Individual Explained Variance')\n",
        "plt.ylabel(\"Explained variance Ratio\")\n",
        "plt.xlabel(\"Principal COmponents\")\n",
        "plt.legend(loc='best')\n",
        "plt.tight_layout()"
      ],
      "id": "287b4af3",
      "execution_count": null,
      "outputs": [
        {
          "data": {
            "image/png": "[encoded data removed]",
            "text/plain": [
              "<Figure size 432x288 with 1 Axes>"
            ]
          },
          "metadata": {
            "needs_background": "light"
          },
          "output_type": "display_data"
        }
      ]
    },
    {
      "cell_type": "code",
      "metadata": {
        "id": "12c1d93b"
      },
      "source": [
        "from sklearn.ensemble import RandomForestRegressor\n",
        "model = RandomForestRegressor()"
      ],
      "id": "12c1d93b",
      "execution_count": null,
      "outputs": []
    },
    {
      "cell_type": "code",
      "metadata": {
        "id": "b6565b6b",
        "outputId": "3a5f9fe1-cffc-41fe-9170-cdee5c765865"
      },
      "source": [
        "np.arange(10,200,30)"
      ],
      "id": "b6565b6b",
      "execution_count": null,
      "outputs": [
        {
          "data": {
            "text/plain": [
              "array([ 10,  40,  70, 100, 130, 160, 190])"
            ]
          },
          "execution_count": 36,
          "metadata": {},
          "output_type": "execute_result"
        }
      ]
    },
    {
      "cell_type": "code",
      "metadata": {
        "id": "dc0c79c6",
        "outputId": "8607f639-e3f8-4f3c-b5f6-4e07b5f08e70"
      },
      "source": [
        "from tqdm import tqdm\n",
        "estimators = np.arange(10,200,30)\n",
        "scores = []\n",
        "for n in tqdm(estimators):\n",
        "    model.set_params(n_estimators= n, n_jobs= -1)\n",
        "    model.fit(X_train, y_train)\n",
        "    scores.append(model.score(X_test, y_test))\n",
        "print(scores)\n",
        "print(sum(scores)/len(scores))"
      ],
      "id": "dc0c79c6",
      "execution_count": null,
      "outputs": [
        {
          "name": "stderr",
          "output_type": "stream",
          "text": [
            "100%|██████████| 7/7 [00:53<00:00,  7.70s/it]"
          ]
        },
        {
          "name": "stdout",
          "output_type": "stream",
          "text": [
            "[0.8878340272456641, 0.8975866779421802, 0.8991252504380133, 0.8989531112868564, 0.9002886994267906, 0.8998011376799276, 0.9001343878067777]\n",
            "0.8976747559751728\n"
          ]
        },
        {
          "name": "stderr",
          "output_type": "stream",
          "text": [
            "\n"
          ]
        }
      ]
    },
    {
      "cell_type": "code",
      "metadata": {
        "id": "0fa884a3",
        "outputId": "663e79c6-999d-456b-c9e6-2f65da704d56"
      },
      "source": [
        "plt.title(\"Effect of n_estimators\")\n",
        "plt.xlabel(\"n_estimator\")\n",
        "plt.ylabel(\"score\")\n",
        "plt.plot(estimators, scores)\n",
        "plt.show()"
      ],
      "id": "0fa884a3",
      "execution_count": null,
      "outputs": [
        {
          "data": {
            "image/png": "[encoded data removed]",
            "text/plain": [
              "<Figure size 432x288 with 1 Axes>"
            ]
          },
          "metadata": {
            "needs_background": "light"
          },
          "output_type": "display_data"
        }
      ]
    },
    {
      "cell_type": "code",
      "metadata": {
        "id": "cb3385b7",
        "outputId": "e2829097-a80c-43e4-ce4c-1b0b3d343019"
      },
      "source": [
        "regressor = RandomForestRegressor(n_estimators=130, random_state=0, n_jobs=-1)\n",
        "regressor.fit(X_train, y_train)"
      ],
      "id": "cb3385b7",
      "execution_count": null,
      "outputs": [
        {
          "data": {
            "text/plain": [
              "RandomForestRegressor(n_estimators=130, n_jobs=-1, random_state=0)"
            ]
          },
          "execution_count": 39,
          "metadata": {},
          "output_type": "execute_result"
        }
      ]
    },
    {
      "cell_type": "code",
      "metadata": {
        "id": "5a8ed383"
      },
      "source": [
        "y_pred = regressor.predict(X_test)"
      ],
      "id": "5a8ed383",
      "execution_count": null,
      "outputs": []
    },
    {
      "cell_type": "code",
      "metadata": {
        "id": "55e8805c",
        "outputId": "dff4e5bf-37fc-4282-a3a4-e0fe2622ca66"
      },
      "source": [
        "from sklearn.metrics import mean_squared_error, r2_score\n",
        "r2_score(y_test, y_pred)"
      ],
      "id": "55e8805c",
      "execution_count": null,
      "outputs": [
        {
          "data": {
            "text/plain": [
              "0.8992298415704245"
            ]
          },
          "execution_count": 41,
          "metadata": {},
          "output_type": "execute_result"
        }
      ]
    },
    {
      "cell_type": "code",
      "metadata": {
        "id": "85aa5cdf",
        "outputId": "7d4fa96c-40d1-4187-fb4e-53958f2487aa"
      },
      "source": [
        "np.sqrt(mean_squared_error(y_test, y_pred))"
      ],
      "id": "85aa5cdf",
      "execution_count": null,
      "outputs": [
        {
          "data": {
            "text/plain": [
              "7.200665423385055"
            ]
          },
          "execution_count": 42,
          "metadata": {},
          "output_type": "execute_result"
        }
      ]
    },
    {
      "cell_type": "markdown",
      "metadata": {
        "id": "8ba7b5fe"
      },
      "source": [
        "__The model obtained above is using all the Principal components. Lets try with less number of components.__"
      ],
      "id": "8ba7b5fe"
    },
    {
      "cell_type": "markdown",
      "metadata": {
        "id": "60ab9621"
      },
      "source": [
        "# PCA - Considering the first Component only"
      ],
      "id": "60ab9621"
    },
    {
      "cell_type": "code",
      "metadata": {
        "id": "13dfcec6"
      },
      "source": [
        "from sklearn.decomposition import PCA\n",
        "pca1 = PCA(n_components=1)\n",
        "X_train1 = pca1.fit_transform(X_train[col])\n",
        "X_test1 = pca1.transform(X_test[col])"
      ],
      "id": "13dfcec6",
      "execution_count": null,
      "outputs": []
    },
    {
      "cell_type": "code",
      "metadata": {
        "id": "e32e81fb",
        "outputId": "5ebc1c7b-bf4c-4b37-ec53-30e8b8f42b29"
      },
      "source": [
        "explained_variance = pca1.explained_variance_ratio_\n",
        "explained_variance"
      ],
      "id": "e32e81fb",
      "execution_count": null,
      "outputs": [
        {
          "data": {
            "text/plain": [
              "array([0.23095544])"
            ]
          },
          "execution_count": 44,
          "metadata": {},
          "output_type": "execute_result"
        }
      ]
    },
    {
      "cell_type": "code",
      "metadata": {
        "id": "f7c5c5d4",
        "outputId": "255332c0-69f9-443c-a941-8aecfe6a840a"
      },
      "source": [
        "type(explained_variance)"
      ],
      "id": "f7c5c5d4",
      "execution_count": null,
      "outputs": [
        {
          "data": {
            "text/plain": [
              "numpy.ndarray"
            ]
          },
          "execution_count": 45,
          "metadata": {},
          "output_type": "execute_result"
        }
      ]
    },
    {
      "cell_type": "code",
      "metadata": {
        "id": "1ed4092c",
        "outputId": "3dfe92a8-c96f-4bc5-d5ca-fb0111d56a79"
      },
      "source": [
        "np.sum(explained_variance)"
      ],
      "id": "1ed4092c",
      "execution_count": null,
      "outputs": [
        {
          "data": {
            "text/plain": [
              "0.2309554367605429"
            ]
          },
          "execution_count": 46,
          "metadata": {},
          "output_type": "execute_result"
        }
      ]
    },
    {
      "cell_type": "code",
      "metadata": {
        "id": "7080db41",
        "outputId": "48cb5343-16ec-4bda-977c-ff1a8d4a8885"
      },
      "source": [
        "components = len(explained_variance)\n",
        "components"
      ],
      "id": "7080db41",
      "execution_count": null,
      "outputs": [
        {
          "data": {
            "text/plain": [
              "1"
            ]
          },
          "execution_count": 47,
          "metadata": {},
          "output_type": "execute_result"
        }
      ]
    },
    {
      "cell_type": "code",
      "metadata": {
        "id": "c1540ae7",
        "outputId": "8b0fe89c-885a-4dd7-9c3a-60cbf8080c68"
      },
      "source": [
        "plt.bar(range(components), explained_variance, alpha=0.5, align='center', label='Individual Explained Variance')\n",
        "plt.ylabel(\"Explained variance Ratio\")\n",
        "plt.xlabel(\"Principal COmponents\")\n",
        "plt.legend(loc='best')\n",
        "plt.tight_layout()"
      ],
      "id": "c1540ae7",
      "execution_count": null,
      "outputs": [
        {
          "data": {
            "image/png": "[encoded data removed]",
            "text/plain": [
              "<Figure size 432x288 with 1 Axes>"
            ]
          },
          "metadata": {
            "needs_background": "light"
          },
          "output_type": "display_data"
        }
      ]
    },
    {
      "cell_type": "code",
      "metadata": {
        "id": "849beef7"
      },
      "source": [
        "from sklearn.ensemble import RandomForestRegressor\n",
        "model = RandomForestRegressor()"
      ],
      "id": "849beef7",
      "execution_count": null,
      "outputs": []
    },
    {
      "cell_type": "code",
      "metadata": {
        "id": "a4c9d5f2",
        "outputId": "752e5dbd-8438-4f32-f765-35881e61bf44"
      },
      "source": [
        "from tqdm import tqdm\n",
        "estimators = np.arange(10,200,30)\n",
        "scores = []\n",
        "for n in tqdm(estimators):\n",
        "    model.set_params(n_estimators= n, n_jobs= -1)\n",
        "    model.fit(X_train1, y_train)\n",
        "    scores.append(model.score(X_test1, y_test))\n",
        "print(scores)\n",
        "print(sum(scores)/len(scores))"
      ],
      "id": "a4c9d5f2",
      "execution_count": null,
      "outputs": [
        {
          "name": "stderr",
          "output_type": "stream",
          "text": [
            "100%|██████████| 7/7 [00:14<00:00,  2.00s/it]"
          ]
        },
        {
          "name": "stdout",
          "output_type": "stream",
          "text": [
            "[0.15767293073918376, 0.1737143362356076, 0.17768414260487542, 0.17803055293801384, 0.18102590428312904, 0.1809435026757229, 0.18101932377580388]\n",
            "0.17572724189319094\n"
          ]
        },
        {
          "name": "stderr",
          "output_type": "stream",
          "text": [
            "\n"
          ]
        }
      ]
    },
    {
      "cell_type": "code",
      "metadata": {
        "id": "214f6afb",
        "outputId": "bbb2994b-bc53-42c6-9ee1-5bd0104cd315"
      },
      "source": [
        "plt.title(\"Effect of n_estimators\")\n",
        "plt.xlabel(\"n_estimator\")\n",
        "plt.ylabel(\"score\")\n",
        "plt.plot(estimators, scores)\n",
        "plt.show()"
      ],
      "id": "214f6afb",
      "execution_count": null,
      "outputs": [
        {
          "data": {
            "image/png": "[encoded data removed]",
            "text/plain": [
              "<Figure size 432x288 with 1 Axes>"
            ]
          },
          "metadata": {
            "needs_background": "light"
          },
          "output_type": "display_data"
        }
      ]
    },
    {
      "cell_type": "code",
      "metadata": {
        "id": "2cf35f3c",
        "outputId": "99b0dcac-d45c-4482-ca41-e855b221d5f5"
      },
      "source": [
        "regressor = RandomForestRegressor(n_estimators=130, random_state=0, n_jobs=-1)\n",
        "regressor.fit(X_train1, y_train)"
      ],
      "id": "2cf35f3c",
      "execution_count": null,
      "outputs": [
        {
          "data": {
            "text/plain": [
              "RandomForestRegressor(n_estimators=130, n_jobs=-1, random_state=0)"
            ]
          },
          "execution_count": 52,
          "metadata": {},
          "output_type": "execute_result"
        }
      ]
    },
    {
      "cell_type": "code",
      "metadata": {
        "id": "98dd9bf7"
      },
      "source": [
        "y_pred = regressor.predict(X_test1)"
      ],
      "id": "98dd9bf7",
      "execution_count": null,
      "outputs": []
    },
    {
      "cell_type": "code",
      "metadata": {
        "id": "fca99a96",
        "outputId": "7882f8b6-f5ce-4765-9722-816a7e6005c0"
      },
      "source": [
        "from sklearn.metrics import mean_squared_error, r2_score\n",
        "r2_score(y_test, y_pred)"
      ],
      "id": "fca99a96",
      "execution_count": null,
      "outputs": [
        {
          "data": {
            "text/plain": [
              "0.17869258308610914"
            ]
          },
          "execution_count": 54,
          "metadata": {},
          "output_type": "execute_result"
        }
      ]
    },
    {
      "cell_type": "code",
      "metadata": {
        "id": "0157d521",
        "outputId": "6428c992-96dc-498e-f5d0-a038ee165d81"
      },
      "source": [
        "np.sqrt(mean_squared_error(y_test, y_pred))"
      ],
      "id": "0157d521",
      "execution_count": null,
      "outputs": [
        {
          "data": {
            "text/plain": [
              "20.556990432461898"
            ]
          },
          "execution_count": 55,
          "metadata": {},
          "output_type": "execute_result"
        }
      ]
    },
    {
      "cell_type": "markdown",
      "metadata": {
        "id": "df71ec97"
      },
      "source": [
        "# PCA - Considering the first two Principal Components only"
      ],
      "id": "df71ec97"
    },
    {
      "cell_type": "code",
      "metadata": {
        "id": "ef3f0caf"
      },
      "source": [
        "from sklearn.decomposition import PCA\n",
        "pca2 = PCA(n_components=2)\n",
        "X_train2 = pca2.fit_transform(X_train[col])\n",
        "X_test2 = pca2.transform(X_test[col])"
      ],
      "id": "ef3f0caf",
      "execution_count": null,
      "outputs": []
    },
    {
      "cell_type": "code",
      "metadata": {
        "id": "bf5eebed",
        "outputId": "67fe74d4-d514-4bb1-9fcb-30a6e4f3bb54"
      },
      "source": [
        "explained_variance = pca2.explained_variance_ratio_\n",
        "explained_variance"
      ],
      "id": "bf5eebed",
      "execution_count": null,
      "outputs": [
        {
          "data": {
            "text/plain": [
              "array([0.23095544, 0.20008168])"
            ]
          },
          "execution_count": 57,
          "metadata": {},
          "output_type": "execute_result"
        }
      ]
    },
    {
      "cell_type": "code",
      "metadata": {
        "id": "588b2e1f",
        "outputId": "679767f9-c616-49f0-9b9a-8cf9cdac6c90"
      },
      "source": [
        "type(explained_variance)"
      ],
      "id": "588b2e1f",
      "execution_count": null,
      "outputs": [
        {
          "data": {
            "text/plain": [
              "numpy.ndarray"
            ]
          },
          "execution_count": 58,
          "metadata": {},
          "output_type": "execute_result"
        }
      ]
    },
    {
      "cell_type": "code",
      "metadata": {
        "id": "04db603a",
        "outputId": "ebc20242-bef3-4bb1-e7f2-cef1754b83d6"
      },
      "source": [
        "np.sum(explained_variance)"
      ],
      "id": "04db603a",
      "execution_count": null,
      "outputs": [
        {
          "data": {
            "text/plain": [
              "0.4310371201414902"
            ]
          },
          "execution_count": 59,
          "metadata": {},
          "output_type": "execute_result"
        }
      ]
    },
    {
      "cell_type": "code",
      "metadata": {
        "id": "ded77a52",
        "outputId": "cb72404b-a676-4e93-8943-dab981a455c7"
      },
      "source": [
        "components = len(explained_variance)\n",
        "components"
      ],
      "id": "ded77a52",
      "execution_count": null,
      "outputs": [
        {
          "data": {
            "text/plain": [
              "2"
            ]
          },
          "execution_count": 60,
          "metadata": {},
          "output_type": "execute_result"
        }
      ]
    },
    {
      "cell_type": "code",
      "metadata": {
        "id": "1773966d",
        "outputId": "4cdfe6fb-9f15-4c32-abc1-124e939cc761"
      },
      "source": [
        "plt.bar(range(components), explained_variance, alpha=0.5, align='center', label='Individual Explained Variance')\n",
        "plt.ylabel(\"Explained variance Ratio\")\n",
        "plt.xlabel(\"Principal COmponents\")\n",
        "plt.legend(loc='best')\n",
        "plt.tight_layout()"
      ],
      "id": "1773966d",
      "execution_count": null,
      "outputs": [
        {
          "data": {
            "image/png": "[encoded data removed]",
            "text/plain": [
              "<Figure size 432x288 with 1 Axes>"
            ]
          },
          "metadata": {
            "needs_background": "light"
          },
          "output_type": "display_data"
        }
      ]
    },
    {
      "cell_type": "code",
      "metadata": {
        "id": "404cd077"
      },
      "source": [
        "from sklearn.ensemble import RandomForestRegressor\n",
        "model = RandomForestRegressor()"
      ],
      "id": "404cd077",
      "execution_count": null,
      "outputs": []
    },
    {
      "cell_type": "code",
      "metadata": {
        "id": "ba3a044f",
        "outputId": "8e266a1e-e47c-46a0-9ace-50d77e08f48f"
      },
      "source": [
        "from tqdm import tqdm\n",
        "estimators = np.arange(10,200,30)\n",
        "scores = []\n",
        "for n in tqdm(estimators):\n",
        "    model.set_params(n_estimators= n, n_jobs= -1)\n",
        "    model.fit(X_train2, y_train)\n",
        "    scores.append(model.score(X_test2, y_test))\n",
        "print(scores)\n",
        "print(sum(scores)/len(scores))"
      ],
      "id": "ba3a044f",
      "execution_count": null,
      "outputs": [
        {
          "name": "stderr",
          "output_type": "stream",
          "text": [
            "100%|██████████| 7/7 [00:14<00:00,  2.03s/it]"
          ]
        },
        {
          "name": "stdout",
          "output_type": "stream",
          "text": [
            "[0.7285474231376876, 0.7488271199946988, 0.7529168133527848, 0.7522669369225139, 0.7529737198051083, 0.7540106348679305, 0.7530125107668582]\n",
            "0.7489364512639404\n"
          ]
        },
        {
          "name": "stderr",
          "output_type": "stream",
          "text": [
            "\n"
          ]
        }
      ]
    },
    {
      "cell_type": "code",
      "metadata": {
        "id": "657732f4",
        "outputId": "93cc5592-d301-4f74-b547-ee11333e3cc3"
      },
      "source": [
        "plt.title(\"Effect of n_estimators\")\n",
        "plt.xlabel(\"n_estimator\")\n",
        "plt.ylabel(\"score\")\n",
        "plt.plot(estimators, scores)\n",
        "plt.show()"
      ],
      "id": "657732f4",
      "execution_count": null,
      "outputs": [
        {
          "data": {
            "image/png": "[encoded data removed]",
            "text/plain": [
              "<Figure size 432x288 with 1 Axes>"
            ]
          },
          "metadata": {
            "needs_background": "light"
          },
          "output_type": "display_data"
        }
      ]
    },
    {
      "cell_type": "code",
      "metadata": {
        "id": "fc7224db",
        "outputId": "2f95f93d-73d3-4f9f-9401-d4ffc5f4c44a"
      },
      "source": [
        "regressor = RandomForestRegressor(n_estimators=162, random_state=0, n_jobs=-1)\n",
        "regressor.fit(X_train2, y_train)"
      ],
      "id": "fc7224db",
      "execution_count": null,
      "outputs": [
        {
          "data": {
            "text/plain": [
              "RandomForestRegressor(n_estimators=162, n_jobs=-1, random_state=0)"
            ]
          },
          "execution_count": 65,
          "metadata": {},
          "output_type": "execute_result"
        }
      ]
    },
    {
      "cell_type": "code",
      "metadata": {
        "id": "d168c162"
      },
      "source": [
        "y_pred = regressor.predict(X_test2)"
      ],
      "id": "d168c162",
      "execution_count": null,
      "outputs": []
    },
    {
      "cell_type": "code",
      "metadata": {
        "id": "1420dc02",
        "outputId": "005c89e3-1e52-42cf-a0bd-0c80f5b6254f"
      },
      "source": [
        "from sklearn.metrics import mean_squared_error, r2_score\n",
        "r2_score(y_test, y_pred)"
      ],
      "id": "1420dc02",
      "execution_count": null,
      "outputs": [
        {
          "data": {
            "text/plain": [
              "0.7529500157167166"
            ]
          },
          "execution_count": 67,
          "metadata": {},
          "output_type": "execute_result"
        }
      ]
    },
    {
      "cell_type": "code",
      "metadata": {
        "scrolled": true,
        "id": "3d863b46",
        "outputId": "8be54094-2a2f-4b89-cfee-113b351925b2"
      },
      "source": [
        "np.sqrt(mean_squared_error(y_test, y_pred))"
      ],
      "id": "3d863b46",
      "execution_count": null,
      "outputs": [
        {
          "data": {
            "text/plain": [
              "11.274546358080796"
            ]
          },
          "execution_count": 68,
          "metadata": {},
          "output_type": "execute_result"
        }
      ]
    },
    {
      "cell_type": "markdown",
      "metadata": {
        "id": "6c563e16"
      },
      "source": [
        "# PCA - Considering the first three Principal Components only"
      ],
      "id": "6c563e16"
    },
    {
      "cell_type": "code",
      "metadata": {
        "id": "3424fa74"
      },
      "source": [
        "from sklearn.decomposition import PCA\n",
        "pca3 = PCA(n_components=3)\n",
        "X_train3 = pca3.fit_transform(X_train[col])\n",
        "X_test3 = pca3.transform(X_test[col])"
      ],
      "id": "3424fa74",
      "execution_count": null,
      "outputs": []
    },
    {
      "cell_type": "code",
      "metadata": {
        "id": "55538ab9",
        "outputId": "c943f70f-b94d-4e39-d1c3-5e33ee22e12f"
      },
      "source": [
        "explained_variance = pca3.explained_variance_ratio_\n",
        "explained_variance"
      ],
      "id": "55538ab9",
      "execution_count": null,
      "outputs": [
        {
          "data": {
            "text/plain": [
              "array([0.23095544, 0.20008168, 0.14512303])"
            ]
          },
          "execution_count": 73,
          "metadata": {},
          "output_type": "execute_result"
        }
      ]
    },
    {
      "cell_type": "code",
      "metadata": {
        "id": "7558ab87",
        "outputId": "3fa99b0d-e932-4ae0-d14f-164f79c103ec"
      },
      "source": [
        "type(explained_variance)"
      ],
      "id": "7558ab87",
      "execution_count": null,
      "outputs": [
        {
          "data": {
            "text/plain": [
              "numpy.ndarray"
            ]
          },
          "execution_count": 74,
          "metadata": {},
          "output_type": "execute_result"
        }
      ]
    },
    {
      "cell_type": "code",
      "metadata": {
        "id": "2fb3209f",
        "outputId": "99b622c3-b8d1-47ee-f867-41afdad12a64"
      },
      "source": [
        "np.sum(explained_variance)"
      ],
      "id": "2fb3209f",
      "execution_count": null,
      "outputs": [
        {
          "data": {
            "text/plain": [
              "0.5761601542926303"
            ]
          },
          "execution_count": 75,
          "metadata": {},
          "output_type": "execute_result"
        }
      ]
    },
    {
      "cell_type": "code",
      "metadata": {
        "id": "483c96b5",
        "outputId": "3e7b9c75-baa3-4ee0-de3e-8f6b5b93741b"
      },
      "source": [
        "components = len(explained_variance)\n",
        "components"
      ],
      "id": "483c96b5",
      "execution_count": null,
      "outputs": [
        {
          "data": {
            "text/plain": [
              "3"
            ]
          },
          "execution_count": 76,
          "metadata": {},
          "output_type": "execute_result"
        }
      ]
    },
    {
      "cell_type": "code",
      "metadata": {
        "id": "b8ffe517",
        "outputId": "dadf91c7-9c86-48bf-c873-9b2e7e84ff97"
      },
      "source": [
        "plt.bar(range(components), explained_variance, alpha=0.5, align='center', label='Individual Explained Variance')\n",
        "plt.ylabel(\"Explained variance Ratio\")\n",
        "plt.xlabel(\"Principal COmponents\")\n",
        "plt.legend(loc='best')\n",
        "plt.tight_layout()"
      ],
      "id": "b8ffe517",
      "execution_count": null,
      "outputs": [
        {
          "data": {
            "image/png": "[encoded data removed]",
            "text/plain": [
              "<Figure size 432x288 with 1 Axes>"
            ]
          },
          "metadata": {
            "needs_background": "light"
          },
          "output_type": "display_data"
        }
      ]
    },
    {
      "cell_type": "code",
      "metadata": {
        "id": "c8e3b490"
      },
      "source": [
        "from sklearn.ensemble import RandomForestRegressor\n",
        "model = RandomForestRegressor()"
      ],
      "id": "c8e3b490",
      "execution_count": null,
      "outputs": []
    },
    {
      "cell_type": "code",
      "metadata": {
        "id": "32cdaa91",
        "outputId": "d3090616-f057-4f66-c16a-4f04bad074d1"
      },
      "source": [
        "from tqdm import tqdm\n",
        "estimators = np.arange(10,200,30)\n",
        "scores = []\n",
        "for n in tqdm(estimators):\n",
        "    model.set_params(n_estimators= n, n_jobs= -1)\n",
        "    model.fit(X_train3, y_train)\n",
        "    scores.append(model.score(X_test3, y_test))\n",
        "print(scores)\n",
        "print(sum(scores)/len(scores))"
      ],
      "id": "32cdaa91",
      "execution_count": null,
      "outputs": [
        {
          "name": "stderr",
          "output_type": "stream",
          "text": [
            "100%|██████████| 7/7 [00:18<00:00,  2.62s/it]"
          ]
        },
        {
          "name": "stdout",
          "output_type": "stream",
          "text": [
            "[0.8753122474987154, 0.8867677675381993, 0.8880208014172503, 0.8887621182956092, 0.8890372788184013, 0.8888433730568995, 0.8889802402810061]\n",
            "0.8865319752722973\n"
          ]
        },
        {
          "name": "stderr",
          "output_type": "stream",
          "text": [
            "\n"
          ]
        }
      ]
    },
    {
      "cell_type": "code",
      "metadata": {
        "id": "60f30c0a",
        "outputId": "e67ab5db-fea3-4126-8279-b440b745e8d0"
      },
      "source": [
        "plt.title(\"Effect of n_estimators\")\n",
        "plt.xlabel(\"n_estimator\")\n",
        "plt.ylabel(\"score\")\n",
        "plt.plot(estimators, scores)\n",
        "plt.show()"
      ],
      "id": "60f30c0a",
      "execution_count": null,
      "outputs": [
        {
          "data": {
            "image/png": "[encoded data removed]",
            "text/plain": [
              "<Figure size 432x288 with 1 Axes>"
            ]
          },
          "metadata": {
            "needs_background": "light"
          },
          "output_type": "display_data"
        }
      ]
    },
    {
      "cell_type": "code",
      "metadata": {
        "id": "89f0bbca",
        "outputId": "b1f35ebe-cfa1-4ea6-e6f6-fb274669ac59"
      },
      "source": [
        "regressor = RandomForestRegressor(n_estimators=131, random_state=0, n_jobs=-1)\n",
        "regressor.fit(X_train3, y_train)"
      ],
      "id": "89f0bbca",
      "execution_count": null,
      "outputs": [
        {
          "data": {
            "text/plain": [
              "RandomForestRegressor(n_estimators=131, n_jobs=-1, random_state=0)"
            ]
          },
          "execution_count": 81,
          "metadata": {},
          "output_type": "execute_result"
        }
      ]
    },
    {
      "cell_type": "code",
      "metadata": {
        "id": "df177dd7"
      },
      "source": [
        "y_pred = regressor.predict(X_test3)"
      ],
      "id": "df177dd7",
      "execution_count": null,
      "outputs": []
    },
    {
      "cell_type": "code",
      "metadata": {
        "id": "73f1e664",
        "outputId": "24141fba-cc72-4c36-a651-67520b00eb2b"
      },
      "source": [
        "from sklearn.metrics import mean_squared_error, r2_score\n",
        "r2_score(y_test, y_pred)"
      ],
      "id": "73f1e664",
      "execution_count": null,
      "outputs": [
        {
          "data": {
            "text/plain": [
              "0.8889577448804666"
            ]
          },
          "execution_count": 83,
          "metadata": {},
          "output_type": "execute_result"
        }
      ]
    },
    {
      "cell_type": "code",
      "metadata": {
        "id": "85f10a70",
        "outputId": "35c342d8-669a-45c2-9e6b-507ed597053b"
      },
      "source": [
        "np.sqrt(mean_squared_error(y_test, y_pred))"
      ],
      "id": "85f10a70",
      "execution_count": null,
      "outputs": [
        {
          "data": {
            "text/plain": [
              "7.558764207691646"
            ]
          },
          "execution_count": 84,
          "metadata": {},
          "output_type": "execute_result"
        }
      ]
    },
    {
      "cell_type": "markdown",
      "metadata": {
        "id": "ec4b03d4"
      },
      "source": [
        "# PCA - Considering the first four Principal Components only"
      ],
      "id": "ec4b03d4"
    },
    {
      "cell_type": "code",
      "metadata": {
        "id": "6ef90381"
      },
      "source": [
        "from sklearn.decomposition import PCA\n",
        "pca4 = PCA(n_components=4)\n",
        "X_train4 = pca4.fit_transform(X_train[col])\n",
        "X_test4 = pca4.transform(X_test[col])"
      ],
      "id": "6ef90381",
      "execution_count": null,
      "outputs": []
    },
    {
      "cell_type": "code",
      "metadata": {
        "id": "1decc503",
        "outputId": "9053c8ed-112c-439f-a401-155b6541d3a5"
      },
      "source": [
        "explained_variance = pca4.explained_variance_ratio_\n",
        "explained_variance"
      ],
      "id": "1decc503",
      "execution_count": null,
      "outputs": [
        {
          "data": {
            "text/plain": [
              "array([0.23095544, 0.20008168, 0.14512303, 0.12865806])"
            ]
          },
          "execution_count": 86,
          "metadata": {},
          "output_type": "execute_result"
        }
      ]
    },
    {
      "cell_type": "code",
      "metadata": {
        "id": "d13a012a",
        "outputId": "a9065933-b619-4225-b1be-6079ac7184f5"
      },
      "source": [
        "type(explained_variance)"
      ],
      "id": "d13a012a",
      "execution_count": null,
      "outputs": [
        {
          "data": {
            "text/plain": [
              "numpy.ndarray"
            ]
          },
          "execution_count": 87,
          "metadata": {},
          "output_type": "execute_result"
        }
      ]
    },
    {
      "cell_type": "code",
      "metadata": {
        "id": "fc5c4caa",
        "outputId": "1d653bb1-7467-4d8f-ea56-810c90b50960"
      },
      "source": [
        "np.sum(explained_variance)"
      ],
      "id": "fc5c4caa",
      "execution_count": null,
      "outputs": [
        {
          "data": {
            "text/plain": [
              "0.7048182153961505"
            ]
          },
          "execution_count": 88,
          "metadata": {},
          "output_type": "execute_result"
        }
      ]
    },
    {
      "cell_type": "code",
      "metadata": {
        "id": "7a342b4b",
        "outputId": "46fd07f9-d099-45cd-c9e4-e52bcc27d79a"
      },
      "source": [
        "components = len(explained_variance)\n",
        "components"
      ],
      "id": "7a342b4b",
      "execution_count": null,
      "outputs": [
        {
          "data": {
            "text/plain": [
              "4"
            ]
          },
          "execution_count": 89,
          "metadata": {},
          "output_type": "execute_result"
        }
      ]
    },
    {
      "cell_type": "code",
      "metadata": {
        "id": "d1310963",
        "outputId": "4daf6f33-627e-4dbc-c87f-6827d7d856d9"
      },
      "source": [
        "plt.bar(range(components), explained_variance, alpha=0.5, align='center', label='Individual Explained Variance')\n",
        "plt.ylabel(\"Explained variance Ratio\")\n",
        "plt.xlabel(\"Principal Components\")\n",
        "plt.legend(loc='best')\n",
        "plt.tight_layout()"
      ],
      "id": "d1310963",
      "execution_count": null,
      "outputs": [
        {
          "data": {
            "image/png": "[encoded data removed]",
            "text/plain": [
              "<Figure size 432x288 with 1 Axes>"
            ]
          },
          "metadata": {
            "needs_background": "light"
          },
          "output_type": "display_data"
        }
      ]
    },
    {
      "cell_type": "code",
      "metadata": {
        "id": "60ae8e39"
      },
      "source": [
        "from sklearn.ensemble import RandomForestRegressor\n",
        "model = RandomForestRegressor()"
      ],
      "id": "60ae8e39",
      "execution_count": null,
      "outputs": []
    },
    {
      "cell_type": "code",
      "metadata": {
        "id": "d5d62eab",
        "outputId": "c41cdb41-9fab-4be8-fd77-b60b081aea5c"
      },
      "source": [
        "from tqdm import tqdm\n",
        "estimators = np.arange(10,200,30)\n",
        "scores = []\n",
        "for n in tqdm(estimators):\n",
        "    model.set_params(n_estimators= n, n_jobs= -1)\n",
        "    model.fit(X_train4, y_train)\n",
        "    scores.append(model.score(X_test4, y_test))\n",
        "print(scores)\n",
        "print(sum(scores)/len(scores))"
      ],
      "id": "d5d62eab",
      "execution_count": null,
      "outputs": [
        {
          "name": "stderr",
          "output_type": "stream",
          "text": [
            "100%|██████████| 7/7 [00:23<00:00,  3.37s/it]"
          ]
        },
        {
          "name": "stdout",
          "output_type": "stream",
          "text": [
            "[0.9033992982500328, 0.9115115768292006, 0.9124446931759884, 0.9128986631487511, 0.9129705020147211, 0.9134668891501785, 0.9136419572162305]\n",
            "0.9114762256835861\n"
          ]
        },
        {
          "name": "stderr",
          "output_type": "stream",
          "text": [
            "\n"
          ]
        }
      ]
    },
    {
      "cell_type": "code",
      "metadata": {
        "id": "71dd3284",
        "outputId": "3638d48f-07ba-40cf-8644-6b73daca1940"
      },
      "source": [
        "plt.title(\"Effect of n_estimators\")\n",
        "plt.xlabel(\"n_estimator\")\n",
        "plt.ylabel(\"score\")\n",
        "plt.plot(estimators, scores)\n",
        "plt.show()"
      ],
      "id": "71dd3284",
      "execution_count": null,
      "outputs": [
        {
          "data": {
            "image/png": "[encoded data removed]",
            "text/plain": [
              "<Figure size 432x288 with 1 Axes>"
            ]
          },
          "metadata": {
            "needs_background": "light"
          },
          "output_type": "display_data"
        }
      ]
    },
    {
      "cell_type": "code",
      "metadata": {
        "id": "b03300e5",
        "outputId": "1ef22db3-980d-4a9e-9d34-dae1f80a4703"
      },
      "source": [
        "regressor = RandomForestRegressor(n_estimators=187, random_state=0, n_jobs=-1)\n",
        "regressor.fit(X_train4, y_train)"
      ],
      "id": "b03300e5",
      "execution_count": null,
      "outputs": [
        {
          "data": {
            "text/plain": [
              "RandomForestRegressor(n_estimators=187, n_jobs=-1, random_state=0)"
            ]
          },
          "execution_count": 94,
          "metadata": {},
          "output_type": "execute_result"
        }
      ]
    },
    {
      "cell_type": "code",
      "metadata": {
        "id": "30821045"
      },
      "source": [
        "y_pred = regressor.predict(X_test4)"
      ],
      "id": "30821045",
      "execution_count": null,
      "outputs": []
    },
    {
      "cell_type": "code",
      "metadata": {
        "id": "63dc984b",
        "outputId": "dbf81a28-736d-44e7-b859-76e6bd6e645e"
      },
      "source": [
        "from sklearn.metrics import mean_squared_error, r2_score\n",
        "r2_score(y_test, y_pred)"
      ],
      "id": "63dc984b",
      "execution_count": null,
      "outputs": [
        {
          "data": {
            "text/plain": [
              "0.9131399735697852"
            ]
          },
          "execution_count": 96,
          "metadata": {},
          "output_type": "execute_result"
        }
      ]
    },
    {
      "cell_type": "code",
      "metadata": {
        "id": "35cf503f",
        "outputId": "c06e9f1d-d8e7-42e8-d293-f329f80b728e"
      },
      "source": [
        "np.sqrt(mean_squared_error(y_test, y_pred))"
      ],
      "id": "35cf503f",
      "execution_count": null,
      "outputs": [
        {
          "data": {
            "text/plain": [
              "6.6852344107446795"
            ]
          },
          "execution_count": 97,
          "metadata": {},
          "output_type": "execute_result"
        }
      ]
    },
    {
      "cell_type": "markdown",
      "metadata": {
        "id": "bc24b4f6"
      },
      "source": [
        "__Therefore, we come to a conclusion that instead of choosing all 9 columns, it is better to choose just the first four principal Components as they have captured the maximum variance in the IV's.__\n",
        "\n",
        "# End of PCA"
      ],
      "id": "bc24b4f6"
    }
  ]
}