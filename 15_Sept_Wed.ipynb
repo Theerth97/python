{
  "nbformat": 4,
  "nbformat_minor": 5,
  "metadata": {
    "kernelspec": {
      "display_name": "Python 3",
      "language": "python",
      "name": "python3"
    },
    "language_info": {
      "codemirror_mode": {
        "name": "ipython",
        "version": 3
      },
      "file_extension": ".py",
      "mimetype": "text/x-python",
      "name": "python",
      "nbconvert_exporter": "python",
      "pygments_lexer": "ipython3",
      "version": "3.8.8"
    },
    "colab": {
      "name": "15_Sept_Wed.ipynb",
      "provenance": []
    }
  },
  "cells": [
    {
      "cell_type": "code",
      "metadata": {
        "id": "41b2185a"
      },
      "source": [
        "# Jovian Commit Essentials\n",
        "# Please retain and execute this cell without modifying the contents for `jovian.commit` to work\n",
        "!pip install jovian --upgrade -q\n",
        "import jovian\n",
        "jovian.set_project('15-sept-wed')\n",
        "jovian.set_colab_id('1zuYCTYOlBUhzbEQfUFWVZ3JZjGt03VwK')"
      ],
      "id": "41b2185a",
      "execution_count": null,
      "outputs": []
    },
    {
      "cell_type": "code",
      "metadata": {
        "id": "da73906e",
        "colab": {
          "base_uri": "https://localhost:8080/"
        },
        "outputId": "b5142b36-3fae-41ea-b9f4-65808f183d3a"
      },
      "source": [
        "10-4"
      ],
      "id": "da73906e",
      "execution_count": null,
      "outputs": [
        {
          "output_type": "execute_result",
          "data": {
            "text/plain": [
              "6"
            ]
          },
          "metadata": {},
          "execution_count": 2
        }
      ]
    },
    {
      "cell_type": "code",
      "metadata": {
        "id": "ce66d758",
        "outputId": "b7793293-3466-4e7e-b4c1-73de62ebc71b"
      },
      "source": [
        "45*6"
      ],
      "id": "ce66d758",
      "execution_count": null,
      "outputs": [
        {
          "data": {
            "text/plain": [
              "270"
            ]
          },
          "execution_count": 2,
          "metadata": {},
          "output_type": "execute_result"
        }
      ]
    },
    {
      "cell_type": "raw",
      "metadata": {
        "id": "76b309d9"
      },
      "source": [
        "# Hi SkillEnable Learners.\n",
        "\n",
        "## I am your trainer.\n",
        "\n",
        "My name is **Dr. Darshan Ingle**.\n",
        "\n",
        "I am from Navi Mumbai.\n",
        "\n",
        "I am an expert in following subjects:\n",
        "\n",
        ">AI\n",
        "\n",
        ">ML\n",
        "\n",
        ">NLP\n",
        "\n",
        ">DL\n",
        "\n",
        ">DA"
      ],
      "id": "76b309d9"
    },
    {
      "cell_type": "markdown",
      "metadata": {
        "id": "f3de9afd"
      },
      "source": [
        "# Hi SkillEnable Learners.\n",
        "\n",
        "## I am your trainer.\n",
        "\n",
        "My name is **Dr. Darshan Ingle**.\n",
        "\n",
        "I am from ___Navi Mumbai___.\n",
        "\n",
        "I am an __expert__ in following subjects:\n",
        "\n",
        ">AI\n",
        "\n",
        ">ML\n",
        "\n",
        ">NLP\n",
        "\n",
        ">DL\n",
        "\n",
        ">DA\n",
        "\n",
        "https://ingeh.medium.com/markdown-for-jupyter-notebooks-cheatsheet-386c05aeebed"
      ],
      "id": "f3de9afd"
    },
    {
      "cell_type": "code",
      "metadata": {
        "id": "39e741b4",
        "outputId": "4dd36ad6-0eae-413f-8272-16056a04217e"
      },
      "source": [
        "print(\"My name is Dr. Darshan Ingle.\")"
      ],
      "id": "39e741b4",
      "execution_count": null,
      "outputs": [
        {
          "name": "stdout",
          "output_type": "stream",
          "text": [
            "My name is Dr. Darshan Ingle.\n"
          ]
        }
      ]
    },
    {
      "cell_type": "code",
      "metadata": {
        "id": "b6a8a60e",
        "outputId": "4cee589f-4383-4e25-cd34-2187e9f22c28"
      },
      "source": [
        "print('My name is Dr. Darshan Ingle.')"
      ],
      "id": "b6a8a60e",
      "execution_count": null,
      "outputs": [
        {
          "name": "stdout",
          "output_type": "stream",
          "text": [
            "My name is Dr. Darshan Ingle.\n"
          ]
        }
      ]
    },
    {
      "cell_type": "code",
      "metadata": {
        "id": "90ea2495",
        "outputId": "e52d2d8a-8f31-48b6-f72c-b65c632b0ca3"
      },
      "source": [
        "print(\"987\")"
      ],
      "id": "90ea2495",
      "execution_count": null,
      "outputs": [
        {
          "name": "stdout",
          "output_type": "stream",
          "text": [
            "987\n"
          ]
        }
      ]
    },
    {
      "cell_type": "code",
      "metadata": {
        "id": "82996d15",
        "outputId": "9d8fcd06-6c25-4ae0-c797-609e2a27741c"
      },
      "source": [
        "print(\"gkjqebckuhweiuyrieyo8 on34o8ehyeiurnivye4ic8y4e8i4yirue cnoiucjkdfghkug\")"
      ],
      "id": "82996d15",
      "execution_count": null,
      "outputs": [
        {
          "name": "stdout",
          "output_type": "stream",
          "text": [
            "gkjqebckuhweiuyrieyo8 on34o8ehyeiurnivye4ic8y4e8i4yirue cnoiucjkdfghkug\n"
          ]
        }
      ]
    },
    {
      "cell_type": "code",
      "metadata": {
        "id": "818252c5",
        "outputId": "844a6d9e-b4d6-4dbb-d839-c6c791ceb6a1"
      },
      "source": [
        "a = 10\n",
        "b = 12\n",
        "c = a+b\n",
        "print(\"c\")\n",
        "print(a)\n",
        "print(b)\n",
        "print()\n",
        "\n",
        "print(\"Addition=\",c)\n",
        "\n",
        "print()\n",
        "\n",
        "print(\"Addition of a=\",a,\"& b=\",b,\"is c=\",c)"
      ],
      "id": "818252c5",
      "execution_count": null,
      "outputs": [
        {
          "name": "stdout",
          "output_type": "stream",
          "text": [
            "c\n",
            "10\n",
            "12\n",
            "\n",
            "Addition= 22\n",
            "\n",
            "Addition of a= 10 & b= 12 is c= 22\n"
          ]
        }
      ]
    },
    {
      "cell_type": "code",
      "metadata": {
        "id": "663dbbba",
        "outputId": "5151fd14-331e-41ff-f19e-75192e6eda25"
      },
      "source": [
        "a = 987\n",
        "b = 1562\n",
        "c = a+b\n",
        "print(\"c\")\n",
        "print(a)\n",
        "print(b)\n",
        "print()\n",
        "\n",
        "print(\"Addition=\",c)\n",
        "\n",
        "print()\n",
        "\n",
        "print(\"Addition of a=\",a,\"& b=\",b,\"is c=\",c)"
      ],
      "id": "663dbbba",
      "execution_count": null,
      "outputs": [
        {
          "name": "stdout",
          "output_type": "stream",
          "text": [
            "c\n",
            "987\n",
            "1562\n",
            "\n",
            "Addition= 2549\n",
            "\n",
            "Addition of a= 987 & b= 1562 is c= 2549\n"
          ]
        }
      ]
    },
    {
      "cell_type": "code",
      "metadata": {
        "id": "3301b49c",
        "outputId": "3020b038-e6d1-4446-8ebf-a54587a7a50c"
      },
      "source": [
        "a = input()\n",
        "b = input()\n",
        "c = a+b\n",
        "print(\"c\")\n",
        "print(a)\n",
        "print(b)\n",
        "print()\n",
        "\n",
        "print(\"Addition=\",c)\n",
        "\n",
        "print()\n",
        "\n",
        "print(\"Addition of a=\",a,\"& b=\",b,\"is c=\",c)"
      ],
      "id": "3301b49c",
      "execution_count": null,
      "outputs": [
        {
          "name": "stdout",
          "output_type": "stream",
          "text": [
            "100\n",
            "400\n",
            "c\n",
            "100\n",
            "400\n",
            "\n",
            "Addition= 100400\n",
            "\n",
            "Addition of a= 100 & b= 400 is c= 100400\n"
          ]
        }
      ]
    },
    {
      "cell_type": "code",
      "metadata": {
        "id": "57dd67ef",
        "outputId": "5d6fae9c-1e40-4fe4-e6ff-5959f377c6e2"
      },
      "source": [
        "type(100)"
      ],
      "id": "57dd67ef",
      "execution_count": null,
      "outputs": [
        {
          "data": {
            "text/plain": [
              "int"
            ]
          },
          "execution_count": 23,
          "metadata": {},
          "output_type": "execute_result"
        }
      ]
    },
    {
      "cell_type": "code",
      "metadata": {
        "id": "006e2ecd",
        "outputId": "ade49753-267f-4a4c-f4c7-1b01296d90cd"
      },
      "source": [
        "type(100.758)"
      ],
      "id": "006e2ecd",
      "execution_count": null,
      "outputs": [
        {
          "data": {
            "text/plain": [
              "float"
            ]
          },
          "execution_count": 24,
          "metadata": {},
          "output_type": "execute_result"
        }
      ]
    },
    {
      "cell_type": "code",
      "metadata": {
        "id": "2f99f740",
        "outputId": "c3d94df8-3ebb-4639-a8c5-3be0da5235bb"
      },
      "source": [
        "type(\"100\")"
      ],
      "id": "2f99f740",
      "execution_count": null,
      "outputs": [
        {
          "data": {
            "text/plain": [
              "str"
            ]
          },
          "execution_count": 25,
          "metadata": {},
          "output_type": "execute_result"
        }
      ]
    },
    {
      "cell_type": "code",
      "metadata": {
        "id": "e6f1ab0f",
        "outputId": "a9c8c819-655a-4c4e-ac92-6bc9562b1b9f"
      },
      "source": [
        "type(\"SkillEnable\")"
      ],
      "id": "e6f1ab0f",
      "execution_count": null,
      "outputs": [
        {
          "data": {
            "text/plain": [
              "str"
            ]
          },
          "execution_count": 26,
          "metadata": {},
          "output_type": "execute_result"
        }
      ]
    },
    {
      "cell_type": "code",
      "metadata": {
        "id": "7a941b95",
        "outputId": "0c326e35-9b8b-4c24-f968-6dc2a34dfad1"
      },
      "source": [
        "type(7-8j)"
      ],
      "id": "7a941b95",
      "execution_count": null,
      "outputs": [
        {
          "data": {
            "text/plain": [
              "complex"
            ]
          },
          "execution_count": 27,
          "metadata": {},
          "output_type": "execute_result"
        }
      ]
    },
    {
      "cell_type": "code",
      "metadata": {
        "id": "f5c689d7",
        "outputId": "9b502319-e576-4d95-becf-a2699e427678"
      },
      "source": [
        "x = input()\n",
        "print(\"You entered\",x)"
      ],
      "id": "f5c689d7",
      "execution_count": null,
      "outputs": [
        {
          "name": "stdout",
          "output_type": "stream",
          "text": [
            "Darshan\n",
            "You entered Darshan\n"
          ]
        }
      ]
    },
    {
      "cell_type": "code",
      "metadata": {
        "id": "e8895db1",
        "outputId": "3d86a39f-fc17-4a61-8f54-fc43dc5c22b7"
      },
      "source": [
        "x = input()\n",
        "print(\"You entered\",x)"
      ],
      "id": "e8895db1",
      "execution_count": null,
      "outputs": [
        {
          "name": "stdout",
          "output_type": "stream",
          "text": [
            "8997\n",
            "You entered 8997\n"
          ]
        }
      ]
    },
    {
      "cell_type": "code",
      "metadata": {
        "id": "e031eb21",
        "outputId": "c745d76e-df65-47ea-d360-1ae557452ec2"
      },
      "source": [
        "x = input()\n",
        "print(type(x))"
      ],
      "id": "e031eb21",
      "execution_count": null,
      "outputs": [
        {
          "name": "stdout",
          "output_type": "stream",
          "text": [
            "Darshan\n",
            "<class 'str'>\n"
          ]
        }
      ]
    },
    {
      "cell_type": "code",
      "metadata": {
        "id": "67e6f435",
        "outputId": "e0e27df8-489a-4e5e-857b-45b3396c9669"
      },
      "source": [
        "x = input()\n",
        "print(type(x))"
      ],
      "id": "67e6f435",
      "execution_count": null,
      "outputs": [
        {
          "name": "stdout",
          "output_type": "stream",
          "text": [
            "98\n",
            "<class 'str'>\n"
          ]
        }
      ]
    },
    {
      "cell_type": "code",
      "metadata": {
        "id": "921accde",
        "outputId": "8bf78021-b1dc-4614-e486-44d8885a314e"
      },
      "source": [
        "x = input()\n",
        "print(type(x))"
      ],
      "id": "921accde",
      "execution_count": null,
      "outputs": [
        {
          "name": "stdout",
          "output_type": "stream",
          "text": [
            "-766.554634\n",
            "<class 'str'>\n"
          ]
        }
      ]
    },
    {
      "cell_type": "code",
      "metadata": {
        "id": "6ae6add4",
        "outputId": "2f652677-12f6-4528-8c12-5327a9c96622"
      },
      "source": [
        "x = input()\n",
        "print(type(x))"
      ],
      "id": "6ae6add4",
      "execution_count": null,
      "outputs": [
        {
          "name": "stdout",
          "output_type": "stream",
          "text": [
            "98-9j\n",
            "<class 'str'>\n"
          ]
        }
      ]
    },
    {
      "cell_type": "code",
      "metadata": {
        "id": "c47143d1",
        "outputId": "9521b551-561a-493e-80ef-6052d500fb7e"
      },
      "source": [
        "# Typecasting: It is the process of forcefully changing the datatype.\n",
        "i = 98\n",
        "print(i)\n",
        "print(type(i))\n",
        "f = float(i)\n",
        "print(f)\n",
        "print(type(f))"
      ],
      "id": "c47143d1",
      "execution_count": null,
      "outputs": [
        {
          "name": "stdout",
          "output_type": "stream",
          "text": [
            "98\n",
            "<class 'int'>\n",
            "98.0\n",
            "<class 'float'>\n"
          ]
        }
      ]
    },
    {
      "cell_type": "code",
      "metadata": {
        "id": "0faa1a8a",
        "outputId": "9c83ebe5-34dd-419a-e5e8-5e0ededdd3ec"
      },
      "source": [
        "i = 98.87687\n",
        "print(i)\n",
        "print(type(i))\n",
        "f = int(i)\n",
        "print(f)\n",
        "print(type(f))"
      ],
      "id": "0faa1a8a",
      "execution_count": null,
      "outputs": [
        {
          "name": "stdout",
          "output_type": "stream",
          "text": [
            "98.87687\n",
            "<class 'float'>\n",
            "98\n",
            "<class 'int'>\n"
          ]
        }
      ]
    },
    {
      "cell_type": "code",
      "metadata": {
        "id": "895b3abc",
        "outputId": "9766d9ea-4e94-4216-94b1-6b9a9d4b144f"
      },
      "source": [
        "a = input() # a is in str format\n",
        "b = input() # b is in str format\n",
        "a = int(a)\n",
        "b = int(b)\n",
        "c = a+b\n",
        "print(\"c\")\n",
        "print(a)\n",
        "print(b)\n",
        "print()\n",
        "\n",
        "print(\"Addition=\",c)\n",
        "\n",
        "print()\n",
        "\n",
        "print(\"Addition of a=\",a,\"& b=\",b,\"is c=\",c)"
      ],
      "id": "895b3abc",
      "execution_count": null,
      "outputs": [
        {
          "name": "stdout",
          "output_type": "stream",
          "text": [
            "100\n",
            "400\n",
            "c\n",
            "100\n",
            "400\n",
            "\n",
            "Addition= 500\n",
            "\n",
            "Addition of a= 100 & b= 400 is c= 500\n"
          ]
        }
      ]
    },
    {
      "cell_type": "code",
      "metadata": {
        "id": "d7f57464",
        "outputId": "d8c49c99-7618-4824-c137-4d7a01291a23"
      },
      "source": [
        "a = int(input()) \n",
        "b = int(input()) \n",
        "\n",
        "c = a+b\n",
        "print(\"c\")\n",
        "print(a)\n",
        "print(b)\n",
        "print()\n",
        "\n",
        "print(\"Addition=\",c)\n",
        "\n",
        "print()\n",
        "\n",
        "print(\"Addition of a=\",a,\"& b=\",b,\"is c=\",c)"
      ],
      "id": "d7f57464",
      "execution_count": null,
      "outputs": [
        {
          "name": "stdout",
          "output_type": "stream",
          "text": [
            "100\n",
            "400\n",
            "c\n",
            "100\n",
            "400\n",
            "\n",
            "Addition= 500\n",
            "\n",
            "Addition of a= 100 & b= 400 is c= 500\n"
          ]
        }
      ]
    },
    {
      "cell_type": "code",
      "metadata": {
        "id": "a44a9609",
        "outputId": "120039e0-3ff9-473f-e503-e8269eae268d"
      },
      "source": [
        "a = int(input(\"Enter 1st number\")) \n",
        "b = int(input(\"Enter 2nd number\")) \n",
        "\n",
        "c = a+b\n",
        "print(\"c\")\n",
        "print(a)\n",
        "print(b)\n",
        "print()\n",
        "\n",
        "print(\"Addition=\",c)\n",
        "\n",
        "print()\n",
        "\n",
        "print(\"Addition of a=\",a,\"& b=\",b,\"is c=\",c)"
      ],
      "id": "a44a9609",
      "execution_count": null,
      "outputs": [
        {
          "name": "stdout",
          "output_type": "stream",
          "text": [
            "Enter 1st number100\n",
            "Enter 2nd number400\n",
            "c\n",
            "100\n",
            "400\n",
            "\n",
            "Addition= 500\n",
            "\n",
            "Addition of a= 100 & b= 400 is c= 500\n"
          ]
        }
      ]
    },
    {
      "cell_type": "markdown",
      "metadata": {
        "id": "48d77b25"
      },
      "source": [
        "# Conditional Statements"
      ],
      "id": "48d77b25"
    },
    {
      "cell_type": "raw",
      "metadata": {
        "id": "cc753749"
      },
      "source": [
        "# if SYNTAX:\n",
        "\n",
        "if condition:\n",
        "    do this\n",
        "    do this\n",
        "    do this\n",
        "    \n",
        "# if else SYNTAX:\n",
        "\n",
        "if condition:\n",
        "    do this\n",
        "    do this\n",
        "else:\n",
        "    do this\n",
        "    do this\n",
        "    \n",
        "# if-elif-else SYNTAX:\n",
        "\n",
        "if condition1:\n",
        "    do this\n",
        "    do this\n",
        "elif condition2:\n",
        "    do this\n",
        "    do this\n",
        "elif condition3:\n",
        "    do this\n",
        "    do this\n",
        "else:\n",
        "    do this\n",
        "    do this"
      ],
      "id": "cc753749"
    },
    {
      "cell_type": "code",
      "metadata": {
        "id": "90b8316c",
        "outputId": "efb96499-44d5-4ce3-bc6d-9ae46f95f3ba"
      },
      "source": [
        "x = 5\n",
        "if x>3:\n",
        "    print(\"if condition successful\")\n",
        "print(\"Out of if\")"
      ],
      "id": "90b8316c",
      "execution_count": null,
      "outputs": [
        {
          "name": "stdout",
          "output_type": "stream",
          "text": [
            "if condition successful\n",
            "Out of if\n"
          ]
        }
      ]
    },
    {
      "cell_type": "code",
      "metadata": {
        "id": "e96418ae",
        "outputId": "72436a62-fdc7-4d2e-8b8b-166718a93bdb"
      },
      "source": [
        "x = -15\n",
        "if x>3:\n",
        "    print(\"if condition successful\")\n",
        "print(\"Out of if\")"
      ],
      "id": "e96418ae",
      "execution_count": null,
      "outputs": [
        {
          "name": "stdout",
          "output_type": "stream",
          "text": [
            "Out of if\n"
          ]
        }
      ]
    },
    {
      "cell_type": "code",
      "metadata": {
        "id": "f1f6c125",
        "outputId": "8a18bd33-e2a7-4521-8dea-b40df6e9154e"
      },
      "source": [
        "x = 5\n",
        "if x>0:\n",
        "    print(x,\"is a Positive Number\")\n",
        "else:\n",
        "    print(x,\"is a Negative Number\")\n",
        "print(\"Out of if else\")"
      ],
      "id": "f1f6c125",
      "execution_count": null,
      "outputs": [
        {
          "name": "stdout",
          "output_type": "stream",
          "text": [
            "5 is a Positive Number\n",
            "Out of if else\n"
          ]
        }
      ]
    },
    {
      "cell_type": "code",
      "metadata": {
        "id": "0629624e",
        "outputId": "d247b5ff-96c7-48cc-f2d5-9762ca1027c6"
      },
      "source": [
        "x = -5\n",
        "if x>0:\n",
        "    print(x,\"is a Positive Number\")\n",
        "else:\n",
        "    print(x,\"is a Negative Number\")\n",
        "print(\"Out of if else\")"
      ],
      "id": "0629624e",
      "execution_count": null,
      "outputs": [
        {
          "name": "stdout",
          "output_type": "stream",
          "text": [
            "-5 is a Negative Number\n",
            "Out of if else\n"
          ]
        }
      ]
    },
    {
      "cell_type": "code",
      "metadata": {
        "id": "98ce59dd",
        "outputId": "75016d34-633f-4023-c9ee-c48e31733fb9"
      },
      "source": [
        "x = 0\n",
        "if x>0:\n",
        "    print(x,\"is a Positive Number\")\n",
        "else:\n",
        "    print(x,\"is a Negative Number\")\n",
        "print(\"Out of if else\")"
      ],
      "id": "98ce59dd",
      "execution_count": null,
      "outputs": [
        {
          "name": "stdout",
          "output_type": "stream",
          "text": [
            "0 is a Negative Number\n",
            "Out of if else\n"
          ]
        }
      ]
    },
    {
      "cell_type": "code",
      "metadata": {
        "id": "bc03fafd",
        "outputId": "02c49e53-5ac8-484e-b025-15996a39b904"
      },
      "source": [
        "x = 0\n",
        "if x>0:\n",
        "    print(x,\"is a Positive Number\")\n",
        "elif x<0:\n",
        "    print(x,\"is a Negative Number\")\n",
        "else:\n",
        "    print(\"Number is 0 i.e. neither negative nor positive\")\n",
        "    \n",
        "print(\"Out of if else\")"
      ],
      "id": "bc03fafd",
      "execution_count": null,
      "outputs": [
        {
          "name": "stdout",
          "output_type": "stream",
          "text": [
            "Number is 0 i.e. neither negative nor positive\n",
            "Out of if else\n"
          ]
        }
      ]
    },
    {
      "cell_type": "markdown",
      "metadata": {
        "id": "17adf09d"
      },
      "source": [
        "# List\n",
        "\n",
        "It is a collection of items of dissimilar datatypes.\n",
        "\n",
        "It is stored using [   ] brackets."
      ],
      "id": "17adf09d"
    },
    {
      "cell_type": "code",
      "metadata": {
        "id": "cce07c3b",
        "colab": {
          "base_uri": "https://localhost:8080/"
        },
        "outputId": "561fae66-4618-40ba-bbd7-08d263c610dd"
      },
      "source": [
        "l = [10,-10,1.21,-98.78,\"Darshan\",\"SkillEnable\",3+98j]\n",
        "print(l)\n",
        "print(type(l))"
      ],
      "id": "cce07c3b",
      "execution_count": 3,
      "outputs": [
        {
          "output_type": "stream",
          "name": "stdout",
          "text": [
            "[10, -10, 1.21, -98.78, 'Darshan', 'SkillEnable', (3+98j)]\n",
            "<class 'list'>\n"
          ]
        }
      ]
    },
    {
      "cell_type": "code",
      "metadata": {
        "id": "5b43c401",
        "colab": {
          "base_uri": "https://localhost:8080/"
        },
        "outputId": "939ed04d-fafc-4348-fdca-800224dfce10"
      },
      "source": [
        "l = [10,20,30,40,50]\n",
        "print(l)\n",
        "\n",
        "# Indexing\n",
        "print(l[0])\n",
        "print(l[3])\n",
        "# print(l[10]) # IndexError: list index out of range\n",
        "print(l[-1])\n",
        "print(l[-4])\n",
        "\n",
        "# Slicing\n",
        "print(l[1:3]) # SI = 1, EI = (3-1)\n",
        "print(l[1:4])"
      ],
      "id": "5b43c401",
      "execution_count": 4,
      "outputs": [
        {
          "output_type": "stream",
          "name": "stdout",
          "text": [
            "[10, 20, 30, 40, 50]\n",
            "10\n",
            "40\n",
            "50\n",
            "20\n",
            "[20, 30]\n",
            "[20, 30, 40]\n"
          ]
        }
      ]
    },
    {
      "cell_type": "markdown",
      "metadata": {
        "id": "bc60f058"
      },
      "source": [
        "# Tuples\n",
        "\n",
        "It is a collection of items of dissimilar datatypes.\n",
        "\n",
        "It is stored using (   ) brackets.\n",
        "\n",
        "eg: Aadhar card, Passport Number, etc"
      ],
      "id": "bc60f058"
    },
    {
      "cell_type": "code",
      "metadata": {
        "id": "5eedb0d9",
        "outputId": "f7561e2e-e321-446b-ce7a-fcca5ca06135"
      },
      "source": [
        "l = (10,20,30,40,50)\n",
        "print(l)\n",
        "print(type(l))\n",
        "\n",
        "# Indexing\n",
        "print(l[0])\n",
        "print(l[3])\n",
        "# print(l[10]) # IndexError: list index out of range\n",
        "print(l[-1])\n",
        "print(l[-4])\n",
        "\n",
        "# Slicing\n",
        "print(l[1:3]) # SI = 1, EI = (3-1)\n",
        "print(l[1:4])"
      ],
      "id": "5eedb0d9",
      "execution_count": null,
      "outputs": [
        {
          "name": "stdout",
          "output_type": "stream",
          "text": [
            "(10, 20, 30, 40, 50)\n",
            "<class 'tuple'>\n",
            "10\n",
            "40\n",
            "50\n",
            "20\n",
            "(20, 30)\n",
            "(20, 30, 40)\n"
          ]
        }
      ]
    },
    {
      "cell_type": "code",
      "metadata": {
        "id": "e99c27e4",
        "outputId": "c2d3d601-db07-43b1-d90b-1c345aaa4abe"
      },
      "source": [
        "# Lists are Mutable i.e. Flexible\n",
        "\n",
        "l = [10,20,30,40,50]\n",
        "print(l)\n",
        "print(l[0])\n",
        "l[0] = \"Darshan\"\n",
        "print(l)"
      ],
      "id": "e99c27e4",
      "execution_count": null,
      "outputs": [
        {
          "name": "stdout",
          "output_type": "stream",
          "text": [
            "[10, 20, 30, 40, 50]\n",
            "10\n",
            "['Darshan', 20, 30, 40, 50]\n"
          ]
        }
      ]
    },
    {
      "cell_type": "code",
      "metadata": {
        "id": "dd54a3ba",
        "outputId": "882ea24e-3325-43ff-e1bf-bb5e76f43464"
      },
      "source": [
        "# Tuples are Immutable i.e. Fixed\n",
        "\n",
        "l = (10,20,30,40,50)\n",
        "print(l)\n",
        "print(l[0])\n",
        "l[0] = \"Darshan\"\n",
        "print(l)"
      ],
      "id": "dd54a3ba",
      "execution_count": null,
      "outputs": [
        {
          "name": "stdout",
          "output_type": "stream",
          "text": [
            "(10, 20, 30, 40, 50)\n",
            "10\n"
          ]
        },
        {
          "ename": "TypeError",
          "evalue": "'tuple' object does not support item assignment",
          "output_type": "error",
          "traceback": [
            "\u001b[0;31m---------------------------------------------------------------------------\u001b[0m",
            "\u001b[0;31mTypeError\u001b[0m                                 Traceback (most recent call last)",
            "\u001b[0;32m<ipython-input-71-89f14e0068b5>\u001b[0m in \u001b[0;36m<module>\u001b[0;34m\u001b[0m\n\u001b[1;32m      4\u001b[0m \u001b[0mprint\u001b[0m\u001b[0;34m(\u001b[0m\u001b[0ml\u001b[0m\u001b[0;34m)\u001b[0m\u001b[0;34m\u001b[0m\u001b[0;34m\u001b[0m\u001b[0m\n\u001b[1;32m      5\u001b[0m \u001b[0mprint\u001b[0m\u001b[0;34m(\u001b[0m\u001b[0ml\u001b[0m\u001b[0;34m[\u001b[0m\u001b[0;36m0\u001b[0m\u001b[0;34m]\u001b[0m\u001b[0;34m)\u001b[0m\u001b[0;34m\u001b[0m\u001b[0;34m\u001b[0m\u001b[0m\n\u001b[0;32m----> 6\u001b[0;31m \u001b[0ml\u001b[0m\u001b[0;34m[\u001b[0m\u001b[0;36m0\u001b[0m\u001b[0;34m]\u001b[0m \u001b[0;34m=\u001b[0m \u001b[0;34m\"Darshan\"\u001b[0m\u001b[0;34m\u001b[0m\u001b[0;34m\u001b[0m\u001b[0m\n\u001b[0m\u001b[1;32m      7\u001b[0m \u001b[0mprint\u001b[0m\u001b[0;34m(\u001b[0m\u001b[0ml\u001b[0m\u001b[0;34m)\u001b[0m\u001b[0;34m\u001b[0m\u001b[0;34m\u001b[0m\u001b[0m\n",
            "\u001b[0;31mTypeError\u001b[0m: 'tuple' object does not support item assignment"
          ]
        }
      ]
    },
    {
      "cell_type": "markdown",
      "metadata": {
        "id": "8ff04bff"
      },
      "source": [
        "# Happy Learning"
      ],
      "id": "8ff04bff"
    }
  ]
}