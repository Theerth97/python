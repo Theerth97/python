{
  "nbformat": 4,
  "nbformat_minor": 0,
  "metadata": {
    "colab": {
      "name": "CNN_Fashion_MNIST.ipynb",
      "provenance": []
    },
    "kernelspec": {
      "name": "python3",
      "display_name": "Python 3"
    },
    "language_info": {
      "name": "python"
    },
    "accelerator": "GPU"
  },
  "cells": [
    {
      "cell_type": "code",
      "metadata": {
        "colab": {
          "base_uri": "https://localhost:8080/"
        },
        "id": "wwcTj9THEhAj",
        "outputId": "fe194e47-adf5-42c0-993f-c4eebcca1597"
      },
      "source": [
        "import tensorflow as tf\n",
        "print(tf.__version__)"
      ],
      "execution_count": null,
      "outputs": [
        {
          "output_type": "stream",
          "name": "stdout",
          "text": [
            "2.7.0\n"
          ]
        }
      ]
    },
    {
      "cell_type": "code",
      "metadata": {
        "id": "X3-PzSBVE9ir"
      },
      "source": [
        "import numpy as np\n",
        "import matplotlib.pyplot as plt\n",
        "from tensorflow.keras.layers import Input, Conv2D, Dense, Flatten, Dropout\n",
        "from tensorflow.keras.models import Model"
      ],
      "execution_count": null,
      "outputs": []
    },
    {
      "cell_type": "code",
      "metadata": {
        "id": "eeFdVAiKFZ9p"
      },
      "source": [
        "fashion_mnist = tf.keras.datasets.fashion_mnist"
      ],
      "execution_count": null,
      "outputs": []
    },
    {
      "cell_type": "code",
      "metadata": {
        "id": "iMy5ODLiGU6t"
      },
      "source": [
        "(x_train, y_train), (x_test, y_test) = fashion_mnist.load_data()"
      ],
      "execution_count": null,
      "outputs": []
    },
    {
      "cell_type": "code",
      "metadata": {
        "id": "ChEzKSDvGeFs"
      },
      "source": [
        "x_train, x_test = x_train/255.0, x_test/255.0"
      ],
      "execution_count": null,
      "outputs": []
    },
    {
      "cell_type": "code",
      "metadata": {
        "colab": {
          "base_uri": "https://localhost:8080/"
        },
        "id": "X0JmaTD2Gm_-",
        "outputId": "696cd9fa-97ec-42f4-9683-9e711fac1aca"
      },
      "source": [
        "x_train.shape "
      ],
      "execution_count": null,
      "outputs": [
        {
          "output_type": "execute_result",
          "data": {
            "text/plain": [
              "(60000, 28, 28)"
            ]
          },
          "metadata": {},
          "execution_count": 10
        }
      ]
    },
    {
      "cell_type": "code",
      "metadata": {
        "colab": {
          "base_uri": "https://localhost:8080/"
        },
        "id": "ZS7V2mRAGoXL",
        "outputId": "f29ae9fb-edd6-4e3e-94cf-584c7223df38"
      },
      "source": [
        "# Convolution expects NxHxWxC\n",
        "\n",
        "x_train = np.expand_dims(x_train, -1)\n",
        "x_test = np.expand_dims(x_test, -1)\n",
        "print(x_train.shape)"
      ],
      "execution_count": null,
      "outputs": [
        {
          "output_type": "stream",
          "name": "stdout",
          "text": [
            "(60000, 28, 28, 1)\n"
          ]
        }
      ]
    },
    {
      "cell_type": "code",
      "metadata": {
        "colab": {
          "base_uri": "https://localhost:8080/"
        },
        "id": "SupfnqAJG0oc",
        "outputId": "51b8d8c7-f3ae-4954-9397-c25d81f50e77"
      },
      "source": [
        "# Number of classes\n",
        "\n",
        "K = len(set(y_train))\n",
        "print(\"Number of classes:\",K)"
      ],
      "execution_count": null,
      "outputs": [
        {
          "output_type": "stream",
          "name": "stdout",
          "text": [
            "Number of classes: 10\n"
          ]
        }
      ]
    },
    {
      "cell_type": "code",
      "metadata": {
        "colab": {
          "base_uri": "https://localhost:8080/"
        },
        "id": "NlmLus3FH79_",
        "outputId": "a630eec9-ef06-44fe-dd19-d4c31f13cd74"
      },
      "source": [
        "x_train.shape"
      ],
      "execution_count": null,
      "outputs": [
        {
          "output_type": "execute_result",
          "data": {
            "text/plain": [
              "(60000, 28, 28, 1)"
            ]
          },
          "metadata": {},
          "execution_count": 14
        }
      ]
    },
    {
      "cell_type": "code",
      "metadata": {
        "colab": {
          "base_uri": "https://localhost:8080/"
        },
        "id": "lmB2MloZIBaL",
        "outputId": "f14d40fa-db5c-4aad-cd7b-b85b331032d9"
      },
      "source": [
        "x_train[0].shape"
      ],
      "execution_count": null,
      "outputs": [
        {
          "output_type": "execute_result",
          "data": {
            "text/plain": [
              "(28, 28, 1)"
            ]
          },
          "metadata": {},
          "execution_count": 15
        }
      ]
    },
    {
      "cell_type": "code",
      "metadata": {
        "id": "9ZhG3F4iICwW"
      },
      "source": [
        "# Build the model using the Functional API\n",
        "\n",
        "i = Input(shape= x_train[0].shape)\n",
        "x = Conv2D(32, (3,3), strides=2, activation='relu')(i)\n",
        "x = Conv2D(64, (3,3), strides=2, activation='relu')(x)\n",
        "x = Conv2D(128, (3,3), strides=2, activation='relu')(x)\n",
        "x = Flatten()(x)\n",
        "x = Dropout(0.2)(x)\n",
        "x = Dense(512, activation='relu')(x)\n",
        "x = Dropout(0.2)(x)\n",
        "x = Dense(K, activation='softmax')(x)\n",
        "\n",
        "model = Model(i, x)"
      ],
      "execution_count": null,
      "outputs": []
    },
    {
      "cell_type": "code",
      "metadata": {
        "id": "6uKeYthgJpcT"
      },
      "source": [
        "# Compile and fit\n",
        "\n",
        "model.compile(optimizer='adam',\n",
        "              loss= 'sparse_categorical_crossentropy',\n",
        "              metrics= ['accuracy'])"
      ],
      "execution_count": null,
      "outputs": []
    },
    {
      "cell_type": "code",
      "metadata": {
        "colab": {
          "base_uri": "https://localhost:8080/"
        },
        "id": "FrpLJ6vGJ7m5",
        "outputId": "7ef0752e-3843-4845-c4bd-c3fc8eb4da0f"
      },
      "source": [
        "r = model.fit(x_train, y_train, validation_data=(x_test, y_test), epochs=15)"
      ],
      "execution_count": null,
      "outputs": [
        {
          "output_type": "stream",
          "name": "stdout",
          "text": [
            "Epoch 1/15\n",
            "1875/1875 [==============================] - 42s 6ms/step - loss: 0.5149 - accuracy: 0.8098 - val_loss: 0.3872 - val_accuracy: 0.8551\n",
            "Epoch 2/15\n",
            "1875/1875 [==============================] - 11s 6ms/step - loss: 0.3521 - accuracy: 0.8677 - val_loss: 0.3612 - val_accuracy: 0.8684\n",
            "Epoch 3/15\n",
            "1875/1875 [==============================] - 11s 6ms/step - loss: 0.3088 - accuracy: 0.8844 - val_loss: 0.3168 - val_accuracy: 0.8860\n",
            "Epoch 4/15\n",
            "1875/1875 [==============================] - 11s 6ms/step - loss: 0.2735 - accuracy: 0.8969 - val_loss: 0.3266 - val_accuracy: 0.8812\n",
            "Epoch 5/15\n",
            "1875/1875 [==============================] - 11s 6ms/step - loss: 0.2480 - accuracy: 0.9060 - val_loss: 0.3074 - val_accuracy: 0.8925\n",
            "Epoch 6/15\n",
            "1875/1875 [==============================] - 11s 6ms/step - loss: 0.2273 - accuracy: 0.9134 - val_loss: 0.2994 - val_accuracy: 0.8928\n",
            "Epoch 7/15\n",
            "1875/1875 [==============================] - 11s 6ms/step - loss: 0.2099 - accuracy: 0.9210 - val_loss: 0.3033 - val_accuracy: 0.8961\n",
            "Epoch 8/15\n",
            "1875/1875 [==============================] - 11s 6ms/step - loss: 0.1955 - accuracy: 0.9251 - val_loss: 0.2914 - val_accuracy: 0.9015\n",
            "Epoch 9/15\n",
            "1875/1875 [==============================] - 11s 6ms/step - loss: 0.1800 - accuracy: 0.9312 - val_loss: 0.3021 - val_accuracy: 0.8981\n",
            "Epoch 10/15\n",
            "1875/1875 [==============================] - 11s 6ms/step - loss: 0.1702 - accuracy: 0.9344 - val_loss: 0.3050 - val_accuracy: 0.9025\n",
            "Epoch 11/15\n",
            "1875/1875 [==============================] - 11s 6ms/step - loss: 0.1575 - accuracy: 0.9395 - val_loss: 0.3250 - val_accuracy: 0.8992\n",
            "Epoch 12/15\n",
            "1875/1875 [==============================] - 11s 6ms/step - loss: 0.1490 - accuracy: 0.9431 - val_loss: 0.3217 - val_accuracy: 0.9036\n",
            "Epoch 13/15\n",
            "1875/1875 [==============================] - 11s 6ms/step - loss: 0.1399 - accuracy: 0.9461 - val_loss: 0.3692 - val_accuracy: 0.9000\n",
            "Epoch 14/15\n",
            "1875/1875 [==============================] - 11s 6ms/step - loss: 0.1345 - accuracy: 0.9480 - val_loss: 0.3554 - val_accuracy: 0.8981\n",
            "Epoch 15/15\n",
            "1875/1875 [==============================] - 11s 6ms/step - loss: 0.1287 - accuracy: 0.9507 - val_loss: 0.3751 - val_accuracy: 0.9032\n"
          ]
        }
      ]
    },
    {
      "cell_type": "markdown",
      "metadata": {
        "id": "obsFG7erK-nJ"
      },
      "source": [
        "Observation: We are getting a good accuracy."
      ]
    },
    {
      "cell_type": "code",
      "metadata": {
        "colab": {
          "base_uri": "https://localhost:8080/",
          "height": 265
        },
        "id": "J00J3lhWKGI9",
        "outputId": "cad89772-fdc2-47a4-c4d9-7a1df744919a"
      },
      "source": [
        "# Plot the loss per iteration\n",
        "import matplotlib.pyplot as plt\n",
        "plt.plot(r.history['loss'], label='loss')\n",
        "plt.plot(r.history['val_loss'], label='val_loss')\n",
        "plt.legend()\n",
        "plt.show()"
      ],
      "execution_count": null,
      "outputs": [
        {
          "output_type": "display_data",
          "data": {
            "image/png": "[encoded data removed]",
            "text/plain": [
              "<Figure size 432x288 with 1 Axes>"
            ]
          },
          "metadata": {
            "needs_background": "light"
          }
        }
      ]
    },
    {
      "cell_type": "code",
      "metadata": {
        "colab": {
          "base_uri": "https://localhost:8080/",
          "height": 265
        },
        "id": "snCG-1S9LcGp",
        "outputId": "56297b71-15aa-41b9-f554-acf01f2e5905"
      },
      "source": [
        "# Plot the accuracy per iteration\n",
        "import matplotlib.pyplot as plt\n",
        "plt.plot(r.history['accuracy'], label='acc')\n",
        "plt.plot(r.history['val_accuracy'], label='val_acc')\n",
        "plt.legend()\n",
        "plt.show()"
      ],
      "execution_count": null,
      "outputs": [
        {
          "output_type": "display_data",
          "data": {
            "image/png": "[encoded data removed]",
            "text/plain": [
              "<Figure size 432x288 with 1 Axes>"
            ]
          },
          "metadata": {
            "needs_background": "light"
          }
        }
      ]
    },
    {
      "cell_type": "markdown",
      "metadata": {
        "id": "U-cZIh2WMj4F"
      },
      "source": [
        "Observtion: The model is overfitting. It appears that that the validation accuracy stays pretty steady. This is interesting to see when the validation loss simultaneously goes up. It means that the model is becoming more and more confident in its incorrect predictions."
      ]
    },
    {
      "cell_type": "code",
      "metadata": {
        "colab": {
          "base_uri": "https://localhost:8080/",
          "height": 496
        },
        "id": "a7AC2RNnMYIH",
        "outputId": "66c0ebe9-9daa-46b5-8dff-f5f5a9278250"
      },
      "source": [
        "# Plot confusion matrix\n",
        "from sklearn.metrics import confusion_matrix\n",
        "import itertools\n",
        "\n",
        "def plot_confusion_matrix(cm, classes,\n",
        "                          normalize=False,\n",
        "                          title='Confusion matrix',\n",
        "                          cmap=plt.cm.Blues):\n",
        "  \"\"\"\n",
        "  This function prints and plots the confusion matrix.\n",
        "  Normalization can be applied by setting `normalize=True`.\n",
        "  \"\"\"\n",
        "  if normalize:\n",
        "      cm = cm.astype('float') / cm.sum(axis=1)[:, np.newaxis]\n",
        "      print(\"Normalized confusion matrix\")\n",
        "  else:\n",
        "      print('Confusion matrix, without normalization')\n",
        "\n",
        "  print(cm)\n",
        "\n",
        "  plt.imshow(cm, interpolation='nearest', cmap=cmap)\n",
        "  plt.title(title)\n",
        "  plt.colorbar()\n",
        "  tick_marks = np.arange(len(classes))\n",
        "  plt.xticks(tick_marks, classes, rotation=45)\n",
        "  plt.yticks(tick_marks, classes)\n",
        "\n",
        "  fmt = '.2f' if normalize else 'd'\n",
        "  thresh = cm.max() / 2.\n",
        "  for i, j in itertools.product(range(cm.shape[0]), range(cm.shape[1])):\n",
        "      plt.text(j, i, format(cm[i, j], fmt),\n",
        "               horizontalalignment=\"center\",\n",
        "               color=\"white\" if cm[i, j] > thresh else \"black\")\n",
        "\n",
        "  plt.tight_layout()\n",
        "  plt.ylabel('True label')\n",
        "  plt.xlabel('Predicted label')\n",
        "  plt.show()\n",
        "\n",
        "\n",
        "p_test = model.predict(x_test).argmax(axis=1)\n",
        "cm = confusion_matrix(y_test, p_test)\n",
        "plot_confusion_matrix(cm, list(range(10)))\n",
        "\n"
      ],
      "execution_count": null,
      "outputs": [
        {
          "output_type": "stream",
          "name": "stdout",
          "text": [
            "Confusion matrix, without normalization\n",
            "[[874   2  19  19   2   1  79   0   4   0]\n",
            " [  2 976   0  11   4   0   3   0   4   0]\n",
            " [ 12   0 831  13  72   0  71   0   1   0]\n",
            " [ 14   7  13 911  34   0  20   0   1   0]\n",
            " [  1   1  35  28 852   0  82   0   1   0]\n",
            " [  0   0   0   1   0 976   0  14   0   9]\n",
            " [119   0  47  26  72   0 721   0  15   0]\n",
            " [  0   0   0   0   0  18   0 967   0  15]\n",
            " [  2   2   0   2   5   3   9   3 974   0]\n",
            " [  1   0   0   0   0   6   0  43   0 950]]\n"
          ]
        },
        {
          "output_type": "display_data",
          "data": {
            "image/png": "[encoded data removed]",
            "text/plain": [
              "<Figure size 432x288 with 2 Axes>"
            ]
          },
          "metadata": {
            "needs_background": "light"
          }
        }
      ]
    },
    {
      "cell_type": "markdown",
      "metadata": {
        "id": "oe8whMUhN0-l"
      },
      "source": [
        "Observation: Lets check the two most wrong predictions.\n",
        "\n",
        "a. True Label= 6, Predicted label= 0\n",
        "\n",
        "b. True Label= 4, Predicted label= 6"
      ]
    },
    {
      "cell_type": "code",
      "metadata": {
        "colab": {
          "base_uri": "https://localhost:8080/"
        },
        "id": "z8bQz4qLNVy3",
        "outputId": "373cb2a4-aeb4-40ec-e404-56cad5e4d75d"
      },
      "source": [
        "# Label mapping\n",
        "labels = '''T-shirt/top\n",
        "            Trouser\n",
        "            Pullover\n",
        "            Dress\n",
        "            Coat\n",
        "            Sandal\n",
        "            Shirt\n",
        "            Sneaker\n",
        "            Bag\n",
        "            Ankle boot'''.split(\"\\n\")\n",
        "labels"
      ],
      "execution_count": null,
      "outputs": [
        {
          "output_type": "execute_result",
          "data": {
            "text/plain": [
              "['T-shirt/top',\n",
              " '            Trouser',\n",
              " '            Pullover',\n",
              " '            Dress',\n",
              " '            Coat',\n",
              " '            Sandal',\n",
              " '            Shirt',\n",
              " '            Sneaker',\n",
              " '            Bag',\n",
              " '            Ankle boot']"
            ]
          },
          "metadata": {},
          "execution_count": 24
        }
      ]
    },
    {
      "cell_type": "code",
      "metadata": {
        "colab": {
          "base_uri": "https://localhost:8080/"
        },
        "id": "ScC3tZhmPNjV",
        "outputId": "cba5e5ad-7f58-421a-b1ec-0e0239f4119e"
      },
      "source": [
        "np.where(p_test != y_test)[0]"
      ],
      "execution_count": null,
      "outputs": [
        {
          "output_type": "execute_result",
          "data": {
            "text/plain": [
              "array([  23,   25,   29,   42,   44,   49,   67,   68,   98,  103,  117,\n",
              "        127,  135,  147,  150,  151,  202,  217,  222,  239,  244,  246,\n",
              "        248,  269,  271,  313,  316,  324,  325,  332,  359,  368,  378,\n",
              "        379,  381,  382,  394,  404,  425,  437,  441,  452,  454,  460,\n",
              "        474,  476,  498,  511,  529,  565,  569,  578,  607,  608,  612,\n",
              "        616,  628,  634,  635,  665,  669,  670,  688,  696,  711,  713,\n",
              "        716,  724,  732,  760,  764,  767,  787,  805,  817,  823,  851,\n",
              "        860,  877,  881,  893,  902,  905,  956,  960,  965,  966,  967,\n",
              "        971,  972,  976,  977,  979,  984,  986, 1000, 1005, 1028, 1051,\n",
              "       1066, 1100, 1101, 1111, 1130, 1131, 1139, 1142, 1147, 1152, 1158,\n",
              "       1160, 1162, 1188, 1194, 1197, 1210, 1231, 1235, 1236, 1241, 1251,\n",
              "       1254, 1261, 1280, 1286, 1300, 1305, 1306, 1312, 1315, 1322, 1326,\n",
              "       1336, 1374, 1388, 1408, 1425, 1431, 1438, 1455, 1460, 1462, 1469,\n",
              "       1471, 1482, 1487, 1496, 1504, 1522, 1533, 1543, 1557, 1561, 1572,\n",
              "       1602, 1617, 1620, 1626, 1632, 1642, 1643, 1645, 1650, 1659, 1665,\n",
              "       1684, 1695, 1699, 1706, 1712, 1731, 1734, 1740, 1743, 1763, 1778,\n",
              "       1810, 1846, 1856, 1867, 1878, 1886, 1943, 1954, 1955, 1964, 1968,\n",
              "       1980, 2001, 2006, 2009, 2020, 2022, 2037, 2042, 2071, 2078, 2079,\n",
              "       2081, 2106, 2111, 2144, 2182, 2189, 2191, 2195, 2196, 2221, 2252,\n",
              "       2272, 2278, 2281, 2290, 2293, 2298, 2302, 2311, 2312, 2319, 2337,\n",
              "       2351, 2352, 2397, 2425, 2431, 2438, 2451, 2464, 2469, 2476, 2490,\n",
              "       2491, 2506, 2507, 2522, 2527, 2529, 2540, 2548, 2551, 2559, 2571,\n",
              "       2573, 2580, 2588, 2599, 2601, 2603, 2615, 2617, 2629, 2639, 2652,\n",
              "       2653, 2670, 2671, 2674, 2681, 2684, 2689, 2698, 2700, 2701, 2717,\n",
              "       2721, 2736, 2741, 2760, 2779, 2817, 2839, 2840, 2842, 2843, 2856,\n",
              "       2878, 2894, 2898, 2903, 2905, 2906, 2909, 2911, 2914, 2920, 2934,\n",
              "       2940, 2942, 2951, 2953, 2973, 2985, 2991, 2997, 3001, 3008, 3019,\n",
              "       3020, 3026, 3038, 3040, 3045, 3080, 3082, 3084, 3103, 3132, 3164,\n",
              "       3165, 3174, 3176, 3181, 3188, 3193, 3198, 3209, 3220, 3224, 3229,\n",
              "       3232, 3236, 3240, 3255, 3258, 3282, 3284, 3294, 3297, 3313, 3322,\n",
              "       3332, 3334, 3336, 3338, 3344, 3349, 3351, 3360, 3370, 3407, 3429,\n",
              "       3434, 3442, 3456, 3457, 3464, 3466, 3468, 3481, 3488, 3489, 3496,\n",
              "       3531, 3540, 3553, 3554, 3568, 3575, 3585, 3609, 3615, 3625, 3626,\n",
              "       3649, 3663, 3669, 3673, 3674, 3681, 3706, 3714, 3730, 3731, 3741,\n",
              "       3745, 3754, 3760, 3772, 3796, 3799, 3800, 3804, 3805, 3811, 3816,\n",
              "       3829, 3830, 3861, 3865, 3871, 3880, 3896, 3918, 3919, 3932, 3938,\n",
              "       3939, 3953, 3959, 3974, 3981, 3983, 3987, 3988, 4005, 4010, 4019,\n",
              "       4021, 4030, 4031, 4040, 4041, 4056, 4061, 4067, 4100, 4101, 4104,\n",
              "       4106, 4109, 4127, 4140, 4142, 4143, 4148, 4152, 4153, 4173, 4192,\n",
              "       4194, 4224, 4231, 4233, 4245, 4251, 4280, 4299, 4307, 4317, 4327,\n",
              "       4378, 4392, 4446, 4449, 4451, 4460, 4471, 4500, 4503, 4505, 4508,\n",
              "       4511, 4526, 4539, 4559, 4568, 4569, 4599, 4608, 4639, 4652, 4658,\n",
              "       4664, 4685, 4692, 4693, 4727, 4734, 4738, 4742, 4746, 4756, 4763,\n",
              "       4777, 4782, 4784, 4803, 4823, 4828, 4829, 4839, 4842, 4845, 4846,\n",
              "       4847, 4850, 4880, 4882, 4886, 4893, 4896, 4905, 4907, 4916, 4922,\n",
              "       4924, 4934, 4956, 4995, 5006, 5009, 5032, 5043, 5052, 5056, 5065,\n",
              "       5069, 5077, 5082, 5088, 5090, 5113, 5123, 5136, 5148, 5159, 5167,\n",
              "       5184, 5186, 5197, 5244, 5248, 5249, 5255, 5259, 5285, 5299, 5304,\n",
              "       5307, 5332, 5334, 5381, 5397, 5424, 5426, 5440, 5452, 5468, 5470,\n",
              "       5471, 5474, 5480, 5488, 5497, 5510, 5511, 5512, 5520, 5521, 5522,\n",
              "       5533, 5569, 5575, 5576, 5592, 5594, 5597, 5601, 5618, 5623, 5648,\n",
              "       5661, 5669, 5672, 5685, 5695, 5701, 5703, 5710, 5713, 5718, 5719,\n",
              "       5734, 5735, 5760, 5763, 5777, 5792, 5806, 5824, 5826, 5828, 5844,\n",
              "       5849, 5852, 5885, 5899, 5927, 5938, 5946, 5966, 5968, 5971, 5974,\n",
              "       5984, 5987, 5990, 5993, 6007, 6008, 6012, 6024, 6030, 6032, 6094,\n",
              "       6096, 6103, 6117, 6127, 6132, 6147, 6160, 6163, 6169, 6175, 6201,\n",
              "       6207, 6211, 6230, 6234, 6236, 6241, 6245, 6248, 6254, 6258, 6262,\n",
              "       6280, 6303, 6306, 6331, 6335, 6344, 6356, 6362, 6365, 6377, 6395,\n",
              "       6404, 6405, 6433, 6434, 6452, 6464, 6472, 6474, 6517, 6531, 6539,\n",
              "       6542, 6558, 6564, 6565, 6566, 6567, 6575, 6584, 6596, 6614, 6625,\n",
              "       6626, 6629, 6634, 6646, 6649, 6655, 6676, 6688, 6689, 6701, 6710,\n",
              "       6721, 6733, 6762, 6801, 6809, 6855, 6861, 6866, 6868, 6874, 6899,\n",
              "       6908, 6926, 6928, 6952, 6953, 6958, 6984, 6990, 6993, 6996, 6997,\n",
              "       7007, 7008, 7013, 7024, 7026, 7028, 7040, 7047, 7049, 7057, 7062,\n",
              "       7063, 7068, 7071, 7103, 7109, 7125, 7130, 7133, 7136, 7138, 7167,\n",
              "       7177, 7182, 7188, 7189, 7195, 7205, 7211, 7228, 7233, 7249, 7271,\n",
              "       7283, 7292, 7314, 7342, 7345, 7346, 7369, 7416, 7424, 7442, 7446,\n",
              "       7462, 7472, 7495, 7507, 7525, 7526, 7527, 7535, 7541, 7545, 7551,\n",
              "       7555, 7583, 7591, 7599, 7625, 7646, 7652, 7654, 7664, 7679, 7750,\n",
              "       7761, 7764, 7778, 7807, 7809, 7812, 7816, 7818, 7829, 7831, 7847,\n",
              "       7863, 7876, 7883, 7899, 7905, 7906, 7916, 7924, 7936, 7948, 7976,\n",
              "       7983, 7986, 7992, 8005, 8007, 8009, 8031, 8033, 8038, 8039, 8051,\n",
              "       8061, 8065, 8066, 8074, 8091, 8106, 8111, 8121, 8128, 8137, 8140,\n",
              "       8141, 8142, 8148, 8156, 8159, 8181, 8202, 8205, 8211, 8217, 8237,\n",
              "       8275, 8280, 8292, 8324, 8373, 8375, 8425, 8436, 8454, 8459, 8484,\n",
              "       8490, 8509, 8514, 8525, 8532, 8538, 8558, 8560, 8580, 8592, 8598,\n",
              "       8617, 8618, 8621, 8624, 8646, 8658, 8664, 8669, 8688, 8703, 8705,\n",
              "       8708, 8710, 8716, 8725, 8728, 8745, 8748, 8757, 8763, 8764, 8784,\n",
              "       8832, 8841, 8877, 8879, 8887, 8914, 8919, 8933, 8939, 8949, 8952,\n",
              "       8958, 8980, 8997, 9017, 9032, 9056, 9057, 9059, 9061, 9062, 9067,\n",
              "       9071, 9087, 9089, 9094, 9095, 9122, 9131, 9133, 9152, 9154, 9157,\n",
              "       9165, 9171, 9183, 9200, 9211, 9218, 9227, 9237, 9248, 9251, 9260,\n",
              "       9276, 9277, 9280, 9286, 9291, 9308, 9329, 9342, 9348, 9349, 9350,\n",
              "       9354, 9387, 9398, 9402, 9405, 9441, 9445, 9449, 9480, 9483, 9485,\n",
              "       9487, 9495, 9499, 9502, 9512, 9531, 9571, 9574, 9580, 9584, 9601,\n",
              "       9644, 9662, 9663, 9666, 9685, 9690, 9692, 9705, 9714, 9719, 9724,\n",
              "       9729, 9748, 9757, 9779, 9785, 9791, 9807, 9809, 9835, 9859, 9880,\n",
              "       9904, 9928, 9945, 9947, 9949, 9953, 9955, 9969, 9972, 9977, 9991])"
            ]
          },
          "metadata": {},
          "execution_count": 26
        }
      ]
    },
    {
      "cell_type": "code",
      "metadata": {
        "colab": {
          "base_uri": "https://localhost:8080/",
          "height": 281
        },
        "id": "sxBSO2TAO3Id",
        "outputId": "37ff9761-1e55-4ccc-da69-e3007fdc5005"
      },
      "source": [
        "# Lets see some of the misclassified examples\n",
        "\n",
        "misclassified_idx = np.where(p_test != y_test)[0]\n",
        "i = np.random.choice(misclassified_idx)\n",
        "plt.imshow(x_test[i].reshape(28,28), cmap= 'gray')\n",
        "plt.title(\"True label: %s Predicted: %s\" %(labels[y_test[i]], labels[p_test[i]]))\n",
        "plt.show()"
      ],
      "execution_count": null,
      "outputs": [
        {
          "output_type": "display_data",
          "data": {
            "image/png": "[encoded data removed]",
            "text/plain": [
              "<Figure size 432x288 with 1 Axes>"
            ]
          },
          "metadata": {
            "needs_background": "light"
          }
        }
      ]
    },
    {
      "cell_type": "code",
      "metadata": {
        "colab": {
          "base_uri": "https://localhost:8080/",
          "height": 281
        },
        "id": "SI6uVdukP1AF",
        "outputId": "61033879-010f-49de-cecf-5f8e4ac0861c"
      },
      "source": [
        "# Lets see some of the misclassified examples\n",
        "\n",
        "misclassified_idx = np.where(p_test != y_test)[0]\n",
        "i = np.random.choice(misclassified_idx)\n",
        "plt.imshow(x_test[i].reshape(28,28), cmap= 'gray')\n",
        "plt.title(\"True label: %s Predicted: %s\" %(labels[y_test[i]], labels[p_test[i]]))\n",
        "plt.show()"
      ],
      "execution_count": null,
      "outputs": [
        {
          "output_type": "display_data",
          "data": {
            "image/png": "[encoded data removed]",
            "text/plain": [
              "<Figure size 432x288 with 1 Axes>"
            ]
          },
          "metadata": {
            "needs_background": "light"
          }
        }
      ]
    },
    {
      "cell_type": "code",
      "metadata": {
        "colab": {
          "base_uri": "https://localhost:8080/",
          "height": 281
        },
        "id": "2S7qMcDvP8u-",
        "outputId": "9fc76e91-12c4-4b2b-885a-bbb3de2b863c"
      },
      "source": [
        "# Lets see some of the misclassified examples\n",
        "\n",
        "misclassified_idx = np.where(p_test != y_test)[0]\n",
        "i = np.random.choice(misclassified_idx)\n",
        "plt.imshow(x_test[i].reshape(28,28), cmap= 'gray')\n",
        "plt.title(\"True label: %s Predicted: %s\" %(labels[y_test[i]], labels[p_test[i]]))\n",
        "plt.show()"
      ],
      "execution_count": null,
      "outputs": [
        {
          "output_type": "display_data",
          "data": {
            "image/png": "[encoded data removed]",
            "text/plain": [
              "<Figure size 432x288 with 1 Axes>"
            ]
          },
          "metadata": {
            "needs_background": "light"
          }
        }
      ]
    },
    {
      "cell_type": "code",
      "metadata": {
        "colab": {
          "base_uri": "https://localhost:8080/",
          "height": 281
        },
        "id": "dZKVw0MrQAmw",
        "outputId": "e902116c-f3ae-47fc-e1fa-4aad38121d1c"
      },
      "source": [
        "# Lets see some of the misclassified examples\n",
        "\n",
        "misclassified_idx = np.where(p_test != y_test)[0]\n",
        "i = np.random.choice(misclassified_idx)\n",
        "plt.imshow(x_test[i].reshape(28,28), cmap= 'gray')\n",
        "plt.title(\"True label: %s Predicted: %s\" %(labels[y_test[i]], labels[p_test[i]]))\n",
        "plt.show()"
      ],
      "execution_count": null,
      "outputs": [
        {
          "output_type": "display_data",
          "data": {
            "image/png": "[encoded data removed]",
            "text/plain": [
              "<Figure size 432x288 with 1 Axes>"
            ]
          },
          "metadata": {
            "needs_background": "light"
          }
        }
      ]
    },
    {
      "cell_type": "code",
      "metadata": {
        "colab": {
          "base_uri": "https://localhost:8080/",
          "height": 281
        },
        "id": "fN7hrPN3QPm-",
        "outputId": "45d8bea4-99ee-4f9b-c5e9-4dfa0235ba2a"
      },
      "source": [
        "# Lets see some of the misclassified examples\n",
        "\n",
        "misclassified_idx = np.where(p_test != y_test)[0]\n",
        "i = np.random.choice(misclassified_idx)\n",
        "plt.imshow(x_test[i].reshape(28,28), cmap= 'gray')\n",
        "plt.title(\"True label: %s Predicted: %s\" %(labels[y_test[i]], labels[p_test[i]]))\n",
        "plt.show()"
      ],
      "execution_count": null,
      "outputs": [
        {
          "output_type": "display_data",
          "data": {
            "image/png": "[encoded data removed]",
            "text/plain": [
              "<Figure size 432x288 with 1 Axes>"
            ]
          },
          "metadata": {
            "needs_background": "light"
          }
        }
      ]
    },
    {
      "cell_type": "markdown",
      "metadata": {
        "id": "wuMc-f5uQraG"
      },
      "source": [
        "# Happy Learning"
      ]
    }
  ]
}