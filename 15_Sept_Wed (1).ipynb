{
  "nbformat": 4,
  "nbformat_minor": 5,
  "metadata": {
    "kernelspec": {
      "display_name": "Python 3",
      "language": "python",
      "name": "python3"
    },
    "language_info": {
      "codemirror_mode": {
        "name": "ipython",
        "version": 3
      },
      "file_extension": ".py",
      "mimetype": "text/x-python",
      "name": "python",
      "nbconvert_exporter": "python",
      "pygments_lexer": "ipython3",
      "version": "3.8.8"
    },
    "colab": {
      "name": "15_Sept_Wed.ipynb",
      "provenance": []
    }
  },
  "cells": [
    {
      "cell_type": "code",
      "metadata": {
        "id": "32a3b266"
      },
      "source": [
        "# Jovian Commit Essentials\n",
        "# Please retain and execute this cell without modifying the contents for `jovian.commit` to work\n",
        "!pip install jovian --upgrade -q\n",
        "import jovian\n",
        "jovian.set_project('15-sept-wed')\n",
        "jovian.set_colab_id('1zuYCTYOlBUhzbEQfUFWVZ3JZjGt03VwK')"
      ],
      "id": "32a3b266",
      "execution_count": null,
      "outputs": []
    },
    {
      "cell_type": "code",
      "metadata": {
        "id": "da73906e",
        "outputId": "89937605-3962-4de0-9546-db39786d3074"
      },
      "source": [
        "10-6"
      ],
      "id": "da73906e",
      "execution_count": null,
      "outputs": [
        {
          "data": {
            "text/plain": [
              "4"
            ]
          },
          "execution_count": 1,
          "metadata": {},
          "output_type": "execute_result"
        }
      ]
    },
    {
      "cell_type": "code",
      "metadata": {
        "id": "ce66d758",
        "outputId": "06a4adbf-6b19-4259-b14f-d19e25e70455"
      },
      "source": [
        "45*6"
      ],
      "id": "ce66d758",
      "execution_count": null,
      "outputs": [
        {
          "data": {
            "text/plain": [
              "270"
            ]
          },
          "execution_count": 2,
          "metadata": {},
          "output_type": "execute_result"
        }
      ]
    },
    {
      "cell_type": "raw",
      "metadata": {
        "id": "76b309d9"
      },
      "source": [
        "# Hi SkillEnable Learners.\n",
        "\n",
        "## I am your trainer.\n",
        "\n",
        "My name is **Dr. Darshan Ingle**.\n",
        "\n",
        "I am from Navi Mumbai.\n",
        "\n",
        "I am an expert in following subjects:\n",
        "\n",
        ">AI\n",
        "\n",
        ">ML\n",
        "\n",
        ">NLP\n",
        "\n",
        ">DL\n",
        "\n",
        ">DA"
      ],
      "id": "76b309d9"
    },
    {
      "cell_type": "code",
      "metadata": {
        "id": "39e741b4",
        "outputId": "cb3af9d5-7300-4a00-a2e1-e3c46cee0e27"
      },
      "source": [
        "print(\"My name is Dr. Darshan Ingle.\")"
      ],
      "id": "39e741b4",
      "execution_count": null,
      "outputs": [
        {
          "name": "stdout",
          "output_type": "stream",
          "text": [
            "My name is Dr. Darshan Ingle.\n"
          ]
        }
      ]
    },
    {
      "cell_type": "code",
      "metadata": {
        "id": "b6a8a60e",
        "outputId": "b91788c9-28c6-44cd-e203-c2e583b4b406"
      },
      "source": [
        "print('My name is Dr. Darshan Ingle.')"
      ],
      "id": "b6a8a60e",
      "execution_count": null,
      "outputs": [
        {
          "name": "stdout",
          "output_type": "stream",
          "text": [
            "My name is Dr. Darshan Ingle.\n"
          ]
        }
      ]
    },
    {
      "cell_type": "code",
      "metadata": {
        "id": "90ea2495",
        "outputId": "a6abd7ad-af28-4184-e1b8-1effb6c02092"
      },
      "source": [
        "print(\"987\")"
      ],
      "id": "90ea2495",
      "execution_count": null,
      "outputs": [
        {
          "name": "stdout",
          "output_type": "stream",
          "text": [
            "987\n"
          ]
        }
      ]
    },
    {
      "cell_type": "code",
      "metadata": {
        "id": "82996d15",
        "outputId": "c5f1fddc-02cc-4dda-8bb6-700498aab742"
      },
      "source": [
        "print(\"gkjqebckuhweiuyrieyo8 on34o8ehyeiurnivye4ic8y4e8i4yirue cnoiucjkdfghkug\")"
      ],
      "id": "82996d15",
      "execution_count": null,
      "outputs": [
        {
          "name": "stdout",
          "output_type": "stream",
          "text": [
            "gkjqebckuhweiuyrieyo8 on34o8ehyeiurnivye4ic8y4e8i4yirue cnoiucjkdfghkug\n"
          ]
        }
      ]
    },
    {
      "cell_type": "code",
      "metadata": {
        "id": "818252c5",
        "outputId": "3ed5bc49-36b4-4740-ac17-1c784fd8f501"
      },
      "source": [
        "a = 10\n",
        "b = 12\n",
        "c = a+b\n",
        "print(\"c\")\n",
        "print(a)\n",
        "print(b)\n",
        "print()\n",
        "\n",
        "print(\"Addition=\",c)\n",
        "\n",
        "print()\n",
        "\n",
        "print(\"Addition of a=\",a,\"& b=\",b,\"is c=\",c)"
      ],
      "id": "818252c5",
      "execution_count": null,
      "outputs": [
        {
          "name": "stdout",
          "output_type": "stream",
          "text": [
            "c\n",
            "10\n",
            "12\n",
            "\n",
            "Addition= 22\n",
            "\n",
            "Addition of a= 10 & b= 12 is c= 22\n"
          ]
        }
      ]
    },
    {
      "cell_type": "code",
      "metadata": {
        "id": "663dbbba",
        "outputId": "ff63bc83-83f2-4a13-de43-70917db375bf"
      },
      "source": [
        "a = 987\n",
        "b = 1562\n",
        "c = a+b\n",
        "print(\"c\")\n",
        "print(a)\n",
        "print(b)\n",
        "print()\n",
        "\n",
        "print(\"Addition=\",c)\n",
        "\n",
        "print()\n",
        "\n",
        "print(\"Addition of a=\",a,\"& b=\",b,\"is c=\",c)"
      ],
      "id": "663dbbba",
      "execution_count": null,
      "outputs": [
        {
          "name": "stdout",
          "output_type": "stream",
          "text": [
            "c\n",
            "987\n",
            "1562\n",
            "\n",
            "Addition= 2549\n",
            "\n",
            "Addition of a= 987 & b= 1562 is c= 2549\n"
          ]
        }
      ]
    },
    {
      "cell_type": "code",
      "metadata": {
        "id": "3301b49c",
        "outputId": "f7bf269f-06fe-4f34-bfb6-ae907a49d76f"
      },
      "source": [
        "a = input()\n",
        "b = input()\n",
        "c = a+b\n",
        "print(\"c\")\n",
        "print(a)\n",
        "print(b)\n",
        "print()\n",
        "\n",
        "print(\"Addition=\",c)\n",
        "\n",
        "print()\n",
        "\n",
        "print(\"Addition of a=\",a,\"& b=\",b,\"is c=\",c)"
      ],
      "id": "3301b49c",
      "execution_count": null,
      "outputs": [
        {
          "name": "stdout",
          "output_type": "stream",
          "text": [
            "100\n",
            "400\n",
            "c\n",
            "100\n",
            "400\n",
            "\n",
            "Addition= 100400\n",
            "\n",
            "Addition of a= 100 & b= 400 is c= 100400\n"
          ]
        }
      ]
    },
    {
      "cell_type": "code",
      "metadata": {
        "id": "57dd67ef",
        "outputId": "4ec16297-6205-4942-c12b-da4d449650d4"
      },
      "source": [
        "type(100)"
      ],
      "id": "57dd67ef",
      "execution_count": null,
      "outputs": [
        {
          "data": {
            "text/plain": [
              "int"
            ]
          },
          "execution_count": 23,
          "metadata": {},
          "output_type": "execute_result"
        }
      ]
    },
    {
      "cell_type": "code",
      "metadata": {
        "id": "006e2ecd",
        "outputId": "78ca4049-eb88-4475-89df-f28e4df8583c"
      },
      "source": [
        "type(100.758)"
      ],
      "id": "006e2ecd",
      "execution_count": null,
      "outputs": [
        {
          "data": {
            "text/plain": [
              "float"
            ]
          },
          "execution_count": 24,
          "metadata": {},
          "output_type": "execute_result"
        }
      ]
    },
    {
      "cell_type": "code",
      "metadata": {
        "id": "2f99f740",
        "outputId": "d5ebbfb2-8bff-4d52-dac8-72d044756546"
      },
      "source": [
        "type(\"100\")"
      ],
      "id": "2f99f740",
      "execution_count": null,
      "outputs": [
        {
          "data": {
            "text/plain": [
              "str"
            ]
          },
          "execution_count": 25,
          "metadata": {},
          "output_type": "execute_result"
        }
      ]
    },
    {
      "cell_type": "code",
      "metadata": {
        "id": "e6f1ab0f",
        "outputId": "d4f8477a-63d0-4391-d599-8ddaae7fd23e"
      },
      "source": [
        "type(\"SkillEnable\")"
      ],
      "id": "e6f1ab0f",
      "execution_count": null,
      "outputs": [
        {
          "data": {
            "text/plain": [
              "str"
            ]
          },
          "execution_count": 26,
          "metadata": {},
          "output_type": "execute_result"
        }
      ]
    },
    {
      "cell_type": "code",
      "metadata": {
        "id": "7a941b95",
        "outputId": "92b7f499-a4f5-4d04-fa0e-52da5a1f9386"
      },
      "source": [
        "type(7-8j)"
      ],
      "id": "7a941b95",
      "execution_count": null,
      "outputs": [
        {
          "data": {
            "text/plain": [
              "complex"
            ]
          },
          "execution_count": 27,
          "metadata": {},
          "output_type": "execute_result"
        }
      ]
    },
    {
      "cell_type": "code",
      "metadata": {
        "id": "f5c689d7",
        "outputId": "9afc338e-b221-49a4-c8c0-765c546b23f1"
      },
      "source": [
        "x = input()\n",
        "print(\"You entered\",x)"
      ],
      "id": "f5c689d7",
      "execution_count": null,
      "outputs": [
        {
          "name": "stdout",
          "output_type": "stream",
          "text": [
            "Darshan\n",
            "You entered Darshan\n"
          ]
        }
      ]
    },
    {
      "cell_type": "code",
      "metadata": {
        "id": "e8895db1",
        "outputId": "b4e51cc8-34b1-4567-cbd2-177afee92cfa"
      },
      "source": [
        "x = input()\n",
        "print(\"You entered\",x)"
      ],
      "id": "e8895db1",
      "execution_count": null,
      "outputs": [
        {
          "name": "stdout",
          "output_type": "stream",
          "text": [
            "8997\n",
            "You entered 8997\n"
          ]
        }
      ]
    },
    {
      "cell_type": "code",
      "metadata": {
        "id": "e031eb21",
        "outputId": "2f9f1b6e-212b-4ef3-e7ff-f9eb0d6c866c"
      },
      "source": [
        "x = input()\n",
        "print(type(x))"
      ],
      "id": "e031eb21",
      "execution_count": null,
      "outputs": [
        {
          "name": "stdout",
          "output_type": "stream",
          "text": [
            "Darshan\n",
            "<class 'str'>\n"
          ]
        }
      ]
    },
    {
      "cell_type": "code",
      "metadata": {
        "id": "67e6f435",
        "outputId": "2be6aa18-36f8-49ea-ea11-cd0c8afd65dc"
      },
      "source": [
        "x = input()\n",
        "print(type(x))"
      ],
      "id": "67e6f435",
      "execution_count": null,
      "outputs": [
        {
          "name": "stdout",
          "output_type": "stream",
          "text": [
            "98\n",
            "<class 'str'>\n"
          ]
        }
      ]
    },
    {
      "cell_type": "code",
      "metadata": {
        "id": "921accde",
        "outputId": "17b09d4a-f21a-4bb5-97ff-d4b59fd515cb"
      },
      "source": [
        "x = input()\n",
        "print(type(x))"
      ],
      "id": "921accde",
      "execution_count": null,
      "outputs": [
        {
          "name": "stdout",
          "output_type": "stream",
          "text": [
            "-766.554634\n",
            "<class 'str'>\n"
          ]
        }
      ]
    },
    {
      "cell_type": "code",
      "metadata": {
        "id": "6ae6add4",
        "outputId": "d53160c3-d01b-4f6a-897b-a021fac94120"
      },
      "source": [
        "x = input()\n",
        "print(type(x))"
      ],
      "id": "6ae6add4",
      "execution_count": null,
      "outputs": [
        {
          "name": "stdout",
          "output_type": "stream",
          "text": [
            "98-9j\n",
            "<class 'str'>\n"
          ]
        }
      ]
    },
    {
      "cell_type": "code",
      "metadata": {
        "id": "c47143d1",
        "outputId": "84312404-3dd8-4bae-c099-3187ba07a98e"
      },
      "source": [
        "# Typecasting: It is the process of forcefully changing the datatype.\n",
        "i = 98\n",
        "print(i)\n",
        "print(type(i))\n",
        "f = float(i)\n",
        "print(f)\n",
        "print(type(f))"
      ],
      "id": "c47143d1",
      "execution_count": null,
      "outputs": [
        {
          "name": "stdout",
          "output_type": "stream",
          "text": [
            "98\n",
            "<class 'int'>\n",
            "98.0\n",
            "<class 'float'>\n"
          ]
        }
      ]
    },
    {
      "cell_type": "code",
      "metadata": {
        "id": "0faa1a8a",
        "outputId": "3280dd46-78d6-4250-8ff0-d2d0df74c38b"
      },
      "source": [
        "i = 98.87687\n",
        "print(i)\n",
        "print(type(i))\n",
        "f = int(i)\n",
        "print(f)\n",
        "print(type(f))"
      ],
      "id": "0faa1a8a",
      "execution_count": null,
      "outputs": [
        {
          "name": "stdout",
          "output_type": "stream",
          "text": [
            "98.87687\n",
            "<class 'float'>\n",
            "98\n",
            "<class 'int'>\n"
          ]
        }
      ]
    },
    {
      "cell_type": "code",
      "metadata": {
        "id": "895b3abc",
        "outputId": "0387f24b-6cfa-4262-e92a-ce47d65a1f4d"
      },
      "source": [
        "a = input() # a is in str format\n",
        "b = input() # b is in str format\n",
        "a = int(a)\n",
        "b = int(b)\n",
        "c = a+b\n",
        "print(\"c\")\n",
        "print(a)\n",
        "print(b)\n",
        "print()\n",
        "\n",
        "print(\"Addition=\",c)\n",
        "\n",
        "print()\n",
        "\n",
        "print(\"Addition of a=\",a,\"& b=\",b,\"is c=\",c)"
      ],
      "id": "895b3abc",
      "execution_count": null,
      "outputs": [
        {
          "name": "stdout",
          "output_type": "stream",
          "text": [
            "100\n",
            "400\n",
            "c\n",
            "100\n",
            "400\n",
            "\n",
            "Addition= 500\n",
            "\n",
            "Addition of a= 100 & b= 400 is c= 500\n"
          ]
        }
      ]
    },
    {
      "cell_type": "code",
      "metadata": {
        "id": "d7f57464",
        "outputId": "9679da00-44b5-443f-dbee-c71a3f6ec6c4"
      },
      "source": [
        "a = int(input()) \n",
        "b = int(input()) \n",
        "\n",
        "c = a+b\n",
        "print(\"c\")\n",
        "print(a)\n",
        "print(b)\n",
        "print()\n",
        "\n",
        "print(\"Addition=\",c)\n",
        "\n",
        "print()\n",
        "\n",
        "print(\"Addition of a=\",a,\"& b=\",b,\"is c=\",c)"
      ],
      "id": "d7f57464",
      "execution_count": null,
      "outputs": [
        {
          "name": "stdout",
          "output_type": "stream",
          "text": [
            "100\n",
            "400\n",
            "c\n",
            "100\n",
            "400\n",
            "\n",
            "Addition= 500\n",
            "\n",
            "Addition of a= 100 & b= 400 is c= 500\n"
          ]
        }
      ]
    },
    {
      "cell_type": "code",
      "metadata": {
        "id": "a44a9609",
        "outputId": "27dc7672-0e33-4e6b-8802-203ddf0a3fbf"
      },
      "source": [
        "a = int(input(\"Enter 1st number\")) \n",
        "b = int(input(\"Enter 2nd number\")) \n",
        "\n",
        "c = a+b\n",
        "print(\"c\")\n",
        "print(a)\n",
        "print(b)\n",
        "print()\n",
        "\n",
        "print(\"Addition=\",c)\n",
        "\n",
        "print()\n",
        "\n",
        "print(\"Addition of a=\",a,\"& b=\",b,\"is c=\",c)"
      ],
      "id": "a44a9609",
      "execution_count": null,
      "outputs": [
        {
          "name": "stdout",
          "output_type": "stream",
          "text": [
            "Enter 1st number100\n",
            "Enter 2nd number400\n",
            "c\n",
            "100\n",
            "400\n",
            "\n",
            "Addition= 500\n",
            "\n",
            "Addition of a= 100 & b= 400 is c= 500\n"
          ]
        }
      ]
    },
    {
      "cell_type": "markdown",
      "metadata": {
        "id": "48d77b25"
      },
      "source": [
        "# Conditional Statements"
      ],
      "id": "48d77b25"
    },
    {
      "cell_type": "raw",
      "metadata": {
        "id": "cc753749"
      },
      "source": [
        "# if SYNTAX:\n",
        "\n",
        "if condition:\n",
        "    do this\n",
        "    do this\n",
        "    do this\n",
        "    \n",
        "# if else SYNTAX:\n",
        "\n",
        "if condition:\n",
        "    do this\n",
        "    do this\n",
        "else:\n",
        "    do this\n",
        "    do this\n",
        "    \n",
        "# if-elif-else SYNTAX:\n",
        "\n",
        "if condition1:\n",
        "    do this\n",
        "    do this\n",
        "elif condition2:\n",
        "    do this\n",
        "    do this\n",
        "elif condition3:\n",
        "    do this\n",
        "    do this\n",
        "else:\n",
        "    do this\n",
        "    do this"
      ],
      "id": "cc753749"
    },
    {
      "cell_type": "code",
      "metadata": {
        "id": "90b8316c",
        "outputId": "8972f9e5-4fe3-4ccc-8cbb-dbe2c882fa44"
      },
      "source": [
        "x = 5\n",
        "if x>3:\n",
        "    print(\"if condition successful\")\n",
        "print(\"Out of if\")"
      ],
      "id": "90b8316c",
      "execution_count": null,
      "outputs": [
        {
          "name": "stdout",
          "output_type": "stream",
          "text": [
            "if condition successful\n",
            "Out of if\n"
          ]
        }
      ]
    },
    {
      "cell_type": "code",
      "metadata": {
        "id": "e96418ae",
        "outputId": "36194445-e52f-4f6a-d8ed-187f6a22fea3"
      },
      "source": [
        "x = -15\n",
        "if x>3:\n",
        "    print(\"if condition successful\")\n",
        "print(\"Out of if\")"
      ],
      "id": "e96418ae",
      "execution_count": null,
      "outputs": [
        {
          "name": "stdout",
          "output_type": "stream",
          "text": [
            "Out of if\n"
          ]
        }
      ]
    },
    {
      "cell_type": "code",
      "metadata": {
        "id": "f1f6c125",
        "outputId": "92cba046-29ca-4845-a0b1-36175f18d20e"
      },
      "source": [
        "x = 5\n",
        "if x>0:\n",
        "    print(x,\"is a Positive Number\")\n",
        "else:\n",
        "    print(x,\"is a Negative Number\")\n",
        "print(\"Out of if else\")"
      ],
      "id": "f1f6c125",
      "execution_count": null,
      "outputs": [
        {
          "name": "stdout",
          "output_type": "stream",
          "text": [
            "5 is a Positive Number\n",
            "Out of if else\n"
          ]
        }
      ]
    },
    {
      "cell_type": "code",
      "metadata": {
        "id": "0629624e",
        "outputId": "d80564bf-f3e4-4a50-f6ab-03e27d9494af"
      },
      "source": [
        "x = -5\n",
        "if x>0:\n",
        "    print(x,\"is a Positive Number\")\n",
        "else:\n",
        "    print(x,\"is a Negative Number\")\n",
        "print(\"Out of if else\")"
      ],
      "id": "0629624e",
      "execution_count": null,
      "outputs": [
        {
          "name": "stdout",
          "output_type": "stream",
          "text": [
            "-5 is a Negative Number\n",
            "Out of if else\n"
          ]
        }
      ]
    },
    {
      "cell_type": "code",
      "metadata": {
        "id": "98ce59dd",
        "outputId": "eb40061c-cf35-499d-b60d-47da8b585cb5"
      },
      "source": [
        "x = 0\n",
        "if x>0:\n",
        "    print(x,\"is a Positive Number\")\n",
        "else:\n",
        "    print(x,\"is a Negative Number\")\n",
        "print(\"Out of if else\")"
      ],
      "id": "98ce59dd",
      "execution_count": null,
      "outputs": [
        {
          "name": "stdout",
          "output_type": "stream",
          "text": [
            "0 is a Negative Number\n",
            "Out of if else\n"
          ]
        }
      ]
    },
    {
      "cell_type": "code",
      "metadata": {
        "id": "bc03fafd",
        "outputId": "2a906889-436e-404e-ecd8-9fd338ed5274"
      },
      "source": [
        "x = 0\n",
        "if x>0:\n",
        "    print(x,\"is a Positive Number\")\n",
        "elif x<0:\n",
        "    print(x,\"is a Negative Number\")\n",
        "else:\n",
        "    print(\"Number is 0 i.e. neither negative nor positive\")\n",
        "    \n",
        "print(\"Out of if else\")"
      ],
      "id": "bc03fafd",
      "execution_count": null,
      "outputs": [
        {
          "name": "stdout",
          "output_type": "stream",
          "text": [
            "Number is 0 i.e. neither negative nor positive\n",
            "Out of if else\n"
          ]
        }
      ]
    },
    {
      "cell_type": "markdown",
      "metadata": {
        "id": "17adf09d"
      },
      "source": [
        "# List\n",
        "\n",
        "It is a collection of items of dissimilar datatypes.\n",
        "\n",
        "It is stored using [   ] brackets."
      ],
      "id": "17adf09d"
    },
    {
      "cell_type": "code",
      "metadata": {
        "id": "cce07c3b",
        "outputId": "f1cbd53e-c124-4612-f0fa-6c4436bd8f3c"
      },
      "source": [
        "l = [10,-10,1.21,-98.78,\"Darshan\",\"SkillEnable\",3+98j]\n",
        "print(l)\n",
        "print(type(l))"
      ],
      "id": "cce07c3b",
      "execution_count": null,
      "outputs": [
        {
          "name": "stdout",
          "output_type": "stream",
          "text": [
            "[10, -10, 1.21, -98.78, 'Darshan', 'SkillEnable', (3+98j)]\n",
            "<class 'list'>\n"
          ]
        }
      ]
    },
    {
      "cell_type": "code",
      "metadata": {
        "id": "5b43c401",
        "outputId": "a4386cd3-4e7d-4432-f384-c8ef26800470"
      },
      "source": [
        "l = [10,20,30,40,50]\n",
        "print(l)\n",
        "\n",
        "# Indexing\n",
        "print(l[0])\n",
        "print(l[3])\n",
        "# print(l[10]) # IndexError: list index out of range\n",
        "print(l[-1])\n",
        "print(l[-4])\n",
        "\n",
        "# Slicing\n",
        "print(l[1:3]) # SI = 1, EI = (3-1)\n",
        "print(l[1:4])"
      ],
      "id": "5b43c401",
      "execution_count": null,
      "outputs": [
        {
          "name": "stdout",
          "output_type": "stream",
          "text": [
            "[10, 20, 30, 40, 50]\n",
            "10\n",
            "40\n",
            "50\n",
            "20\n",
            "[20, 30]\n",
            "[20, 30, 40]\n"
          ]
        }
      ]
    },
    {
      "cell_type": "markdown",
      "metadata": {
        "id": "bc60f058"
      },
      "source": [
        "# Tuples\n",
        "\n",
        "It is a collection of items of dissimilar datatypes.\n",
        "\n",
        "It is stored using (   ) brackets.\n",
        "\n",
        "eg: Aadhar card, Passport Number, etc"
      ],
      "id": "bc60f058"
    },
    {
      "cell_type": "code",
      "metadata": {
        "id": "5eedb0d9",
        "outputId": "acd847d9-28e8-40b0-c8bd-d47e31e77445"
      },
      "source": [
        "l = (10,20,30,40,50)\n",
        "print(l)\n",
        "print(type(l))\n",
        "\n",
        "# Indexing\n",
        "print(l[0])\n",
        "print(l[3])\n",
        "# print(l[10]) # IndexError: list index out of range\n",
        "print(l[-1])\n",
        "print(l[-4])\n",
        "\n",
        "# Slicing\n",
        "print(l[1:3]) # SI = 1, EI = (3-1)\n",
        "print(l[1:4])"
      ],
      "id": "5eedb0d9",
      "execution_count": null,
      "outputs": [
        {
          "name": "stdout",
          "output_type": "stream",
          "text": [
            "(10, 20, 30, 40, 50)\n",
            "<class 'tuple'>\n",
            "10\n",
            "40\n",
            "50\n",
            "20\n",
            "(20, 30)\n",
            "(20, 30, 40)\n"
          ]
        }
      ]
    },
    {
      "cell_type": "code",
      "metadata": {
        "id": "e99c27e4",
        "outputId": "0f80262b-bb13-47a0-ef75-397154519db3"
      },
      "source": [
        "# Lists are Mutable i.e. Flexible\n",
        "\n",
        "l = [10,20,30,40,50]\n",
        "print(l)\n",
        "print(l[0])\n",
        "l[0] = \"Darshan\"\n",
        "print(l)"
      ],
      "id": "e99c27e4",
      "execution_count": null,
      "outputs": [
        {
          "name": "stdout",
          "output_type": "stream",
          "text": [
            "[10, 20, 30, 40, 50]\n",
            "10\n",
            "['Darshan', 20, 30, 40, 50]\n"
          ]
        }
      ]
    },
    {
      "cell_type": "code",
      "metadata": {
        "id": "dd54a3ba",
        "outputId": "712ff758-3e8d-4057-a58e-76836886cda1"
      },
      "source": [
        "# Tuples are Immutable i.e. Fixed\n",
        "\n",
        "l = (10,20,30,40,50)\n",
        "print(l)\n",
        "print(l[0])\n",
        "l[0] = \"Darshan\"\n",
        "print(l)"
      ],
      "id": "dd54a3ba",
      "execution_count": null,
      "outputs": [
        {
          "name": "stdout",
          "output_type": "stream",
          "text": [
            "(10, 20, 30, 40, 50)\n",
            "10\n"
          ]
        },
        {
          "ename": "TypeError",
          "evalue": "'tuple' object does not support item assignment",
          "output_type": "error",
          "traceback": [
            "\u001b[0;31m---------------------------------------------------------------------------\u001b[0m",
            "\u001b[0;31mTypeError\u001b[0m                                 Traceback (most recent call last)",
            "\u001b[0;32m<ipython-input-71-89f14e0068b5>\u001b[0m in \u001b[0;36m<module>\u001b[0;34m\u001b[0m\n\u001b[1;32m      4\u001b[0m \u001b[0mprint\u001b[0m\u001b[0;34m(\u001b[0m\u001b[0ml\u001b[0m\u001b[0;34m)\u001b[0m\u001b[0;34m\u001b[0m\u001b[0;34m\u001b[0m\u001b[0m\n\u001b[1;32m      5\u001b[0m \u001b[0mprint\u001b[0m\u001b[0;34m(\u001b[0m\u001b[0ml\u001b[0m\u001b[0;34m[\u001b[0m\u001b[0;36m0\u001b[0m\u001b[0;34m]\u001b[0m\u001b[0;34m)\u001b[0m\u001b[0;34m\u001b[0m\u001b[0;34m\u001b[0m\u001b[0m\n\u001b[0;32m----> 6\u001b[0;31m \u001b[0ml\u001b[0m\u001b[0;34m[\u001b[0m\u001b[0;36m0\u001b[0m\u001b[0;34m]\u001b[0m \u001b[0;34m=\u001b[0m \u001b[0;34m\"Darshan\"\u001b[0m\u001b[0;34m\u001b[0m\u001b[0;34m\u001b[0m\u001b[0m\n\u001b[0m\u001b[1;32m      7\u001b[0m \u001b[0mprint\u001b[0m\u001b[0;34m(\u001b[0m\u001b[0ml\u001b[0m\u001b[0;34m)\u001b[0m\u001b[0;34m\u001b[0m\u001b[0;34m\u001b[0m\u001b[0m\n",
            "\u001b[0;31mTypeError\u001b[0m: 'tuple' object does not support item assignment"
          ]
        }
      ]
    },
    {
      "cell_type": "markdown",
      "metadata": {
        "id": "8ff04bff"
      },
      "source": [
        "# Happy Learning"
      ],
      "id": "8ff04bff"
    }
  ]
}