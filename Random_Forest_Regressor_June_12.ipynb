{
  "nbformat": 4,
  "nbformat_minor": 0,
  "metadata": {
    "kernelspec": {
      "display_name": "Python 3",
      "language": "python",
      "name": "python3"
    },
    "language_info": {
      "codemirror_mode": {
        "name": "ipython",
        "version": 3
      },
      "file_extension": ".py",
      "mimetype": "text/x-python",
      "name": "python",
      "nbconvert_exporter": "python",
      "pygments_lexer": "ipython3",
      "version": "3.8.8"
    },
    "colab": {
      "name": "Random_Forest_Regressor_June_12.ipynb",
      "provenance": []
    }
  },
  "cells": [
    {
      "cell_type": "code",
      "metadata": {
        "id": "Ldd-8UnUkc7e"
      },
      "source": [
        "# Jovian Commit Essentials\n",
        "# Please retain and execute this cell without modifying the contents for `jovian.commit` to work\n",
        "!pip install jovian --upgrade -q\n",
        "import jovian\n",
        "jovian.set_project('random-forest-regressor-june-12-2aa15')\n",
        "jovian.set_colab_id('1GgsgHofuLs-85mB09g2Fdafu6_QJsPm6')"
      ],
      "execution_count": null,
      "outputs": []
    },
    {
      "cell_type": "code",
      "metadata": {
        "id": "ZELnbI5Vkc7k"
      },
      "source": [
        "import numpy as np\n",
        "import pandas as pd\n",
        "\n",
        "import warnings\n",
        "warnings.filterwarnings(\"ignore\")\n",
        "\n",
        "import matplotlib.pyplot as plt\n",
        "import seaborn as sns"
      ],
      "execution_count": null,
      "outputs": []
    },
    {
      "cell_type": "code",
      "metadata": {
        "id": "onmVhX8tkc7m"
      },
      "source": [
        "df = pd.read_csv(\"https://raw.githubusercontent.com/ingledarshan/BoardInfinity/main/Sales.csv\")"
      ],
      "execution_count": null,
      "outputs": []
    },
    {
      "cell_type": "code",
      "metadata": {
        "id": "wm6Jo7iPkc7n",
        "outputId": "642c71fb-d700-46de-8407-3312410abd43"
      },
      "source": [
        "df.shape"
      ],
      "execution_count": null,
      "outputs": [
        {
          "data": {
            "text/plain": [
              "(200, 5)"
            ]
          },
          "execution_count": 3,
          "metadata": {},
          "output_type": "execute_result"
        }
      ]
    },
    {
      "cell_type": "code",
      "metadata": {
        "id": "ZzIxx_E5kc7o",
        "outputId": "89822f2b-29c0-4783-be1b-f3577df0dd62"
      },
      "source": [
        "df.head()"
      ],
      "execution_count": null,
      "outputs": [
        {
          "data": {
            "text/html": [
              "<div>\n",
              "<style scoped>\n",
              "    .dataframe tbody tr th:only-of-type {\n",
              "        vertical-align: middle;\n",
              "    }\n",
              "\n",
              "    .dataframe tbody tr th {\n",
              "        vertical-align: top;\n",
              "    }\n",
              "\n",
              "    .dataframe thead th {\n",
              "        text-align: right;\n",
              "    }\n",
              "</style>\n",
              "<table border=\"1\" class=\"dataframe\">\n",
              "  <thead>\n",
              "    <tr style=\"text-align: right;\">\n",
              "      <th></th>\n",
              "      <th>Unnamed: 0</th>\n",
              "      <th>TV</th>\n",
              "      <th>radio</th>\n",
              "      <th>newspaper</th>\n",
              "      <th>sales</th>\n",
              "    </tr>\n",
              "  </thead>\n",
              "  <tbody>\n",
              "    <tr>\n",
              "      <th>0</th>\n",
              "      <td>1</td>\n",
              "      <td>230.1</td>\n",
              "      <td>37.8</td>\n",
              "      <td>69.2</td>\n",
              "      <td>22.1</td>\n",
              "    </tr>\n",
              "    <tr>\n",
              "      <th>1</th>\n",
              "      <td>2</td>\n",
              "      <td>44.5</td>\n",
              "      <td>39.3</td>\n",
              "      <td>45.1</td>\n",
              "      <td>10.4</td>\n",
              "    </tr>\n",
              "    <tr>\n",
              "      <th>2</th>\n",
              "      <td>3</td>\n",
              "      <td>17.2</td>\n",
              "      <td>45.9</td>\n",
              "      <td>69.3</td>\n",
              "      <td>9.3</td>\n",
              "    </tr>\n",
              "    <tr>\n",
              "      <th>3</th>\n",
              "      <td>4</td>\n",
              "      <td>151.5</td>\n",
              "      <td>41.3</td>\n",
              "      <td>58.5</td>\n",
              "      <td>18.5</td>\n",
              "    </tr>\n",
              "    <tr>\n",
              "      <th>4</th>\n",
              "      <td>5</td>\n",
              "      <td>180.8</td>\n",
              "      <td>10.8</td>\n",
              "      <td>58.4</td>\n",
              "      <td>12.9</td>\n",
              "    </tr>\n",
              "  </tbody>\n",
              "</table>\n",
              "</div>"
            ],
            "text/plain": [
              "   Unnamed: 0     TV  radio  newspaper  sales\n",
              "0           1  230.1   37.8       69.2   22.1\n",
              "1           2   44.5   39.3       45.1   10.4\n",
              "2           3   17.2   45.9       69.3    9.3\n",
              "3           4  151.5   41.3       58.5   18.5\n",
              "4           5  180.8   10.8       58.4   12.9"
            ]
          },
          "execution_count": 4,
          "metadata": {},
          "output_type": "execute_result"
        }
      ]
    },
    {
      "cell_type": "code",
      "metadata": {
        "id": "3V7s7d10kc7p"
      },
      "source": [
        "df.drop('Unnamed: 0',axis=1, inplace=True)"
      ],
      "execution_count": null,
      "outputs": []
    },
    {
      "cell_type": "code",
      "metadata": {
        "id": "S6I8hMWxkc7q",
        "outputId": "ba792f5b-d270-43b6-8ec9-b80b77baa1fd"
      },
      "source": [
        "df.head()"
      ],
      "execution_count": null,
      "outputs": [
        {
          "data": {
            "text/html": [
              "<div>\n",
              "<style scoped>\n",
              "    .dataframe tbody tr th:only-of-type {\n",
              "        vertical-align: middle;\n",
              "    }\n",
              "\n",
              "    .dataframe tbody tr th {\n",
              "        vertical-align: top;\n",
              "    }\n",
              "\n",
              "    .dataframe thead th {\n",
              "        text-align: right;\n",
              "    }\n",
              "</style>\n",
              "<table border=\"1\" class=\"dataframe\">\n",
              "  <thead>\n",
              "    <tr style=\"text-align: right;\">\n",
              "      <th></th>\n",
              "      <th>TV</th>\n",
              "      <th>radio</th>\n",
              "      <th>newspaper</th>\n",
              "      <th>sales</th>\n",
              "    </tr>\n",
              "  </thead>\n",
              "  <tbody>\n",
              "    <tr>\n",
              "      <th>0</th>\n",
              "      <td>230.1</td>\n",
              "      <td>37.8</td>\n",
              "      <td>69.2</td>\n",
              "      <td>22.1</td>\n",
              "    </tr>\n",
              "    <tr>\n",
              "      <th>1</th>\n",
              "      <td>44.5</td>\n",
              "      <td>39.3</td>\n",
              "      <td>45.1</td>\n",
              "      <td>10.4</td>\n",
              "    </tr>\n",
              "    <tr>\n",
              "      <th>2</th>\n",
              "      <td>17.2</td>\n",
              "      <td>45.9</td>\n",
              "      <td>69.3</td>\n",
              "      <td>9.3</td>\n",
              "    </tr>\n",
              "    <tr>\n",
              "      <th>3</th>\n",
              "      <td>151.5</td>\n",
              "      <td>41.3</td>\n",
              "      <td>58.5</td>\n",
              "      <td>18.5</td>\n",
              "    </tr>\n",
              "    <tr>\n",
              "      <th>4</th>\n",
              "      <td>180.8</td>\n",
              "      <td>10.8</td>\n",
              "      <td>58.4</td>\n",
              "      <td>12.9</td>\n",
              "    </tr>\n",
              "  </tbody>\n",
              "</table>\n",
              "</div>"
            ],
            "text/plain": [
              "      TV  radio  newspaper  sales\n",
              "0  230.1   37.8       69.2   22.1\n",
              "1   44.5   39.3       45.1   10.4\n",
              "2   17.2   45.9       69.3    9.3\n",
              "3  151.5   41.3       58.5   18.5\n",
              "4  180.8   10.8       58.4   12.9"
            ]
          },
          "execution_count": 6,
          "metadata": {},
          "output_type": "execute_result"
        }
      ]
    },
    {
      "cell_type": "code",
      "metadata": {
        "id": "8ULu8qkqkc7r",
        "outputId": "09fa25e1-6aba-41d3-b006-382c274906c0"
      },
      "source": [
        "df.info()"
      ],
      "execution_count": null,
      "outputs": [
        {
          "name": "stdout",
          "output_type": "stream",
          "text": [
            "<class 'pandas.core.frame.DataFrame'>\n",
            "RangeIndex: 200 entries, 0 to 199\n",
            "Data columns (total 4 columns):\n",
            " #   Column     Non-Null Count  Dtype  \n",
            "---  ------     --------------  -----  \n",
            " 0   TV         200 non-null    float64\n",
            " 1   radio      200 non-null    float64\n",
            " 2   newspaper  200 non-null    float64\n",
            " 3   sales      200 non-null    float64\n",
            "dtypes: float64(4)\n",
            "memory usage: 6.4 KB\n"
          ]
        }
      ]
    },
    {
      "cell_type": "markdown",
      "metadata": {
        "id": "eywSQJ76kc7s"
      },
      "source": [
        "## Lets check if Linear relationship exists between IV and TV"
      ]
    },
    {
      "cell_type": "code",
      "metadata": {
        "id": "izj6KBeJkc7v"
      },
      "source": [
        "sns.set_style(\"darkgrid\")"
      ],
      "execution_count": null,
      "outputs": []
    },
    {
      "cell_type": "code",
      "metadata": {
        "id": "STd1wWaSkc7w",
        "outputId": "2fd64325-e003-4b48-cf1c-0ada34b7d0a3"
      },
      "source": [
        "sns.jointplot('TV','sales', data=df, kind='reg');"
      ],
      "execution_count": null,
      "outputs": [
        {
          "data": {
            "image/png": "[encoded data removed]",
            "text/plain": [
              "<Figure size 432x432 with 3 Axes>"
            ]
          },
          "metadata": {},
          "output_type": "display_data"
        }
      ]
    },
    {
      "cell_type": "code",
      "metadata": {
        "id": "slQ7y4ockc7x",
        "outputId": "4d9805a7-9e1c-4811-d3bd-9191d964f4f3"
      },
      "source": [
        "sns.jointplot('radio','sales', data=df, kind='reg');"
      ],
      "execution_count": null,
      "outputs": [
        {
          "data": {
            "image/png": "[encoded data removed]",
            "text/plain": [
              "<Figure size 432x432 with 3 Axes>"
            ]
          },
          "metadata": {},
          "output_type": "display_data"
        }
      ]
    },
    {
      "cell_type": "code",
      "metadata": {
        "id": "1lShgndfkc7x",
        "outputId": "6533c0ce-30bc-437c-c60b-c837bc77d06c"
      },
      "source": [
        "sns.jointplot('newspaper','sales', data=df, kind='reg');"
      ],
      "execution_count": null,
      "outputs": [
        {
          "data": {
            "image/png": "[encoded data removed]",
            "text/plain": [
              "<Figure size 432x432 with 3 Axes>"
            ]
          },
          "metadata": {},
          "output_type": "display_data"
        }
      ]
    },
    {
      "cell_type": "code",
      "metadata": {
        "id": "B0tT5wc0kc7y",
        "outputId": "edc6813b-e829-4772-aa8d-e9a01794901a"
      },
      "source": [
        "sns.pairplot(df, size=2, aspect=1.5);"
      ],
      "execution_count": null,
      "outputs": [
        {
          "data": {
            "image/png": "[encoded data removed]",
            "text/plain": [
              "<Figure size 864x576 with 20 Axes>"
            ]
          },
          "metadata": {},
          "output_type": "display_data"
        }
      ]
    },
    {
      "cell_type": "raw",
      "metadata": {
        "id": "1drsWPJTkc7z"
      },
      "source": [
        "Newspaper doesnt have a linear relationship with Sales.\n",
        "This could be a problematic column."
      ]
    },
    {
      "cell_type": "code",
      "metadata": {
        "id": "NFdIkwf_kc7z",
        "outputId": "eafd1912-14cc-481e-e262-bf8e0a19d795"
      },
      "source": [
        "df.corr()"
      ],
      "execution_count": null,
      "outputs": [
        {
          "data": {
            "text/html": [
              "<div>\n",
              "<style scoped>\n",
              "    .dataframe tbody tr th:only-of-type {\n",
              "        vertical-align: middle;\n",
              "    }\n",
              "\n",
              "    .dataframe tbody tr th {\n",
              "        vertical-align: top;\n",
              "    }\n",
              "\n",
              "    .dataframe thead th {\n",
              "        text-align: right;\n",
              "    }\n",
              "</style>\n",
              "<table border=\"1\" class=\"dataframe\">\n",
              "  <thead>\n",
              "    <tr style=\"text-align: right;\">\n",
              "      <th></th>\n",
              "      <th>TV</th>\n",
              "      <th>radio</th>\n",
              "      <th>newspaper</th>\n",
              "      <th>sales</th>\n",
              "    </tr>\n",
              "  </thead>\n",
              "  <tbody>\n",
              "    <tr>\n",
              "      <th>TV</th>\n",
              "      <td>1.000000</td>\n",
              "      <td>0.054809</td>\n",
              "      <td>0.056648</td>\n",
              "      <td>0.782224</td>\n",
              "    </tr>\n",
              "    <tr>\n",
              "      <th>radio</th>\n",
              "      <td>0.054809</td>\n",
              "      <td>1.000000</td>\n",
              "      <td>0.354104</td>\n",
              "      <td>0.576223</td>\n",
              "    </tr>\n",
              "    <tr>\n",
              "      <th>newspaper</th>\n",
              "      <td>0.056648</td>\n",
              "      <td>0.354104</td>\n",
              "      <td>1.000000</td>\n",
              "      <td>0.228299</td>\n",
              "    </tr>\n",
              "    <tr>\n",
              "      <th>sales</th>\n",
              "      <td>0.782224</td>\n",
              "      <td>0.576223</td>\n",
              "      <td>0.228299</td>\n",
              "      <td>1.000000</td>\n",
              "    </tr>\n",
              "  </tbody>\n",
              "</table>\n",
              "</div>"
            ],
            "text/plain": [
              "                 TV     radio  newspaper     sales\n",
              "TV         1.000000  0.054809   0.056648  0.782224\n",
              "radio      0.054809  1.000000   0.354104  0.576223\n",
              "newspaper  0.056648  0.354104   1.000000  0.228299\n",
              "sales      0.782224  0.576223   0.228299  1.000000"
            ]
          },
          "execution_count": 13,
          "metadata": {},
          "output_type": "execute_result"
        }
      ]
    },
    {
      "cell_type": "code",
      "metadata": {
        "id": "_ccwJrDqkc70",
        "outputId": "0b461510-db3d-4e1e-f41f-ce228afc9dab"
      },
      "source": [
        "sns.heatmap(df.corr(), annot=True);"
      ],
      "execution_count": null,
      "outputs": [
        {
          "data": {
            "image/png": "[encoded data removed]",
            "text/plain": [
              "<Figure size 432x288 with 2 Axes>"
            ]
          },
          "metadata": {},
          "output_type": "display_data"
        }
      ]
    },
    {
      "cell_type": "raw",
      "metadata": {
        "id": "ohqRALYmkc71"
      },
      "source": [
        "We plot the correlation matrix and heatmap to identify Multicolinearity.\n",
        "\n",
        "Multicolinearity is when we have one IV highly correlated with 1/more IVs. If such an issue is observed, we must keep only one of the set of correlated variables. If we use all the variables having multicolinearity, the model obtained will be substandard.\n",
        "\n",
        "In our heatmap, we sont see the problem of Multicolinearity. So we are good to proceed.\n",
        "\n",
        "Also, there should be as high correlation as possible between IV and TV."
      ]
    },
    {
      "cell_type": "code",
      "metadata": {
        "id": "VQcXP8W6kc71",
        "outputId": "872bcf92-df5e-40ee-d813-6244dd54b82c"
      },
      "source": [
        "df.head()"
      ],
      "execution_count": null,
      "outputs": [
        {
          "data": {
            "text/html": [
              "<div>\n",
              "<style scoped>\n",
              "    .dataframe tbody tr th:only-of-type {\n",
              "        vertical-align: middle;\n",
              "    }\n",
              "\n",
              "    .dataframe tbody tr th {\n",
              "        vertical-align: top;\n",
              "    }\n",
              "\n",
              "    .dataframe thead th {\n",
              "        text-align: right;\n",
              "    }\n",
              "</style>\n",
              "<table border=\"1\" class=\"dataframe\">\n",
              "  <thead>\n",
              "    <tr style=\"text-align: right;\">\n",
              "      <th></th>\n",
              "      <th>TV</th>\n",
              "      <th>radio</th>\n",
              "      <th>newspaper</th>\n",
              "      <th>sales</th>\n",
              "    </tr>\n",
              "  </thead>\n",
              "  <tbody>\n",
              "    <tr>\n",
              "      <th>0</th>\n",
              "      <td>230.1</td>\n",
              "      <td>37.8</td>\n",
              "      <td>69.2</td>\n",
              "      <td>22.1</td>\n",
              "    </tr>\n",
              "    <tr>\n",
              "      <th>1</th>\n",
              "      <td>44.5</td>\n",
              "      <td>39.3</td>\n",
              "      <td>45.1</td>\n",
              "      <td>10.4</td>\n",
              "    </tr>\n",
              "    <tr>\n",
              "      <th>2</th>\n",
              "      <td>17.2</td>\n",
              "      <td>45.9</td>\n",
              "      <td>69.3</td>\n",
              "      <td>9.3</td>\n",
              "    </tr>\n",
              "    <tr>\n",
              "      <th>3</th>\n",
              "      <td>151.5</td>\n",
              "      <td>41.3</td>\n",
              "      <td>58.5</td>\n",
              "      <td>18.5</td>\n",
              "    </tr>\n",
              "    <tr>\n",
              "      <th>4</th>\n",
              "      <td>180.8</td>\n",
              "      <td>10.8</td>\n",
              "      <td>58.4</td>\n",
              "      <td>12.9</td>\n",
              "    </tr>\n",
              "  </tbody>\n",
              "</table>\n",
              "</div>"
            ],
            "text/plain": [
              "      TV  radio  newspaper  sales\n",
              "0  230.1   37.8       69.2   22.1\n",
              "1   44.5   39.3       45.1   10.4\n",
              "2   17.2   45.9       69.3    9.3\n",
              "3  151.5   41.3       58.5   18.5\n",
              "4  180.8   10.8       58.4   12.9"
            ]
          },
          "execution_count": 15,
          "metadata": {},
          "output_type": "execute_result"
        }
      ]
    },
    {
      "cell_type": "code",
      "metadata": {
        "id": "X4SW6jn5kc73",
        "outputId": "d61b1dbb-4444-4401-9e14-6cbd1d55f24f"
      },
      "source": [
        "df.describe()"
      ],
      "execution_count": null,
      "outputs": [
        {
          "data": {
            "text/html": [
              "<div>\n",
              "<style scoped>\n",
              "    .dataframe tbody tr th:only-of-type {\n",
              "        vertical-align: middle;\n",
              "    }\n",
              "\n",
              "    .dataframe tbody tr th {\n",
              "        vertical-align: top;\n",
              "    }\n",
              "\n",
              "    .dataframe thead th {\n",
              "        text-align: right;\n",
              "    }\n",
              "</style>\n",
              "<table border=\"1\" class=\"dataframe\">\n",
              "  <thead>\n",
              "    <tr style=\"text-align: right;\">\n",
              "      <th></th>\n",
              "      <th>TV</th>\n",
              "      <th>radio</th>\n",
              "      <th>newspaper</th>\n",
              "      <th>sales</th>\n",
              "    </tr>\n",
              "  </thead>\n",
              "  <tbody>\n",
              "    <tr>\n",
              "      <th>count</th>\n",
              "      <td>200.000000</td>\n",
              "      <td>200.000000</td>\n",
              "      <td>200.000000</td>\n",
              "      <td>200.000000</td>\n",
              "    </tr>\n",
              "    <tr>\n",
              "      <th>mean</th>\n",
              "      <td>147.042500</td>\n",
              "      <td>23.264000</td>\n",
              "      <td>30.554000</td>\n",
              "      <td>14.022500</td>\n",
              "    </tr>\n",
              "    <tr>\n",
              "      <th>std</th>\n",
              "      <td>85.854236</td>\n",
              "      <td>14.846809</td>\n",
              "      <td>21.778621</td>\n",
              "      <td>5.217457</td>\n",
              "    </tr>\n",
              "    <tr>\n",
              "      <th>min</th>\n",
              "      <td>0.700000</td>\n",
              "      <td>0.000000</td>\n",
              "      <td>0.300000</td>\n",
              "      <td>1.600000</td>\n",
              "    </tr>\n",
              "    <tr>\n",
              "      <th>25%</th>\n",
              "      <td>74.375000</td>\n",
              "      <td>9.975000</td>\n",
              "      <td>12.750000</td>\n",
              "      <td>10.375000</td>\n",
              "    </tr>\n",
              "    <tr>\n",
              "      <th>50%</th>\n",
              "      <td>149.750000</td>\n",
              "      <td>22.900000</td>\n",
              "      <td>25.750000</td>\n",
              "      <td>12.900000</td>\n",
              "    </tr>\n",
              "    <tr>\n",
              "      <th>75%</th>\n",
              "      <td>218.825000</td>\n",
              "      <td>36.525000</td>\n",
              "      <td>45.100000</td>\n",
              "      <td>17.400000</td>\n",
              "    </tr>\n",
              "    <tr>\n",
              "      <th>max</th>\n",
              "      <td>296.400000</td>\n",
              "      <td>49.600000</td>\n",
              "      <td>114.000000</td>\n",
              "      <td>27.000000</td>\n",
              "    </tr>\n",
              "  </tbody>\n",
              "</table>\n",
              "</div>"
            ],
            "text/plain": [
              "               TV       radio   newspaper       sales\n",
              "count  200.000000  200.000000  200.000000  200.000000\n",
              "mean   147.042500   23.264000   30.554000   14.022500\n",
              "std     85.854236   14.846809   21.778621    5.217457\n",
              "min      0.700000    0.000000    0.300000    1.600000\n",
              "25%     74.375000    9.975000   12.750000   10.375000\n",
              "50%    149.750000   22.900000   25.750000   12.900000\n",
              "75%    218.825000   36.525000   45.100000   17.400000\n",
              "max    296.400000   49.600000  114.000000   27.000000"
            ]
          },
          "execution_count": 16,
          "metadata": {},
          "output_type": "execute_result"
        }
      ]
    },
    {
      "cell_type": "code",
      "metadata": {
        "scrolled": true,
        "id": "LGBpLJwOkc74",
        "outputId": "e9af0fb9-7b7b-429c-9075-e5c84e5285ca"
      },
      "source": [
        "df.head()"
      ],
      "execution_count": null,
      "outputs": [
        {
          "data": {
            "text/html": [
              "<div>\n",
              "<style scoped>\n",
              "    .dataframe tbody tr th:only-of-type {\n",
              "        vertical-align: middle;\n",
              "    }\n",
              "\n",
              "    .dataframe tbody tr th {\n",
              "        vertical-align: top;\n",
              "    }\n",
              "\n",
              "    .dataframe thead th {\n",
              "        text-align: right;\n",
              "    }\n",
              "</style>\n",
              "<table border=\"1\" class=\"dataframe\">\n",
              "  <thead>\n",
              "    <tr style=\"text-align: right;\">\n",
              "      <th></th>\n",
              "      <th>TV</th>\n",
              "      <th>radio</th>\n",
              "      <th>newspaper</th>\n",
              "      <th>sales</th>\n",
              "    </tr>\n",
              "  </thead>\n",
              "  <tbody>\n",
              "    <tr>\n",
              "      <th>0</th>\n",
              "      <td>230.1</td>\n",
              "      <td>37.8</td>\n",
              "      <td>69.2</td>\n",
              "      <td>22.1</td>\n",
              "    </tr>\n",
              "    <tr>\n",
              "      <th>1</th>\n",
              "      <td>44.5</td>\n",
              "      <td>39.3</td>\n",
              "      <td>45.1</td>\n",
              "      <td>10.4</td>\n",
              "    </tr>\n",
              "    <tr>\n",
              "      <th>2</th>\n",
              "      <td>17.2</td>\n",
              "      <td>45.9</td>\n",
              "      <td>69.3</td>\n",
              "      <td>9.3</td>\n",
              "    </tr>\n",
              "    <tr>\n",
              "      <th>3</th>\n",
              "      <td>151.5</td>\n",
              "      <td>41.3</td>\n",
              "      <td>58.5</td>\n",
              "      <td>18.5</td>\n",
              "    </tr>\n",
              "    <tr>\n",
              "      <th>4</th>\n",
              "      <td>180.8</td>\n",
              "      <td>10.8</td>\n",
              "      <td>58.4</td>\n",
              "      <td>12.9</td>\n",
              "    </tr>\n",
              "  </tbody>\n",
              "</table>\n",
              "</div>"
            ],
            "text/plain": [
              "      TV  radio  newspaper  sales\n",
              "0  230.1   37.8       69.2   22.1\n",
              "1   44.5   39.3       45.1   10.4\n",
              "2   17.2   45.9       69.3    9.3\n",
              "3  151.5   41.3       58.5   18.5\n",
              "4  180.8   10.8       58.4   12.9"
            ]
          },
          "execution_count": 17,
          "metadata": {},
          "output_type": "execute_result"
        }
      ]
    },
    {
      "cell_type": "code",
      "metadata": {
        "id": "i1I8dDC_kc75"
      },
      "source": [
        "X = df.iloc[ : , :-1 ]\n",
        "y = df.iloc[ : , -1 ]"
      ],
      "execution_count": null,
      "outputs": []
    },
    {
      "cell_type": "code",
      "metadata": {
        "id": "UUze08Nckc75"
      },
      "source": [
        "from sklearn.model_selection import train_test_split\n",
        "X_train, X_test, y_train, y_test = train_test_split(X, y, test_size=0.2, random_state=0)"
      ],
      "execution_count": null,
      "outputs": []
    },
    {
      "cell_type": "code",
      "metadata": {
        "id": "lyC1nkPkkc76",
        "outputId": "3d6419cf-d085-4424-db31-99996b91770d"
      },
      "source": [
        "X_train.head()"
      ],
      "execution_count": null,
      "outputs": [
        {
          "data": {
            "text/html": [
              "<div>\n",
              "<style scoped>\n",
              "    .dataframe tbody tr th:only-of-type {\n",
              "        vertical-align: middle;\n",
              "    }\n",
              "\n",
              "    .dataframe tbody tr th {\n",
              "        vertical-align: top;\n",
              "    }\n",
              "\n",
              "    .dataframe thead th {\n",
              "        text-align: right;\n",
              "    }\n",
              "</style>\n",
              "<table border=\"1\" class=\"dataframe\">\n",
              "  <thead>\n",
              "    <tr style=\"text-align: right;\">\n",
              "      <th></th>\n",
              "      <th>TV</th>\n",
              "      <th>radio</th>\n",
              "      <th>newspaper</th>\n",
              "    </tr>\n",
              "  </thead>\n",
              "  <tbody>\n",
              "    <tr>\n",
              "      <th>134</th>\n",
              "      <td>36.9</td>\n",
              "      <td>38.6</td>\n",
              "      <td>65.6</td>\n",
              "    </tr>\n",
              "    <tr>\n",
              "      <th>66</th>\n",
              "      <td>31.5</td>\n",
              "      <td>24.6</td>\n",
              "      <td>2.2</td>\n",
              "    </tr>\n",
              "    <tr>\n",
              "      <th>26</th>\n",
              "      <td>142.9</td>\n",
              "      <td>29.3</td>\n",
              "      <td>12.6</td>\n",
              "    </tr>\n",
              "    <tr>\n",
              "      <th>113</th>\n",
              "      <td>209.6</td>\n",
              "      <td>20.6</td>\n",
              "      <td>10.7</td>\n",
              "    </tr>\n",
              "    <tr>\n",
              "      <th>168</th>\n",
              "      <td>215.4</td>\n",
              "      <td>23.6</td>\n",
              "      <td>57.6</td>\n",
              "    </tr>\n",
              "  </tbody>\n",
              "</table>\n",
              "</div>"
            ],
            "text/plain": [
              "        TV  radio  newspaper\n",
              "134   36.9   38.6       65.6\n",
              "66    31.5   24.6        2.2\n",
              "26   142.9   29.3       12.6\n",
              "113  209.6   20.6       10.7\n",
              "168  215.4   23.6       57.6"
            ]
          },
          "execution_count": 20,
          "metadata": {},
          "output_type": "execute_result"
        }
      ]
    },
    {
      "cell_type": "code",
      "metadata": {
        "id": "ru6m_sNpkc76",
        "outputId": "4e2a32c4-b7dd-498e-8f67-01c9ac7c5ab4"
      },
      "source": [
        "X_test.head()"
      ],
      "execution_count": null,
      "outputs": [
        {
          "data": {
            "text/html": [
              "<div>\n",
              "<style scoped>\n",
              "    .dataframe tbody tr th:only-of-type {\n",
              "        vertical-align: middle;\n",
              "    }\n",
              "\n",
              "    .dataframe tbody tr th {\n",
              "        vertical-align: top;\n",
              "    }\n",
              "\n",
              "    .dataframe thead th {\n",
              "        text-align: right;\n",
              "    }\n",
              "</style>\n",
              "<table border=\"1\" class=\"dataframe\">\n",
              "  <thead>\n",
              "    <tr style=\"text-align: right;\">\n",
              "      <th></th>\n",
              "      <th>TV</th>\n",
              "      <th>radio</th>\n",
              "      <th>newspaper</th>\n",
              "    </tr>\n",
              "  </thead>\n",
              "  <tbody>\n",
              "    <tr>\n",
              "      <th>18</th>\n",
              "      <td>69.2</td>\n",
              "      <td>20.5</td>\n",
              "      <td>18.3</td>\n",
              "    </tr>\n",
              "    <tr>\n",
              "      <th>170</th>\n",
              "      <td>50.0</td>\n",
              "      <td>11.6</td>\n",
              "      <td>18.4</td>\n",
              "    </tr>\n",
              "    <tr>\n",
              "      <th>107</th>\n",
              "      <td>90.4</td>\n",
              "      <td>0.3</td>\n",
              "      <td>23.2</td>\n",
              "    </tr>\n",
              "    <tr>\n",
              "      <th>98</th>\n",
              "      <td>289.7</td>\n",
              "      <td>42.3</td>\n",
              "      <td>51.2</td>\n",
              "    </tr>\n",
              "    <tr>\n",
              "      <th>177</th>\n",
              "      <td>170.2</td>\n",
              "      <td>7.8</td>\n",
              "      <td>35.2</td>\n",
              "    </tr>\n",
              "  </tbody>\n",
              "</table>\n",
              "</div>"
            ],
            "text/plain": [
              "        TV  radio  newspaper\n",
              "18    69.2   20.5       18.3\n",
              "170   50.0   11.6       18.4\n",
              "107   90.4    0.3       23.2\n",
              "98   289.7   42.3       51.2\n",
              "177  170.2    7.8       35.2"
            ]
          },
          "execution_count": 21,
          "metadata": {},
          "output_type": "execute_result"
        }
      ]
    },
    {
      "cell_type": "code",
      "metadata": {
        "id": "d_Z_Tz6rkc76"
      },
      "source": [
        "from sklearn.preprocessing import StandardScaler\n",
        "\n",
        "ss = StandardScaler()\n",
        "\n",
        "# ss.fit(X_train)\n",
        "# ss.transform(X_train)\n",
        "\n",
        "X_train = ss.fit_transform(X_train)\n",
        "\n",
        "X_test = ss.transform(X_test)"
      ],
      "execution_count": null,
      "outputs": []
    },
    {
      "cell_type": "code",
      "metadata": {
        "id": "jwAfsilgkc77",
        "outputId": "911f5221-4579-490d-8f76-3f1badc67925"
      },
      "source": [
        "type(X_train)"
      ],
      "execution_count": null,
      "outputs": [
        {
          "data": {
            "text/plain": [
              "numpy.ndarray"
            ]
          },
          "execution_count": 23,
          "metadata": {},
          "output_type": "execute_result"
        }
      ]
    },
    {
      "cell_type": "code",
      "metadata": {
        "id": "BfrPLWUCkc77",
        "outputId": "0ec4b612-99bd-4468-e0da-206037883fc8"
      },
      "source": [
        "X_train"
      ],
      "execution_count": null,
      "outputs": [
        {
          "data": {
            "text/plain": [
              "array([[-1.34155345,  1.0355176 ,  1.65941078],\n",
              "       [-1.4053143 ,  0.08249594, -1.30629738],\n",
              "       [-0.08995151,  0.40243892, -0.81980897],\n",
              "       [ 0.69761311, -0.18979597, -0.90868666],\n",
              "       [ 0.76609699,  0.01442296,  1.28518893],\n",
              "       [-0.56461564,  0.42286082, -1.01627544],\n",
              "       [-1.67570755, -1.44914602, -1.36243065],\n",
              "       [-1.57770476,  1.38268978,  2.77272078],\n",
              "       [-0.29304164,  0.91979354,  2.29558792],\n",
              "       [-0.54218127, -1.20408331,  0.19994556],\n",
              "       [-0.48078193, -0.61865571,  0.07364569],\n",
              "       [ 0.93258366,  0.60665785,  2.06169926],\n",
              "       [ 1.2195075 , -0.14214488, -0.00587645],\n",
              "       [ 0.40596624, -0.16256678, -0.3800983 ],\n",
              "       [-1.24945444,  0.16418351, -0.44558712],\n",
              "       [-1.04164129, -0.73437977, -0.55317591],\n",
              "       [ 1.68118331,  0.33436595,  0.6115896 ],\n",
              "       [ 0.25955243, -0.35997841,  0.02686796],\n",
              "       [ 0.61377939, -0.07407191,  0.06896792],\n",
              "       [-1.69105739,  0.32075135,  0.52738968],\n",
              "       [ 1.35411375, -1.39468764,  0.60223405],\n",
              "       [ 0.55592232, -1.35384385, -1.13321977],\n",
              "       [ 0.80270044, -1.2245052 , -0.12749855],\n",
              "       [-0.03799822,  0.03484485, -0.51575372],\n",
              "       [ 0.24538335,  1.11039787,  0.35431208],\n",
              "       [ 0.79325439,  0.68834542,  1.35067775],\n",
              "       [ 1.32459483,  0.36840244, -0.66544246],\n",
              "       [ 0.15328434,  0.91298624, -1.06305318],\n",
              "       [-0.59177304, -0.9385987 , -1.24080855],\n",
              "       [-0.87633537,  0.27990757, -0.66076469],\n",
              "       [ 0.40596624,  1.39630437, -1.32968624],\n",
              "       [-0.19149657, -1.25854169, -0.97417549],\n",
              "       [ 1.45447805,  0.37520973,  1.38342216],\n",
              "       [ 1.72250979,  0.87894975,  3.31066468],\n",
              "       [-0.64136482, -0.58461923,  0.41044535],\n",
              "       [-0.48078193,  1.66178898,  0.99516699],\n",
              "       [ 1.23839961,  0.23906378, -1.15193086],\n",
              "       [ 0.6326715 ,  0.64750164,  0.74256725],\n",
              "       [ 1.05774385, -0.45528057, -0.33799834],\n",
              "       [ 0.50987282,  0.81768408,  2.12718809],\n",
              "       [ 0.47917315,  0.36159514, -0.55785368],\n",
              "       [-0.71811399, -0.91817681,  0.26075661],\n",
              "       [-1.2695273 ,  0.17099081, -0.4502649 ],\n",
              "       [-1.32620361, -1.34022926, -0.7636757 ],\n",
              "       [-1.62257351, -1.56487008, -0.21169847],\n",
              "       [ 1.0482978 , -0.53696814, -0.13217633],\n",
              "       [-1.57416249,  1.53245032,  1.83248838],\n",
              "       [ 0.71060143,  0.41605352, -0.97417549],\n",
              "       [-1.47497894,  1.06274679, -0.97417549],\n",
              "       [ 0.31268647, -0.95902059, -1.10983091],\n",
              "       [ 0.66573268, -1.02028627, -0.17427628],\n",
              "       [-0.99677254, -1.19727601, -0.27718729],\n",
              "       [-0.00966006,  0.83129867, -1.128542  ],\n",
              "       [-0.24935364, -1.20408331,  0.0549346 ],\n",
              "       [-0.66497995, -1.25854169, -1.03030876],\n",
              "       [ 1.48990075, -1.43553142, -0.30057616],\n",
              "       [ 1.49226226,  1.73666925,  0.54610077],\n",
              "       [-1.68515361,  1.05593949,  0.95774481],\n",
              "       [ 1.18526556,  0.89256435,  1.97282157],\n",
              "       [ 0.29733664, -0.54377544, -1.29694183],\n",
              "       [-1.6391041 ,  0.91979354,  0.70514506],\n",
              "       [-0.88578142, -0.85691113, -1.128542  ],\n",
              "       [ 0.58189897, -1.38107304,  0.20930111],\n",
              "       [ 0.9396682 ,  0.98105922,  1.82781061],\n",
              "       [-0.50912008, -0.63907761, -0.89933112],\n",
              "       [ 0.88889567, -1.03390087,  1.23373342],\n",
              "       [ 0.15092283,  0.55900677,  1.06533359],\n",
              "       [-0.22928078,  1.3214241 , -0.05733196],\n",
              "       [ 0.66455192, -1.23811979, -0.5017204 ],\n",
              "       [ 0.31268647,  0.68153812,  0.40108981],\n",
              "       [ 0.78262758,  1.39630437, -0.1368541 ],\n",
              "       [-0.98732649, -0.79564545,  0.31221212],\n",
              "       [ 0.90542626, -0.51654625,  0.9250004 ],\n",
              "       [ 0.50396903, -0.33955651,  1.66408855],\n",
              "       [-0.62601498, -1.07474465, -1.07240872],\n",
              "       [-0.76534425,  0.84491327,  0.89693376],\n",
              "       [ 0.91841458, -0.44166598, -0.18363183],\n",
              "       [-0.13009723, -1.44914602, -0.16492074],\n",
              "       [-1.2069472 ,  1.6073306 , -1.01159767],\n",
              "       [ 0.80151968,  0.29352216,  1.08872246],\n",
              "       [ 0.52994568,  1.65498168,  1.06533359],\n",
              "       [-1.71349176,  0.44328271, -0.96949771],\n",
              "       [ 1.03530948,  0.7428038 , -1.16128641],\n",
              "       [ 0.77790455,  1.24654382,  0.44318977],\n",
              "       [ 0.84874995, -1.29938547,  0.92032262],\n",
              "       [-1.45254457, -1.48318251, -0.44090935],\n",
              "       [ 0.01159355,  1.21931463,  1.32728888],\n",
              "       [-0.1336395 , -0.61865571, -0.21169847],\n",
              "       [-0.39340594, -0.59142652, -1.15660864],\n",
              "       [ 1.57137295,  1.26696572,  1.68747741],\n",
              "       [-1.0983176 ,  0.64069434, -0.3099317 ],\n",
              "       [ 1.02586343,  0.27990757, -0.89465334],\n",
              "       [ 0.74366261,  1.33503869,  0.17187893],\n",
              "       [-1.55527039, -0.11491569,  0.94838926],\n",
              "       [-1.7288416 , -0.80245275, -1.14257532],\n",
              "       [ 0.1650919 , -0.16937407,  0.80805607],\n",
              "       [-0.66852222,  1.36907518,  0.95306704],\n",
              "       [-1.43955624, -1.4899898 ,  0.13445674],\n",
              "       [ 0.96328333, -1.00667168, -1.00224213],\n",
              "       [ 0.75783169,  0.04165215, -1.22209746],\n",
              "       [-1.54818585, -0.50293165, -0.36606498],\n",
              "       [ 1.53122723, -0.90456221, -0.40816494],\n",
              "       [ 1.65520667, -1.31300007, -1.01159767],\n",
              "       [-0.1690622 , -0.28509813, -0.63269805],\n",
              "       [-0.9625306 , -0.95902059, -1.36710843],\n",
              "       [-1.25181595,  1.08316868,  0.70046729],\n",
              "       [-0.10884361,  0.23225648,  0.75192279],\n",
              "       [ 0.44729272, -0.35997841, -0.21169847],\n",
              "       [ 1.68944861,  0.29352216, -1.32500847],\n",
              "       [-0.14898934,  1.56648681,  1.35067775],\n",
              "       [-1.67806907,  0.25948567, -1.31097515],\n",
              "       [ 0.21114141, -1.10878114, -0.81045343],\n",
              "       [ 1.54539631,  1.10359057,  1.20098901],\n",
              "       [-1.26834654,  0.22544919,  0.23268998],\n",
              "       [ 0.81805028,  0.68834542,  0.70046729],\n",
              "       [ 0.37880884,  1.55287221,  1.33664443],\n",
              "       [-0.00847931, -1.5036044 , -0.27250952],\n",
              "       [ 0.82395406,  1.74347655, -1.25951965],\n",
              "       [-0.6472686 , -1.4967971 , -1.06305318],\n",
              "       [ 1.16046967,  0.25267838, -0.33799834],\n",
              "       [-0.853901  ,  1.593716  ,  0.20462334],\n",
              "       [-0.34853719, -1.02028627,  0.86886712],\n",
              "       [-0.44417847, -0.40762949,  0.39641204],\n",
              "       [-1.56589719,  0.96744462, -0.39880939],\n",
              "       [-0.83028586, -1.59209927, -0.97885326],\n",
              "       [ 1.15574665,  0.4637046 , -0.45962044],\n",
              "       [-0.62955725, -1.4899898 , -0.00587645],\n",
              "       [ 0.82631557,  0.66792353,  0.36366762],\n",
              "       [ 1.57963825, -0.87052572, -1.10983091],\n",
              "       [ 1.09434731,  1.74347655,  0.6630451 ],\n",
              "       [-0.94363849, -0.50293165,  0.49932304],\n",
              "       [-0.18086976,  1.24654382,  0.73788947],\n",
              "       [-0.88814294, -0.21021786,  0.11106788],\n",
              "       [-0.40757502, -1.06793735, -0.3286428 ],\n",
              "       [-0.89050445,  0.79045489,  1.05597804],\n",
              "       [-1.32856513,  1.15124166, -0.85255339],\n",
              "       [ 0.19224931,  1.26696572, -1.24080855],\n",
              "       [-1.46080986,  0.65430893, -0.50639818],\n",
              "       [-0.35444098,  0.34798054, -0.7449646 ],\n",
              "       [ 1.32695635, -1.35384385, -0.49704263],\n",
              "       [ 0.99162149, -1.36065115,  2.55754321],\n",
              "       [ 1.05420158, -1.31300007,  0.31688989],\n",
              "       [ 1.59971111, -0.6458849 , -1.23613078],\n",
              "       [ 0.84874995, -1.36065115, -0.79642011],\n",
              "       [-1.31085378,  1.20570004, -1.13789755],\n",
              "       [ 0.91487231,  0.97425192,  0.08767901],\n",
              "       [ 0.71178219,  1.78432033,  0.35431208],\n",
              "       [-0.91057731, -0.43485868, -0.80577565],\n",
              "       [-0.73464458,  0.14376162,  2.02427708],\n",
              "       [ 0.57363367,  0.49093379,  0.40108981],\n",
              "       [-0.47015512,  1.17166355,  1.54714422],\n",
              "       [ 1.37418661,  1.38949707, -1.17531973],\n",
              "       [ 1.02586343, -1.24492709, -0.3099317 ],\n",
              "       [ 0.58189897, -1.41510953, -0.41752049],\n",
              "       [ 0.44138894, -0.42124408, -0.571887  ],\n",
              "       [-0.13245875, -0.60504112, -0.93207553],\n",
              "       [-1.57416249, -1.31300007,  0.06896792],\n",
              "       [-0.87515461, -1.53764089, -0.71689797],\n",
              "       [ 1.05538234,  1.23292923, -0.54382036],\n",
              "       [-1.54582433, -0.22383245, -0.61398696]])"
            ]
          },
          "execution_count": 24,
          "metadata": {},
          "output_type": "execute_result"
        }
      ]
    },
    {
      "cell_type": "code",
      "metadata": {
        "id": "4fh2Ymkqkc78"
      },
      "source": [
        "X_train = pd.DataFrame(X_train)\n",
        "X_test = pd.DataFrame(X_test)"
      ],
      "execution_count": null,
      "outputs": []
    },
    {
      "cell_type": "code",
      "metadata": {
        "id": "WKtKxKgFkc78",
        "outputId": "fc42b5e6-48d3-4999-f1f7-f9913e62e384"
      },
      "source": [
        "X_train.head()"
      ],
      "execution_count": null,
      "outputs": [
        {
          "data": {
            "text/html": [
              "<div>\n",
              "<style scoped>\n",
              "    .dataframe tbody tr th:only-of-type {\n",
              "        vertical-align: middle;\n",
              "    }\n",
              "\n",
              "    .dataframe tbody tr th {\n",
              "        vertical-align: top;\n",
              "    }\n",
              "\n",
              "    .dataframe thead th {\n",
              "        text-align: right;\n",
              "    }\n",
              "</style>\n",
              "<table border=\"1\" class=\"dataframe\">\n",
              "  <thead>\n",
              "    <tr style=\"text-align: right;\">\n",
              "      <th></th>\n",
              "      <th>0</th>\n",
              "      <th>1</th>\n",
              "      <th>2</th>\n",
              "    </tr>\n",
              "  </thead>\n",
              "  <tbody>\n",
              "    <tr>\n",
              "      <th>0</th>\n",
              "      <td>-1.341553</td>\n",
              "      <td>1.035518</td>\n",
              "      <td>1.659411</td>\n",
              "    </tr>\n",
              "    <tr>\n",
              "      <th>1</th>\n",
              "      <td>-1.405314</td>\n",
              "      <td>0.082496</td>\n",
              "      <td>-1.306297</td>\n",
              "    </tr>\n",
              "    <tr>\n",
              "      <th>2</th>\n",
              "      <td>-0.089952</td>\n",
              "      <td>0.402439</td>\n",
              "      <td>-0.819809</td>\n",
              "    </tr>\n",
              "    <tr>\n",
              "      <th>3</th>\n",
              "      <td>0.697613</td>\n",
              "      <td>-0.189796</td>\n",
              "      <td>-0.908687</td>\n",
              "    </tr>\n",
              "    <tr>\n",
              "      <th>4</th>\n",
              "      <td>0.766097</td>\n",
              "      <td>0.014423</td>\n",
              "      <td>1.285189</td>\n",
              "    </tr>\n",
              "  </tbody>\n",
              "</table>\n",
              "</div>"
            ],
            "text/plain": [
              "          0         1         2\n",
              "0 -1.341553  1.035518  1.659411\n",
              "1 -1.405314  0.082496 -1.306297\n",
              "2 -0.089952  0.402439 -0.819809\n",
              "3  0.697613 -0.189796 -0.908687\n",
              "4  0.766097  0.014423  1.285189"
            ]
          },
          "execution_count": 26,
          "metadata": {},
          "output_type": "execute_result"
        }
      ]
    },
    {
      "cell_type": "code",
      "metadata": {
        "id": "9Dpc5kgMkc78",
        "outputId": "2d85c7b8-2491-4a8e-ef55-748252b31aae"
      },
      "source": [
        "df.columns"
      ],
      "execution_count": null,
      "outputs": [
        {
          "data": {
            "text/plain": [
              "Index(['TV', 'radio', 'newspaper', 'sales'], dtype='object')"
            ]
          },
          "execution_count": 27,
          "metadata": {},
          "output_type": "execute_result"
        }
      ]
    },
    {
      "cell_type": "code",
      "metadata": {
        "id": "bW0Y9ulhkc79"
      },
      "source": [
        "X_train.columns = ['TV', 'radio', 'newspaper']\n",
        "X_test.columns = ['TV', 'radio', 'newspaper']"
      ],
      "execution_count": null,
      "outputs": []
    },
    {
      "cell_type": "code",
      "metadata": {
        "id": "j-3gXKjZkc79",
        "outputId": "32d80c8f-6815-4ea0-854e-6738d2ed4f09"
      },
      "source": [
        "X_train.head()"
      ],
      "execution_count": null,
      "outputs": [
        {
          "data": {
            "text/html": [
              "<div>\n",
              "<style scoped>\n",
              "    .dataframe tbody tr th:only-of-type {\n",
              "        vertical-align: middle;\n",
              "    }\n",
              "\n",
              "    .dataframe tbody tr th {\n",
              "        vertical-align: top;\n",
              "    }\n",
              "\n",
              "    .dataframe thead th {\n",
              "        text-align: right;\n",
              "    }\n",
              "</style>\n",
              "<table border=\"1\" class=\"dataframe\">\n",
              "  <thead>\n",
              "    <tr style=\"text-align: right;\">\n",
              "      <th></th>\n",
              "      <th>TV</th>\n",
              "      <th>radio</th>\n",
              "      <th>newspaper</th>\n",
              "    </tr>\n",
              "  </thead>\n",
              "  <tbody>\n",
              "    <tr>\n",
              "      <th>0</th>\n",
              "      <td>-1.341553</td>\n",
              "      <td>1.035518</td>\n",
              "      <td>1.659411</td>\n",
              "    </tr>\n",
              "    <tr>\n",
              "      <th>1</th>\n",
              "      <td>-1.405314</td>\n",
              "      <td>0.082496</td>\n",
              "      <td>-1.306297</td>\n",
              "    </tr>\n",
              "    <tr>\n",
              "      <th>2</th>\n",
              "      <td>-0.089952</td>\n",
              "      <td>0.402439</td>\n",
              "      <td>-0.819809</td>\n",
              "    </tr>\n",
              "    <tr>\n",
              "      <th>3</th>\n",
              "      <td>0.697613</td>\n",
              "      <td>-0.189796</td>\n",
              "      <td>-0.908687</td>\n",
              "    </tr>\n",
              "    <tr>\n",
              "      <th>4</th>\n",
              "      <td>0.766097</td>\n",
              "      <td>0.014423</td>\n",
              "      <td>1.285189</td>\n",
              "    </tr>\n",
              "  </tbody>\n",
              "</table>\n",
              "</div>"
            ],
            "text/plain": [
              "         TV     radio  newspaper\n",
              "0 -1.341553  1.035518   1.659411\n",
              "1 -1.405314  0.082496  -1.306297\n",
              "2 -0.089952  0.402439  -0.819809\n",
              "3  0.697613 -0.189796  -0.908687\n",
              "4  0.766097  0.014423   1.285189"
            ]
          },
          "execution_count": 29,
          "metadata": {},
          "output_type": "execute_result"
        }
      ]
    },
    {
      "cell_type": "code",
      "metadata": {
        "id": "zfZwRqDBkc79",
        "outputId": "4885e477-1904-404b-ef3e-0eda1350b9ae"
      },
      "source": [
        "X_test.head()"
      ],
      "execution_count": null,
      "outputs": [
        {
          "data": {
            "text/html": [
              "<div>\n",
              "<style scoped>\n",
              "    .dataframe tbody tr th:only-of-type {\n",
              "        vertical-align: middle;\n",
              "    }\n",
              "\n",
              "    .dataframe tbody tr th {\n",
              "        vertical-align: top;\n",
              "    }\n",
              "\n",
              "    .dataframe thead th {\n",
              "        text-align: right;\n",
              "    }\n",
              "</style>\n",
              "<table border=\"1\" class=\"dataframe\">\n",
              "  <thead>\n",
              "    <tr style=\"text-align: right;\">\n",
              "      <th></th>\n",
              "      <th>TV</th>\n",
              "      <th>radio</th>\n",
              "      <th>newspaper</th>\n",
              "    </tr>\n",
              "  </thead>\n",
              "  <tbody>\n",
              "    <tr>\n",
              "      <th>0</th>\n",
              "      <td>-0.960169</td>\n",
              "      <td>-0.196603</td>\n",
              "      <td>-0.553176</td>\n",
              "    </tr>\n",
              "    <tr>\n",
              "      <th>1</th>\n",
              "      <td>-1.186874</td>\n",
              "      <td>-0.802453</td>\n",
              "      <td>-0.548498</td>\n",
              "    </tr>\n",
              "    <tr>\n",
              "      <th>2</th>\n",
              "      <td>-0.709849</td>\n",
              "      <td>-1.571677</td>\n",
              "      <td>-0.323965</td>\n",
              "    </tr>\n",
              "    <tr>\n",
              "      <th>3</th>\n",
              "      <td>1.643399</td>\n",
              "      <td>1.287388</td>\n",
              "      <td>0.985811</td>\n",
              "    </tr>\n",
              "    <tr>\n",
              "      <th>4</th>\n",
              "      <td>0.232395</td>\n",
              "      <td>-1.061130</td>\n",
              "      <td>0.237368</td>\n",
              "    </tr>\n",
              "  </tbody>\n",
              "</table>\n",
              "</div>"
            ],
            "text/plain": [
              "         TV     radio  newspaper\n",
              "0 -0.960169 -0.196603  -0.553176\n",
              "1 -1.186874 -0.802453  -0.548498\n",
              "2 -0.709849 -1.571677  -0.323965\n",
              "3  1.643399  1.287388   0.985811\n",
              "4  0.232395 -1.061130   0.237368"
            ]
          },
          "execution_count": 30,
          "metadata": {},
          "output_type": "execute_result"
        }
      ]
    },
    {
      "cell_type": "code",
      "metadata": {
        "id": "2L0TpqwAkc7-",
        "outputId": "90249113-b16c-4a49-e92c-be8b3c462cae"
      },
      "source": [
        "# Modeling\n",
        "# https://scikit-learn.org/stable/modules/generated/sklearn.tree.DecisionTreeRegressor.html\n",
        "\n",
        "from sklearn.ensemble import RandomForestRegressor\n",
        "\n",
        "\n",
        "regressor = RandomForestRegressor(random_state=0)\n",
        "\n",
        "regressor.fit(X_train, y_train)"
      ],
      "execution_count": null,
      "outputs": [
        {
          "data": {
            "text/plain": [
              "RandomForestRegressor(random_state=0)"
            ]
          },
          "execution_count": 31,
          "metadata": {},
          "output_type": "execute_result"
        }
      ]
    },
    {
      "cell_type": "code",
      "metadata": {
        "id": "PI94LaPDkc7-"
      },
      "source": [
        "y_pred_train = regressor.predict(X_train)\n",
        "\n",
        "y_pred_test = regressor.predict(X_test)"
      ],
      "execution_count": null,
      "outputs": []
    },
    {
      "cell_type": "code",
      "metadata": {
        "id": "QadF-jZbkc7_"
      },
      "source": [
        "import numpy as np\n",
        "from sklearn.metrics import r2_score, mean_squared_error"
      ],
      "execution_count": null,
      "outputs": []
    },
    {
      "cell_type": "code",
      "metadata": {
        "id": "RJEEGpEnkc7_",
        "outputId": "5b71b823-4341-4382-afb0-8306ebffb364"
      },
      "source": [
        "r2_score(y_train, y_pred_train)"
      ],
      "execution_count": null,
      "outputs": [
        {
          "data": {
            "text/plain": [
              "0.9967222343482275"
            ]
          },
          "execution_count": 34,
          "metadata": {},
          "output_type": "execute_result"
        }
      ]
    },
    {
      "cell_type": "code",
      "metadata": {
        "id": "gscz1TCrkc8A",
        "outputId": "4011e83d-7eb2-42a2-9571-dcf5a16b1701"
      },
      "source": [
        "r2_score(y_test, y_pred_test)"
      ],
      "execution_count": null,
      "outputs": [
        {
          "data": {
            "text/plain": [
              "0.969484658431562"
            ]
          },
          "execution_count": 35,
          "metadata": {},
          "output_type": "execute_result"
        }
      ]
    },
    {
      "cell_type": "code",
      "metadata": {
        "id": "OsOqrTkHkc8A"
      },
      "source": [
        ""
      ],
      "execution_count": null,
      "outputs": []
    },
    {
      "cell_type": "code",
      "metadata": {
        "id": "tvbQDjfIkc8A",
        "outputId": "b44dce4c-5209-49ee-874f-75a33a07ab14"
      },
      "source": [
        "param_dist = {\n",
        "    \"criterion\" : ['mse', 'friedman_mse', 'mae', 'poisson'],\n",
        "    'max_depth' : range(2,10),\n",
        "    'max_features' : ['auto', 'sqrt', 'log2'],\n",
        "    'min_samples_split': range(2,10)\n",
        "}\n",
        "param_dist"
      ],
      "execution_count": null,
      "outputs": [
        {
          "data": {
            "text/plain": [
              "{'criterion': ['mse', 'friedman_mse', 'mae', 'poisson'],\n",
              " 'max_depth': range(2, 10),\n",
              " 'max_features': ['auto', 'sqrt', 'log2'],\n",
              " 'min_samples_split': range(2, 10)}"
            ]
          },
          "execution_count": 36,
          "metadata": {},
          "output_type": "execute_result"
        }
      ]
    },
    {
      "cell_type": "code",
      "metadata": {
        "id": "lw63ljuZkc8B",
        "outputId": "c0928337-4d50-4834-c343-531477fef53b"
      },
      "source": [
        "# https://scikit-learn.org/stable/modules/generated/sklearn.model_selection.GridSearchCV.html\n",
        "\n",
        "from sklearn.model_selection import GridSearchCV\n",
        "\n",
        "gridnew = GridSearchCV(regressor, param_grid=param_dist, n_jobs=-1, cv=5)\n",
        "\n",
        "gridnew.fit(X_train, y_train)"
      ],
      "execution_count": null,
      "outputs": [
        {
          "data": {
            "text/plain": [
              "GridSearchCV(cv=5, estimator=RandomForestRegressor(random_state=0), n_jobs=-1,\n",
              "             param_grid={'criterion': ['mse', 'friedman_mse', 'mae', 'poisson'],\n",
              "                         'max_depth': range(2, 10),\n",
              "                         'max_features': ['auto', 'sqrt', 'log2'],\n",
              "                         'min_samples_split': range(2, 10)})"
            ]
          },
          "execution_count": 37,
          "metadata": {},
          "output_type": "execute_result"
        }
      ]
    },
    {
      "cell_type": "code",
      "metadata": {
        "id": "_aZyvoLhkc8B",
        "outputId": "ffc1547d-6450-4560-9cf8-57c92c59dab7"
      },
      "source": [
        "gridnew.best_estimator_"
      ],
      "execution_count": null,
      "outputs": [
        {
          "data": {
            "text/plain": [
              "RandomForestRegressor(criterion='mae', max_depth=9, random_state=0)"
            ]
          },
          "execution_count": 45,
          "metadata": {},
          "output_type": "execute_result"
        }
      ]
    },
    {
      "cell_type": "code",
      "metadata": {
        "id": "RrA9io-Ikc8B",
        "outputId": "e38a5e43-31b5-4b7a-9108-d70dae24aaee"
      },
      "source": [
        "gridnew.best_params_"
      ],
      "execution_count": null,
      "outputs": [
        {
          "data": {
            "text/plain": [
              "{'criterion': 'mae',\n",
              " 'max_depth': 9,\n",
              " 'max_features': 'auto',\n",
              " 'min_samples_split': 2}"
            ]
          },
          "execution_count": 46,
          "metadata": {},
          "output_type": "execute_result"
        }
      ]
    },
    {
      "cell_type": "code",
      "metadata": {
        "id": "nKomNJV8kc8C",
        "outputId": "c859e09b-d0b7-4407-9770-b016cca5b51d"
      },
      "source": [
        "gridnew.best_score_"
      ],
      "execution_count": null,
      "outputs": [
        {
          "data": {
            "text/plain": [
              "0.9761602523521807"
            ]
          },
          "execution_count": 47,
          "metadata": {},
          "output_type": "execute_result"
        }
      ]
    },
    {
      "cell_type": "code",
      "metadata": {
        "id": "L_I5zGj_kc8C"
      },
      "source": [
        "y_pred_gridnew = gridnew.predict(X_test)"
      ],
      "execution_count": null,
      "outputs": []
    },
    {
      "cell_type": "code",
      "metadata": {
        "id": "0X7qPLizkc8C"
      },
      "source": [
        "y_pred_gridnewtrain = gridnew.predict(X_train)"
      ],
      "execution_count": null,
      "outputs": []
    },
    {
      "cell_type": "code",
      "metadata": {
        "id": "dcIDFThJkc8D",
        "outputId": "146b658b-3d79-4c32-d94b-566ab58e3b98"
      },
      "source": [
        "r2_score(y_test, y_pred_gridnew)"
      ],
      "execution_count": null,
      "outputs": [
        {
          "data": {
            "text/plain": [
              "0.9700305377577575"
            ]
          },
          "execution_count": 50,
          "metadata": {},
          "output_type": "execute_result"
        }
      ]
    },
    {
      "cell_type": "code",
      "metadata": {
        "id": "G5bjrCSrkc8D",
        "outputId": "0c8284fd-e527-4237-9814-e079a4754400"
      },
      "source": [
        "r2_score(y_train, y_pred_gridnewtrain)"
      ],
      "execution_count": null,
      "outputs": [
        {
          "data": {
            "text/plain": [
              "0.9966892530337691"
            ]
          },
          "execution_count": 51,
          "metadata": {},
          "output_type": "execute_result"
        }
      ]
    },
    {
      "cell_type": "markdown",
      "metadata": {
        "id": "6SQsm9Dnkc8D"
      },
      "source": [
        "# Happy Learning"
      ]
    }
  ]
}